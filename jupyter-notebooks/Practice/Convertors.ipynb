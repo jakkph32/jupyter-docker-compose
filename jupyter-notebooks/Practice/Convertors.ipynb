{
 "cells": [
  {
   "cell_type": "markdown",
   "id": "694a97ba",
   "metadata": {},
   "source": [
    "# PDF to PPTX"
   ]
  },
  {
   "cell_type": "code",
   "execution_count": 1,
   "id": "5943b2a8",
   "metadata": {},
   "outputs": [
    {
     "name": "stdout",
     "output_type": "stream",
     "text": [
      "Defaulting to user installation because normal site-packages is not writeable\n",
      "Collecting pdf2pptx\n",
      "  Using cached pdf2pptx-1.0.5-py3-none-any.whl (4.6 kB)\n",
      "Collecting pymupdf==1.20.1 (from pdf2pptx)\n",
      "  Using cached PyMuPDF-1.20.1.tar.gz (90.4 MB)\n",
      "  Preparing metadata (setup.py): started\n",
      "  Preparing metadata (setup.py): finished with status 'done'\n",
      "Collecting python-pptx (from pdf2pptx)\n",
      "  Using cached python_pptx-0.6.21-py3-none-any.whl\n",
      "Requirement already satisfied: click in c:\\programdata\\anaconda3\\lib\\site-packages (from pdf2pptx) (8.0.4)\n",
      "Requirement already satisfied: tqdm in c:\\programdata\\anaconda3\\lib\\site-packages (from pdf2pptx) (4.65.0)\n",
      "Requirement already satisfied: colorama in c:\\programdata\\anaconda3\\lib\\site-packages (from click->pdf2pptx) (0.4.6)\n",
      "Requirement already satisfied: lxml>=3.1.0 in c:\\programdata\\anaconda3\\lib\\site-packages (from python-pptx->pdf2pptx) (4.9.2)\n",
      "Requirement already satisfied: Pillow>=3.3.2 in c:\\programdata\\anaconda3\\lib\\site-packages (from python-pptx->pdf2pptx) (9.4.0)\n",
      "Collecting XlsxWriter>=0.5.7 (from python-pptx->pdf2pptx)\n",
      "  Using cached XlsxWriter-3.1.2-py3-none-any.whl (153 kB)\n",
      "Building wheels for collected packages: pymupdf\n",
      "  Building wheel for pymupdf (setup.py): started\n",
      "  Building wheel for pymupdf (setup.py): finished with status 'error'\n",
      "  Running setup.py clean for pymupdf\n",
      "Failed to build pymupdf\n",
      "Note: you may need to restart the kernel to use updated packages.\n"
     ]
    },
    {
     "name": "stderr",
     "output_type": "stream",
     "text": [
      "  error: subprocess-exited-with-error\n",
      "  \n",
      "  python setup.py bdist_wheel did not run successfully.\n",
      "  exit code: 1\n",
      "  \n",
      "  [88 lines of output]\n",
      "  PyMuPDF/setup.py: sys.argv: ['C:\\\\Users\\\\ankur\\\\AppData\\\\Local\\\\Temp\\\\pip-install-7fkrbkn3\\\\pymupdf_9b64e286305149e6a1c8589772f4b1c8\\\\setup.py', 'bdist_wheel', '-d', 'C:\\\\Users\\\\ankur\\\\AppData\\\\Local\\\\Temp\\\\pip-wheel-ua3rfry0']\n",
      "  PyMuPDF/setup.py: os.getcwd(): C:\\Users\\ankur\\AppData\\Local\\Temp\\pip-install-7fkrbkn3\\pymupdf_9b64e286305149e6a1c8589772f4b1c8\n",
      "  PyMuPDF/setup.py: __file__: C:\\Users\\ankur\\AppData\\Local\\Temp\\pip-install-7fkrbkn3\\pymupdf_9b64e286305149e6a1c8589772f4b1c8\\setup.py\n",
      "  PyMuPDF/setup.py: $PYTHON_ARCH: None\n",
      "  PyMuPDF/setup.py: os.environ (62):\n",
      "  PyMuPDF/setup.py:     ALLUSERSPROFILE: C:\\ProgramData\n",
      "  PyMuPDF/setup.py:     APPDATA: C:\\Users\\ankur\\AppData\\Roaming\n",
      "  PyMuPDF/setup.py:     CLICOLOR: 1\n",
      "  PyMuPDF/setup.py:     CLICOLOR_FORCE: 1\n",
      "  PyMuPDF/setup.py:     COMMONPROGRAMFILES: C:\\Program Files\\Common Files\n",
      "  PyMuPDF/setup.py:     COMMONPROGRAMFILES(X86): C:\\Program Files (x86)\\Common Files\n",
      "  PyMuPDF/setup.py:     COMMONPROGRAMW6432: C:\\Program Files\\Common Files\n",
      "  PyMuPDF/setup.py:     COMPUTERNAME: DESKTOP-QNSBQ1J\n",
      "  PyMuPDF/setup.py:     COMSPEC: C:\\WINDOWS\\system32\\cmd.exe\n",
      "  PyMuPDF/setup.py:     CONDA_DEFAULT_ENV: base\n",
      "  PyMuPDF/setup.py:     CONDA_EXE: C:\\ProgramData\\anaconda3\\Scripts\\conda.exe\n",
      "  PyMuPDF/setup.py:     CONDA_PROMPT_MODIFIER: (base)\n",
      "  PyMuPDF/setup.py:     CONDA_PYTHON_EXE: C:\\ProgramData\\anaconda3\\python.exe\n",
      "  PyMuPDF/setup.py:     CONDA_SHLVL: 1\n",
      "  PyMuPDF/setup.py:     DRIVERDATA: C:\\Windows\\System32\\Drivers\\DriverData\n",
      "  PyMuPDF/setup.py:     FORCE_COLOR: 1\n",
      "  PyMuPDF/setup.py:     GIT_PAGER: cat\n",
      "  PyMuPDF/setup.py:     HOMEDRIVE: C:\n",
      "  PyMuPDF/setup.py:     HOMEPATH: \\Users\\ankur\n",
      "  PyMuPDF/setup.py:     LOCALAPPDATA: C:\\Users\\ankur\\AppData\\Local\n",
      "  PyMuPDF/setup.py:     LOGONSERVER: \\\\DESKTOP-QNSBQ1J\n",
      "  PyMuPDF/setup.py:     MPLBACKEND: module://matplotlib_inline.backend_inline\n",
      "  PyMuPDF/setup.py:     NUMBER_OF_PROCESSORS: 8\n",
      "  PyMuPDF/setup.py:     ONEDRIVE: C:\\Users\\ankur\\OneDrive\n",
      "  PyMuPDF/setup.py:     ONEDRIVECONSUMER: C:\\Users\\ankur\\OneDrive\n",
      "  PyMuPDF/setup.py:     OS: Windows_NT\n",
      "  PyMuPDF/setup.py:     PAGER: cat\n",
      "  PyMuPDF/setup.py:     PATH: C:\\ProgramData\\anaconda3;C:\\ProgramData\\anaconda3\\Library\\mingw-w64\\bin;C:\\ProgramData\\anaconda3\\Library\\usr\\bin;C:\\ProgramData\\anaconda3\\Library\\bin;C:\\ProgramData\\anaconda3\\Scripts;C:\\ProgramData\\anaconda3\\bin;C:\\ProgramData\\anaconda3\\condabin;C:\\ProgramData\\anaconda3;C:\\ProgramData\\anaconda3\\Library\\mingw-w64\\bin;C:\\ProgramData\\anaconda3\\Library\\usr\\bin;C:\\ProgramData\\anaconda3\\Library\\bin;C:\\ProgramData\\anaconda3\\Scripts;C:\\WINDOWS\\system32;C:\\WINDOWS;C:\\WINDOWS\\System32\\Wbem;C:\\WINDOWS\\System32\\WindowsPowerShell\\v1.0;C:\\WINDOWS\\System32\\OpenSSH;C:\\Program Files (x86)\\HP\\Common\\HPDestPlgIn;C:\\Program Files\\Microsoft SQL Server\\130\\Tools\\Binn;C:\\Program Files\\TortoiseGit\\bin;C:\\Program Files\\nodejs;C:\\Program Files\\Docker\\Docker\\resources\\bin;C:\\Program Files\\PuTTY;C:\\Program Files\\Microsoft SQL Server\\150\\Tools\\Binn;C:\\Program Files\\Microsoft SQL Server\\Client SDK\\ODBC\\170\\Tools\\Binn;C:\\Program Files\\dotnet;C:\\Program Files\\Git\\cmd;C:\\Program Files\\Amazon\\AWSCLIV2;C:\\Users\\ankur\\AppData\\Local\\Programs\\Python\\Python39\\Scripts;C:\\Users\\ankur\\AppData\\Local\\Programs\\Python\\Python39;C:\\Users\\ankur\\AppData\\Local\\Programs\\Python\\Python38-32\\Scripts;C:\\Users\\ankur\\AppData\\Local\\Programs\\Python\\Python38-32;C:\\Users\\ankur\\AppData\\Local\\Microsoft\\WindowsApps;C:\\Program Files (x86)\\HP\\Common\\HPDestPlgIn;C:\\Users\\ankur\\AppData\\Local\\GitHubDesktop\\bin;C:\\Users\\ankur\\AppData\\Roaming\\npm;C:\\Program Files\\JetBrains\\PyCharm Community Edition 2023.2\\bin;.;C:\\Users\\ankur\\.dotnet\\tools;C:\\Users\\ankur\\AppData\\Local\\Programs\\Microsoft VS Code\\bin\n",
      "  PyMuPDF/setup.py:     PATHEXT: .COM;.EXE;.BAT;.CMD;.VBS;.VBE;.JS;.JSE;.WSF;.WSH;.MSC\n",
      "  PyMuPDF/setup.py:     PROCESSOR_ARCHITECTURE: AMD64\n",
      "  PyMuPDF/setup.py:     PROCESSOR_IDENTIFIER: Intel64 Family 6 Model 142 Stepping 12, GenuineIntel\n",
      "  PyMuPDF/setup.py:     PROCESSOR_LEVEL: 6\n",
      "  PyMuPDF/setup.py:     PROCESSOR_REVISION: 8e0c\n",
      "  PyMuPDF/setup.py:     PROGRAMDATA: C:\\ProgramData\n",
      "  PyMuPDF/setup.py:     PROGRAMFILES: C:\\Program Files\n",
      "  PyMuPDF/setup.py:     PROGRAMFILES(X86): C:\\Program Files (x86)\n",
      "  PyMuPDF/setup.py:     PROGRAMW6432: C:\\Program Files\n",
      "  PyMuPDF/setup.py:     PROMPT: (base) $P$G\n",
      "  PyMuPDF/setup.py:     PSMODULEPATH: C:\\Program Files\\WindowsPowerShell\\Modules;C:\\WINDOWS\\system32\\WindowsPowerShell\\v1.0\\Modules\n",
      "  PyMuPDF/setup.py:     PUBLIC: C:\\Users\\Public\n",
      "  PyMuPDF/setup.py:     PYCHARM COMMUNITY EDITION: C:\\Program Files\\JetBrains\\PyCharm Community Edition 2023.2\\bin;\n",
      "  PyMuPDF/setup.py:     SESSIONNAME: Console\n",
      "  PyMuPDF/setup.py:     SYSTEMDRIVE: C:\n",
      "  PyMuPDF/setup.py:     SYSTEMROOT: C:\\WINDOWS\n",
      "  PyMuPDF/setup.py:     TEMP: C:\\Users\\ankur\\AppData\\Local\\Temp\n",
      "  PyMuPDF/setup.py:     TERM: xterm-color\n",
      "  PyMuPDF/setup.py:     TMP: C:\\Users\\ankur\\AppData\\Local\\Temp\n",
      "  PyMuPDF/setup.py:     USERDOMAIN: DESKTOP-QNSBQ1J\n",
      "  PyMuPDF/setup.py:     USERDOMAIN_ROAMINGPROFILE: DESKTOP-QNSBQ1J\n",
      "  PyMuPDF/setup.py:     USERNAME: ankur\n",
      "  PyMuPDF/setup.py:     USERPROFILE: C:\\Users\\ankur\n",
      "  PyMuPDF/setup.py:     VBOX_MSI_INSTALL_PATH: C:\\Program Files\\Oracle\\VirtualBox\\\n",
      "  PyMuPDF/setup.py:     WINDIR: C:\\WINDOWS\n",
      "  PyMuPDF/setup.py:     ZES_ENABLE_SYSMAN: 1\n",
      "  PyMuPDF/setup.py:     __PSLOCKDOWNPOLICY: 0\n",
      "  PyMuPDF/setup.py:     CONDA_PREFIX: C:\\ProgramData\\anaconda3\n",
      "  PyMuPDF/setup.py:     CONDA_ROOT: C:\\ProgramData\\anaconda3\n",
      "  PyMuPDF/setup.py:     PYDEVD_USE_FRAME_EVAL: NO\n",
      "  PyMuPDF/setup.py:     JPY_INTERRUPT_EVENT: 4500\n",
      "  PyMuPDF/setup.py:     IPY_INTERRUPT_EVENT: 4500\n",
      "  PyMuPDF/setup.py:     JPY_PARENT_PID: 4504\n",
      "  PyMuPDF/setup.py:     PIP_BUILD_TRACKER: C:\\Users\\ankur\\AppData\\Local\\Temp\\pip-build-tracker-vw38i8sl\n",
      "  Traceback (most recent call last):\n",
      "    File \"<string>\", line 2, in <module>\n",
      "    File \"<pip-setuptools-caller>\", line 34, in <module>\n",
      "    File \"C:\\Users\\ankur\\AppData\\Local\\Temp\\pip-install-7fkrbkn3\\pymupdf_9b64e286305149e6a1c8589772f4b1c8\\setup.py\", line 477, in <module>\n",
      "      mupdf_local = get_mupdf()\n",
      "                    ^^^^^^^^^^^\n",
      "    File \"C:\\Users\\ankur\\AppData\\Local\\Temp\\pip-install-7fkrbkn3\\pymupdf_9b64e286305149e6a1c8589772f4b1c8\\setup.py\", line 445, in get_mupdf\n",
      "      return tar_extract( mupdf_tgz, exists='return')\n",
      "             ^^^^^^^^^^^^^^^^^^^^^^^^^^^^^^^^^^^^^^^^\n",
      "    File \"C:\\Users\\ankur\\AppData\\Local\\Temp\\pip-install-7fkrbkn3\\pymupdf_9b64e286305149e6a1c8589772f4b1c8\\setup.py\", line 181, in tar_extract\n",
      "      t.extractall()\n",
      "    File \"C:\\ProgramData\\anaconda3\\Lib\\tarfile.py\", line 2059, in extractall\n",
      "      self.extract(tarinfo, path, set_attrs=not tarinfo.isdir(),\n",
      "    File \"C:\\ProgramData\\anaconda3\\Lib\\tarfile.py\", line 2100, in extract\n",
      "      self._extract_member(tarinfo, os.path.join(path, tarinfo.name),\n",
      "    File \"C:\\ProgramData\\anaconda3\\Lib\\tarfile.py\", line 2173, in _extract_member\n",
      "      self.makefile(tarinfo, targetpath)\n",
      "    File \"C:\\ProgramData\\anaconda3\\Lib\\tarfile.py\", line 2214, in makefile\n",
      "      with bltn_open(targetpath, \"wb\") as target:\n",
      "           ^^^^^^^^^^^^^^^^^^^^^^^^^^^\n",
      "  FileNotFoundError: [Errno 2] No such file or directory: '.\\\\mupdf-1.20.0-source\\\\thirdparty\\\\harfbuzz\\\\test\\\\shaping\\\\texts\\\\in-house\\\\shaper-indic\\\\script-devanagari\\\\utrrs\\\\codepoint\\\\IndicFontFeatureCodepoint-AdditionalConsonants.txt'\n",
      "  [end of output]\n",
      "  \n",
      "  note: This error originates from a subprocess, and is likely not a problem with pip.\n",
      "  ERROR: Failed building wheel for pymupdf\n",
      "ERROR: Could not build wheels for pymupdf, which is required to install pyproject.toml-based projects\n"
     ]
    }
   ],
   "source": [
    "pip install pdf2pptx"
   ]
  },
  {
   "cell_type": "code",
   "execution_count": 4,
   "id": "3d6d3828",
   "metadata": {},
   "outputs": [
    {
     "ename": "ModuleNotFoundError",
     "evalue": "No module named 'pdf2pptx'",
     "output_type": "error",
     "traceback": [
      "\u001b[1;31m---------------------------------------------------------------------------\u001b[0m",
      "\u001b[1;31mModuleNotFoundError\u001b[0m                       Traceback (most recent call last)",
      "Cell \u001b[1;32mIn[4], line 1\u001b[0m\n\u001b[1;32m----> 1\u001b[0m \u001b[38;5;28;01mimport\u001b[39;00m \u001b[38;5;21;01mpdf2pptx\u001b[39;00m\n",
      "\u001b[1;31mModuleNotFoundError\u001b[0m: No module named 'pdf2pptx'"
     ]
    }
   ],
   "source": [
    "import pdf2pptx"
   ]
  },
  {
   "cell_type": "code",
   "execution_count": 5,
   "id": "ae072591",
   "metadata": {},
   "outputs": [
    {
     "ename": "ModuleNotFoundError",
     "evalue": "No module named 'aspose'",
     "output_type": "error",
     "traceback": [
      "\u001b[1;31m---------------------------------------------------------------------------\u001b[0m",
      "\u001b[1;31mModuleNotFoundError\u001b[0m                       Traceback (most recent call last)",
      "Cell \u001b[1;32mIn[5], line 1\u001b[0m\n\u001b[1;32m----> 1\u001b[0m \u001b[38;5;28;01mimport\u001b[39;00m \u001b[38;5;21;01maspose\u001b[39;00m\u001b[38;5;21;01m.\u001b[39;00m\u001b[38;5;21;01mslides\u001b[39;00m \u001b[38;5;28;01mas\u001b[39;00m \u001b[38;5;21;01mslides\u001b[39;00m\n",
      "\u001b[1;31mModuleNotFoundError\u001b[0m: No module named 'aspose'"
     ]
    }
   ],
   "source": [
    "import aspose.slides as slides"
   ]
  },
  {
   "cell_type": "code",
   "execution_count": 6,
   "id": "e75dd85d",
   "metadata": {},
   "outputs": [
    {
     "name": "stdout",
     "output_type": "stream",
     "text": [
      "Defaulting to user installation because normal site-packages is not writeable\n",
      "Collecting aspose.slides\n",
      "  Downloading Aspose.Slides-23.7.0-py3-none-win_amd64.whl (64.8 MB)\n",
      "                                              0.0/64.8 MB ? eta -:--:--\n",
      "                                              0.2/64.8 MB 6.3 MB/s eta 0:00:11\n",
      "                                              0.8/64.8 MB 8.3 MB/s eta 0:00:08\n",
      "     -                                        2.2/64.8 MB 15.3 MB/s eta 0:00:05\n",
      "     --                                       3.5/64.8 MB 18.7 MB/s eta 0:00:04\n",
      "     ---                                      4.9/64.8 MB 21.0 MB/s eta 0:00:03\n",
      "     ---                                      6.3/64.8 MB 22.3 MB/s eta 0:00:03\n",
      "     ----                                     7.2/64.8 MB 21.9 MB/s eta 0:00:03\n",
      "     ----                                     8.1/64.8 MB 21.6 MB/s eta 0:00:03\n",
      "     -----                                    9.0/64.8 MB 21.4 MB/s eta 0:00:03\n",
      "     -----                                   10.0/64.8 MB 21.2 MB/s eta 0:00:03\n",
      "     ------                                  10.7/64.8 MB 22.5 MB/s eta 0:00:03\n",
      "     -------                                 11.8/64.8 MB 23.4 MB/s eta 0:00:03\n",
      "     -------                                 12.7/64.8 MB 22.6 MB/s eta 0:00:03\n",
      "     --------                                13.6/64.8 MB 21.8 MB/s eta 0:00:03\n",
      "     --------                                14.1/64.8 MB 20.5 MB/s eta 0:00:03\n",
      "     ---------                               15.4/64.8 MB 19.8 MB/s eta 0:00:03\n",
      "     ---------                               16.3/64.8 MB 19.3 MB/s eta 0:00:03\n",
      "     ----------                              17.2/64.8 MB 19.2 MB/s eta 0:00:03\n",
      "     ----------                              17.8/64.8 MB 19.3 MB/s eta 0:00:03\n",
      "     ----------                              17.8/64.8 MB 19.3 MB/s eta 0:00:03\n",
      "     -----------                             18.5/64.8 MB 16.8 MB/s eta 0:00:03\n",
      "     -----------                             19.4/64.8 MB 16.8 MB/s eta 0:00:03\n",
      "     ------------                            20.7/64.8 MB 17.7 MB/s eta 0:00:03\n",
      "     -------------                           21.7/64.8 MB 17.7 MB/s eta 0:00:03\n",
      "     -------------                           22.7/64.8 MB 17.7 MB/s eta 0:00:03\n",
      "     --------------                          23.6/64.8 MB 18.2 MB/s eta 0:00:03\n",
      "     --------------                          24.6/64.8 MB 18.2 MB/s eta 0:00:03\n",
      "     ---------------                         25.5/64.8 MB 17.7 MB/s eta 0:00:03\n",
      "     ---------------                         26.4/64.8 MB 17.7 MB/s eta 0:00:03\n",
      "     ----------------                        27.3/64.8 MB 17.7 MB/s eta 0:00:03\n",
      "     ----------------                        28.2/64.8 MB 21.1 MB/s eta 0:00:02\n",
      "     -----------------                       29.1/64.8 MB 20.5 MB/s eta 0:00:02\n",
      "     ------------------                      30.0/64.8 MB 19.8 MB/s eta 0:00:02\n",
      "     ------------------                      30.9/64.8 MB 19.8 MB/s eta 0:00:02\n",
      "     -------------------                     31.8/64.8 MB 19.2 MB/s eta 0:00:02\n",
      "     -------------------                     32.7/64.8 MB 19.8 MB/s eta 0:00:02\n",
      "     --------------------                    33.5/64.8 MB 18.7 MB/s eta 0:00:02\n",
      "     --------------------                    34.5/64.8 MB 19.8 MB/s eta 0:00:02\n",
      "     ---------------------                   35.4/64.8 MB 19.9 MB/s eta 0:00:02\n",
      "     ---------------------                   36.4/64.8 MB 19.3 MB/s eta 0:00:02\n",
      "     ----------------------                  37.3/64.8 MB 19.3 MB/s eta 0:00:02\n",
      "     -----------------------                 38.2/64.8 MB 19.2 MB/s eta 0:00:02\n",
      "     -----------------------                 39.1/64.8 MB 19.2 MB/s eta 0:00:02\n",
      "     ------------------------                40.0/64.8 MB 19.3 MB/s eta 0:00:02\n",
      "     ------------------------                40.9/64.8 MB 19.8 MB/s eta 0:00:02\n",
      "     -------------------------               41.8/64.8 MB 19.3 MB/s eta 0:00:02\n",
      "     -------------------------               42.7/64.8 MB 19.9 MB/s eta 0:00:02\n",
      "     --------------------------              43.6/64.8 MB 19.9 MB/s eta 0:00:02\n",
      "     --------------------------              44.5/64.8 MB 19.9 MB/s eta 0:00:02\n",
      "     ---------------------------             45.4/64.8 MB 19.8 MB/s eta 0:00:01\n",
      "     ---------------------------             46.3/64.8 MB 19.8 MB/s eta 0:00:01\n",
      "     ----------------------------            47.2/64.8 MB 19.3 MB/s eta 0:00:01\n",
      "     ----------------------------            48.2/64.8 MB 19.8 MB/s eta 0:00:01\n",
      "     -----------------------------           49.1/64.8 MB 19.8 MB/s eta 0:00:01\n",
      "     ------------------------------          50.0/64.8 MB 19.9 MB/s eta 0:00:01\n",
      "     ------------------------------          50.9/64.8 MB 19.3 MB/s eta 0:00:01\n",
      "     -------------------------------         51.7/64.8 MB 19.3 MB/s eta 0:00:01\n",
      "     -------------------------------         52.7/64.8 MB 19.8 MB/s eta 0:00:01\n",
      "     --------------------------------        53.6/64.8 MB 19.8 MB/s eta 0:00:01\n",
      "     --------------------------------        54.5/64.8 MB 19.8 MB/s eta 0:00:01\n",
      "     ---------------------------------       55.4/64.8 MB 19.2 MB/s eta 0:00:01\n",
      "     ---------------------------------       56.3/64.8 MB 19.8 MB/s eta 0:00:01\n",
      "     ----------------------------------      57.2/64.8 MB 19.3 MB/s eta 0:00:01\n",
      "     ----------------------------------      58.1/64.8 MB 19.3 MB/s eta 0:00:01\n",
      "     -----------------------------------     59.0/64.8 MB 19.3 MB/s eta 0:00:01\n",
      "     ------------------------------------    59.9/64.8 MB 19.8 MB/s eta 0:00:01\n",
      "     ------------------------------------    60.8/64.8 MB 19.8 MB/s eta 0:00:01\n",
      "     -------------------------------------   61.7/64.8 MB 19.8 MB/s eta 0:00:01\n",
      "     -------------------------------------   62.7/64.8 MB 19.2 MB/s eta 0:00:01\n",
      "     --------------------------------------  63.6/64.8 MB 19.2 MB/s eta 0:00:01\n",
      "     --------------------------------------  64.5/64.8 MB 19.3 MB/s eta 0:00:01\n",
      "     --------------------------------------  64.8/64.8 MB 19.3 MB/s eta 0:00:01\n",
      "     --------------------------------------  64.8/64.8 MB 19.3 MB/s eta 0:00:01\n",
      "     --------------------------------------  64.8/64.8 MB 19.3 MB/s eta 0:00:01\n",
      "     --------------------------------------  64.8/64.8 MB 19.3 MB/s eta 0:00:01\n",
      "     --------------------------------------- 64.8/64.8 MB 13.6 MB/s eta 0:00:00\n",
      "Installing collected packages: aspose.slides\n",
      "Successfully installed aspose.slides-23.7.0\n",
      "Note: you may need to restart the kernel to use updated packages.\n"
     ]
    }
   ],
   "source": [
    "pip install aspose.slides"
   ]
  },
  {
   "cell_type": "code",
   "execution_count": 4,
   "id": "b173b756",
   "metadata": {},
   "outputs": [
    {
     "ename": "RuntimeError",
     "evalue": "Proxy error(NullReferenceException): Object reference not set to an instance of an object.",
     "output_type": "error",
     "traceback": [
      "\u001b[1;31m---------------------------------------------------------------------------\u001b[0m",
      "\u001b[1;31mRuntimeError\u001b[0m                              Traceback (most recent call last)",
      "Cell \u001b[1;32mIn[4], line 9\u001b[0m\n\u001b[0;32m      2\u001b[0m \u001b[38;5;66;03m#create a new presentation\u001b[39;00m\n\u001b[0;32m      3\u001b[0m \u001b[38;5;28;01mwith\u001b[39;00m slides\u001b[38;5;241m.\u001b[39mPresentation() \u001b[38;5;28;01mas\u001b[39;00m pres:\n\u001b[0;32m      4\u001b[0m \n\u001b[0;32m      5\u001b[0m     \u001b[38;5;66;03m#//remove the default slide \u001b[39;00m\n\u001b[0;32m      6\u001b[0m     \u001b[38;5;66;03m#pres.slides.remove_at(0)\u001b[39;00m\n\u001b[0;32m      7\u001b[0m \n\u001b[0;32m      8\u001b[0m     \u001b[38;5;66;03m#import PDF data to the slide\u001b[39;00m\n\u001b[1;32m----> 9\u001b[0m     pres\u001b[38;5;241m.\u001b[39mslides\u001b[38;5;241m.\u001b[39madd_from_pdf(\u001b[38;5;124m\"\u001b[39m\u001b[38;5;124mfile.pdf\u001b[39m\u001b[38;5;124m\"\u001b[39m)\n\u001b[0;32m     11\u001b[0m     \u001b[38;5;66;03m#save the PPT file\u001b[39;00m\n\u001b[0;32m     12\u001b[0m     pres\u001b[38;5;241m.\u001b[39msave(\u001b[38;5;124m\"\u001b[39m\u001b[38;5;124mfile.pptx\u001b[39m\u001b[38;5;124m\"\u001b[39m, slides\u001b[38;5;241m.\u001b[39mexport\u001b[38;5;241m.\u001b[39mSaveFormat\u001b[38;5;241m.\u001b[39mPPTX)\n",
      "\u001b[1;31mRuntimeError\u001b[0m: Proxy error(NullReferenceException): Object reference not set to an instance of an object."
     ]
    }
   ],
   "source": [
    "import aspose.slides as slides\n",
    "#create a new presentation\n",
    "with slides.Presentation() as pres:\n",
    "\n",
    "    #//remove the default slide \n",
    "    #pres.slides.remove_at(0)\n",
    "\n",
    "    #import PDF data to the slide\n",
    "    pres.slides.add_from_pdf(\"file.pdf\")\n",
    "\n",
    "    #save the PPT file\n",
    "    pres.save(\"file.pptx\", slides.export.SaveFormat.PPTX)"
   ]
  },
  {
   "cell_type": "code",
   "execution_count": null,
   "id": "6e77d902",
   "metadata": {},
   "outputs": [],
   "source": []
  }
 ],
 "metadata": {
  "kernelspec": {
   "display_name": "Python 3 (ipykernel)",
   "language": "python",
   "name": "python3"
  },
  "language_info": {
   "codemirror_mode": {
    "name": "ipython",
    "version": 3
   },
   "file_extension": ".py",
   "mimetype": "text/x-python",
   "name": "python",
   "nbconvert_exporter": "python",
   "pygments_lexer": "ipython3",
   "version": "3.11.3"
  }
 },
 "nbformat": 4,
 "nbformat_minor": 5
}
