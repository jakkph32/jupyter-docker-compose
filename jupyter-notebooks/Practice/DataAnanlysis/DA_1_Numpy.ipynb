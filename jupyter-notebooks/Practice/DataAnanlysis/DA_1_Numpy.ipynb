{
 "cells": [
  {
   "cell_type": "markdown",
   "id": "5ced2ecf",
   "metadata": {},
   "source": [
    "# Numpy"
   ]
  },
  {
   "cell_type": "code",
   "execution_count": 1,
   "id": "988a58e8",
   "metadata": {
    "tags": []
   },
   "outputs": [],
   "source": [
    "import numpy as np"
   ]
  },
  {
   "cell_type": "code",
   "execution_count": 2,
   "id": "c8e9b890",
   "metadata": {},
   "outputs": [],
   "source": [
    "# Numpy is for array-> data of same type\n",
    "# Type -> Single dimention and multi dimensional array"
   ]
  },
  {
   "cell_type": "code",
   "execution_count": 4,
   "id": "811c83f8",
   "metadata": {},
   "outputs": [
    {
     "name": "stdout",
     "output_type": "stream",
     "text": [
      "2\n",
      "5\n"
     ]
    }
   ],
   "source": [
    "arr=np.array([[1,2,3],[4,5,6]])\n",
    "print(arr.ndim)\n",
    "print(arr[1][1])"
   ]
  },
  {
   "cell_type": "code",
   "execution_count": 6,
   "id": "6d8c4824",
   "metadata": {},
   "outputs": [
    {
     "data": {
      "text/plain": [
       "numpy.ndarray"
      ]
     },
     "execution_count": 6,
     "metadata": {},
     "output_type": "execute_result"
    }
   ],
   "source": [
    "type(a)"
   ]
  },
  {
   "cell_type": "markdown",
   "id": "fb339d3d",
   "metadata": {},
   "source": [
    "## Types of Array\n",
    "#### Scalar = 0 Dimension , Rank=0\n",
    "#### Vector = 1 Dimension , Rank=1\n",
    "#### Matrix = 2 Dimension , Rank=2\n",
    "#### Tensor = 3 or more Dimension , Rank=3"
   ]
  },
  {
   "cell_type": "code",
   "execution_count": 8,
   "id": "0cd81466",
   "metadata": {},
   "outputs": [
    {
     "data": {
      "text/plain": [
       "0"
      ]
     },
     "execution_count": 8,
     "metadata": {},
     "output_type": "execute_result"
    }
   ],
   "source": [
    "scalar=np.array(1)\n",
    "scalar.ndim"
   ]
  },
  {
   "cell_type": "code",
   "execution_count": 9,
   "id": "f2d38999",
   "metadata": {},
   "outputs": [
    {
     "data": {
      "text/plain": [
       "1"
      ]
     },
     "execution_count": 9,
     "metadata": {},
     "output_type": "execute_result"
    }
   ],
   "source": [
    "vector=np.array([1,2,3])\n",
    "vector.ndim"
   ]
  },
  {
   "cell_type": "code",
   "execution_count": 10,
   "id": "e9b3984d",
   "metadata": {},
   "outputs": [
    {
     "data": {
      "text/plain": [
       "2"
      ]
     },
     "execution_count": 10,
     "metadata": {},
     "output_type": "execute_result"
    }
   ],
   "source": [
    "matrix=np.array([[1,2,3],[1,2,3],[1,2,3]])\n",
    "matrix.ndim"
   ]
  },
  {
   "cell_type": "code",
   "execution_count": 11,
   "id": "f6ec9f57",
   "metadata": {},
   "outputs": [
    {
     "data": {
      "text/plain": [
       "3"
      ]
     },
     "execution_count": 11,
     "metadata": {},
     "output_type": "execute_result"
    }
   ],
   "source": [
    "tensor=np.array([[[1,2,3],[1,2,3],[1,2,3]],[[1,2,3],[1,2,3],[1,2,3]],[[1,2,3],[1,2,3],[1,2,3]]])\n",
    "tensor.ndim"
   ]
  },
  {
   "cell_type": "code",
   "execution_count": 12,
   "id": "cfa29164",
   "metadata": {},
   "outputs": [
    {
     "name": "stdout",
     "output_type": "stream",
     "text": [
      "[[[1 2 3]\n",
      "  [1 2 3]\n",
      "  [1 2 3]]\n",
      "\n",
      " [[1 2 3]\n",
      "  [1 2 3]\n",
      "  [1 2 3]]\n",
      "\n",
      " [[1 2 3]\n",
      "  [1 2 3]\n",
      "  [1 2 3]]]\n"
     ]
    }
   ],
   "source": [
    "print (tensor) # as its an array you will not see comma's because its an array not list"
   ]
  },
  {
   "cell_type": "code",
   "execution_count": 13,
   "id": "01b89d2a",
   "metadata": {},
   "outputs": [
    {
     "name": "stdout",
     "output_type": "stream",
     "text": [
      "[1 2 3 4]\n",
      "[1 2 3 4]\n"
     ]
    }
   ],
   "source": [
    "# Creating array\n",
    "l_array= np.array([1,2,3,4]) # from list\n",
    "l_tuple= np.array((1,2,3,4)) # from tuple\n",
    "print(l_array)\n",
    "print(l_tuple)"
   ]
  },
  {
   "cell_type": "markdown",
   "id": "3b2f48fd",
   "metadata": {},
   "source": [
    "#### Data type"
   ]
  },
  {
   "cell_type": "code",
   "execution_count": 18,
   "id": "c55dbe6a",
   "metadata": {},
   "outputs": [
    {
     "data": {
      "text/plain": [
       "dtype('int32')"
      ]
     },
     "execution_count": 18,
     "metadata": {},
     "output_type": "execute_result"
    }
   ],
   "source": [
    "int_array=np.array([1,2,3])\n",
    "int_array.dtype"
   ]
  },
  {
   "cell_type": "code",
   "execution_count": 16,
   "id": "bd8365d4",
   "metadata": {},
   "outputs": [
    {
     "data": {
      "text/plain": [
       "dtype('float64')"
      ]
     },
     "execution_count": 16,
     "metadata": {},
     "output_type": "execute_result"
    }
   ],
   "source": [
    "float_array=np.array([1.1,2,3])\n",
    "float_array.dtype"
   ]
  },
  {
   "cell_type": "code",
   "execution_count": 17,
   "id": "c66e73dd",
   "metadata": {},
   "outputs": [
    {
     "data": {
      "text/plain": [
       "dtype('<U5')"
      ]
     },
     "execution_count": 17,
     "metadata": {},
     "output_type": "execute_result"
    }
   ],
   "source": [
    "string_array=np.array([\"test\",\"test1\"])\n",
    "string_array.dtype"
   ]
  },
  {
   "cell_type": "code",
   "execution_count": 21,
   "id": "f46a5657",
   "metadata": {},
   "outputs": [
    {
     "data": {
      "text/plain": [
       "dtype('float64')"
      ]
     },
     "execution_count": 21,
     "metadata": {},
     "output_type": "execute_result"
    }
   ],
   "source": [
    "#forcing datatype\n",
    "int_array_f=np.array([1,2,3], dtype=float)\n",
    "int_array_f.dtype"
   ]
  },
  {
   "cell_type": "code",
   "execution_count": 22,
   "id": "dfc9d874",
   "metadata": {},
   "outputs": [
    {
     "data": {
      "text/plain": [
       "dtype('float32')"
      ]
     },
     "execution_count": 22,
     "metadata": {},
     "output_type": "execute_result"
    }
   ],
   "source": [
    "int_array_f3=np.array([1,2,3], dtype=np.float32)\n",
    "int_array_f3.dtype"
   ]
  },
  {
   "cell_type": "code",
   "execution_count": 36,
   "id": "cfc3390e",
   "metadata": {},
   "outputs": [
    {
     "data": {
      "text/plain": [
       "dtype('<m8')"
      ]
     },
     "execution_count": 36,
     "metadata": {},
     "output_type": "execute_result"
    }
   ],
   "source": [
    "#dtype= i1,i2,i3,i4,f2,f4,f8,u(unsign), c(complex),U(unicode),S(string),m,M(datetime)\n",
    "int_array_type=np.array([1,2,3], dtype='m')\n",
    "int_array_type.dtype\n"
   ]
  },
  {
   "cell_type": "code",
   "execution_count": 40,
   "id": "fae63742",
   "metadata": {},
   "outputs": [
    {
     "name": "stdout",
     "output_type": "stream",
     "text": [
      "[0.]\n",
      "[0. 0.]\n",
      "[[0. 0.]\n",
      " [0. 0.]]\n",
      "[[0. 0. 0.]\n",
      " [0. 0. 0.]\n",
      " [0. 0. 0.]]\n"
     ]
    }
   ],
   "source": [
    "#array of zeros\n",
    "zero_arr1=np.zeros((1))\n",
    "print(zero_arr1)\n",
    "zero_arr2=np.zeros((2))\n",
    "print(zero_arr2)\n",
    "zero_arr2_2=np.zeros((2,2))\n",
    "print(zero_arr2_2)\n",
    "zero_arr3_3=np.zeros((3,3))\n",
    "print(zero_arr3_3)"
   ]
  },
  {
   "cell_type": "code",
   "execution_count": 41,
   "id": "69395108",
   "metadata": {},
   "outputs": [
    {
     "name": "stdout",
     "output_type": "stream",
     "text": [
      "[1.]\n",
      "[1. 1.]\n",
      "[[1. 1.]\n",
      " [1. 1.]]\n",
      "[[1. 1. 1.]\n",
      " [1. 1. 1.]\n",
      " [1. 1. 1.]]\n"
     ]
    }
   ],
   "source": [
    "#array of ones\n",
    "one_arr1=np.ones((1))\n",
    "print(one_arr1)\n",
    "one_arr2=np.ones((2))\n",
    "print(one_arr2)\n",
    "one_arr2_2=np.ones((2,2))\n",
    "print(one_arr2_2)\n",
    "one_arr3_3=np.ones((3,3))\n",
    "print(one_arr3_3)"
   ]
  },
  {
   "cell_type": "code",
   "execution_count": 42,
   "id": "97e1f4cd",
   "metadata": {},
   "outputs": [
    {
     "name": "stdout",
     "output_type": "stream",
     "text": [
      "[4.9e-324 9.9e-324 1.5e-323]\n"
     ]
    }
   ],
   "source": [
    "#empty array - empty array is faster then zero\n",
    "empty_arr1=np.empty((3))\n",
    "print(empty_arr1)\n"
   ]
  },
  {
   "cell_type": "code",
   "execution_count": 44,
   "id": "5b4c4c23",
   "metadata": {},
   "outputs": [
    {
     "data": {
      "text/plain": [
       "array([2, 3, 4, 5, 6, 7])"
      ]
     },
     "execution_count": 44,
     "metadata": {},
     "output_type": "execute_result"
    }
   ],
   "source": [
    "#arange: array of data with range n to m with step\n",
    "\n",
    "arr_array=np.arange(2,8)\n",
    "arr_array"
   ]
  },
  {
   "cell_type": "code",
   "execution_count": 45,
   "id": "c8451b2c",
   "metadata": {},
   "outputs": [
    {
     "data": {
      "text/plain": [
       "array([2, 4, 6])"
      ]
     },
     "execution_count": 45,
     "metadata": {},
     "output_type": "execute_result"
    }
   ],
   "source": [
    "\n",
    "arr_array1=np.arange(2,8,2)\n",
    "arr_array1"
   ]
  },
  {
   "cell_type": "code",
   "execution_count": 48,
   "id": "29c34d5a",
   "metadata": {},
   "outputs": [
    {
     "data": {
      "text/plain": [
       "array([2. , 3.5, 5. , 6.5, 8. ])"
      ]
     },
     "execution_count": 48,
     "metadata": {},
     "output_type": "execute_result"
    }
   ],
   "source": [
    "#linespace arrange of eqaulity divided number from n to m with x number\n",
    "arr_linspace =np.linspace(2,8,num=5)\n",
    "arr_linspace"
   ]
  },
  {
   "cell_type": "code",
   "execution_count": 50,
   "id": "d2e94642",
   "metadata": {},
   "outputs": [
    {
     "data": {
      "text/plain": [
       "array([11., 12., 13., 14., 15., 16., 17., 18., 19., 20.])"
      ]
     },
     "execution_count": 50,
     "metadata": {},
     "output_type": "execute_result"
    }
   ],
   "source": [
    "arr_linspace1 =np.linspace(11,20,num=10)\n",
    "arr_linspace1"
   ]
  },
  {
   "cell_type": "code",
   "execution_count": 51,
   "id": "937549a3",
   "metadata": {},
   "outputs": [
    {
     "data": {
      "text/plain": [
       "array([[11., 12., 13., 14., 15.],\n",
       "       [16., 17., 18., 19., 20.]])"
      ]
     },
     "execution_count": 51,
     "metadata": {},
     "output_type": "execute_result"
    }
   ],
   "source": [
    "#reshape array\n",
    "reshape_array=np.reshape(arr_linspace1,newshape=(2,5))\n",
    "reshape_array"
   ]
  },
  {
   "cell_type": "code",
   "execution_count": 52,
   "id": "96812670",
   "metadata": {},
   "outputs": [
    {
     "data": {
      "text/plain": [
       "2"
      ]
     },
     "execution_count": 52,
     "metadata": {},
     "output_type": "execute_result"
    }
   ],
   "source": [
    "#nparray function\n",
    "reshape_array.ndim\n"
   ]
  },
  {
   "cell_type": "code",
   "execution_count": 53,
   "id": "160cd522",
   "metadata": {},
   "outputs": [
    {
     "data": {
      "text/plain": [
       "(2, 5)"
      ]
     },
     "execution_count": 53,
     "metadata": {},
     "output_type": "execute_result"
    }
   ],
   "source": [
    "reshape_array.shape "
   ]
  },
  {
   "cell_type": "code",
   "execution_count": 54,
   "id": "0be3b22e",
   "metadata": {},
   "outputs": [
    {
     "data": {
      "text/plain": [
       "10"
      ]
     },
     "execution_count": 54,
     "metadata": {},
     "output_type": "execute_result"
    }
   ],
   "source": [
    "reshape_array.size#number of elements"
   ]
  },
  {
   "cell_type": "code",
   "execution_count": 55,
   "id": "3d4de4b0",
   "metadata": {},
   "outputs": [
    {
     "data": {
      "text/plain": [
       "dtype('float64')"
      ]
     },
     "execution_count": 55,
     "metadata": {},
     "output_type": "execute_result"
    }
   ],
   "source": [
    "reshape_array.dtype"
   ]
  },
  {
   "cell_type": "code",
   "execution_count": 56,
   "id": "a4369f34",
   "metadata": {},
   "outputs": [
    {
     "data": {
      "text/plain": [
       "8"
      ]
     },
     "execution_count": 56,
     "metadata": {},
     "output_type": "execute_result"
    }
   ],
   "source": [
    "reshape_array.itemsize #dtype/8"
   ]
  },
  {
   "cell_type": "code",
   "execution_count": 61,
   "id": "5b9e56a9",
   "metadata": {},
   "outputs": [
    {
     "name": "stdout",
     "output_type": "stream",
     "text": [
      "[0 2 3 5 7 8 9]\n"
     ]
    }
   ],
   "source": [
    "#sort\n",
    "a_unsort=np.array([5,2,3,7,9,8,0])\n",
    "a_sort=np.sort(a_unsort)\n",
    "print(a_sort)"
   ]
  },
  {
   "cell_type": "code",
   "execution_count": 63,
   "id": "cc96c7c6",
   "metadata": {},
   "outputs": [
    {
     "data": {
      "text/plain": [
       "array([6, 8, 6, 2, 3, 5, 1, 9, 6, 2, 4, 5])"
      ]
     },
     "execution_count": 63,
     "metadata": {},
     "output_type": "execute_result"
    }
   ],
   "source": [
    "#concatenate\n",
    "a1=np.array([6,8,6,2,3,5])\n",
    "a2=np.array([1,9,6,2,4,5])\n",
    "a_con=np.concatenate((a1,a2))\n",
    "a_con"
   ]
  },
  {
   "cell_type": "code",
   "execution_count": 66,
   "id": "fb133205",
   "metadata": {},
   "outputs": [
    {
     "data": {
      "text/plain": [
       "array([[6, 8, 6],\n",
       "       [2, 3, 5],\n",
       "       [1, 9, 6],\n",
       "       [2, 4, 5]])"
      ]
     },
     "execution_count": 66,
     "metadata": {},
     "output_type": "execute_result"
    }
   ],
   "source": [
    "a1_1=np.array([[6,8,6],[2,3,5]])\n",
    "a2_2=np.array([[1,9,6],[2,4,5]])\n",
    "a_con_1=np.concatenate((a1_1,a2_2), axis=0)\n",
    "a_con_1"
   ]
  },
  {
   "cell_type": "code",
   "execution_count": 67,
   "id": "e4dc83ff",
   "metadata": {},
   "outputs": [
    {
     "data": {
      "text/plain": [
       "array([[6, 8, 6, 1, 9, 6],\n",
       "       [2, 3, 5, 2, 4, 5]])"
      ]
     },
     "execution_count": 67,
     "metadata": {},
     "output_type": "execute_result"
    }
   ],
   "source": [
    "a_con_1=np.concatenate((a1_1,a2_2), axis=1)\n",
    "a_con_1"
   ]
  },
  {
   "cell_type": "markdown",
   "id": "6a7d37c6-1ef8-43b8-a349-853eecc6ddd9",
   "metadata": {},
   "source": [
    "#### Array Indexing and slicing"
   ]
  },
  {
   "cell_type": "code",
   "execution_count": 20,
   "id": "bea880ea",
   "metadata": {
    "tags": []
   },
   "outputs": [
    {
     "name": "stdout",
     "output_type": "stream",
     "text": [
      "[ 4  6 17  8  9  3 15 12  7 13]\n",
      "17 7\n",
      "12 3\n",
      "[ 8  9  3 15 12]\n",
      "[ 4  6 17  8  9  3 15]\n",
      "[17  8  9  3 15 12  7 13]\n",
      "[ 6 17  8  9  3 15 12  7 13]\n",
      "[17  8  9  3]\n",
      "[ 3 15 12  7]\n",
      "[ 4  6 17  8  9  3 15 12  7 13]\n",
      "[ 4  6 17  8  9  3 15 12  7 13]\n",
      "[ 4  6 17  8  9  3 15 12  7 13]\n",
      "[ 4  6 17  8  9  3 15 12]\n",
      "[ 6 17  8  9  3 15 12  7 13]\n"
     ]
    }
   ],
   "source": [
    "# Array Indexing and slicing\n",
    "'''\n",
    "1. If x = [4,6,17,8,9,3,15,12,7,13] convert x to ndarray and print:\n",
    "a. value 17 and 7 separately using their positive index\n",
    "b. value 12 and 3 using their negative index\n",
    "c. the range  of values from 8 to 12 using positive indices\n",
    "d. the range  of values from 4 to 15 using negative indices\n",
    "e. the range  of values from 17 to the end using positive indices\n",
    "f. the range  of values from 6 to the end using negative indices\n",
    "g. the range  of value from 17 to 3 using a mix of negative and positive indices\n",
    "h. the range  of values from 3 to 7 using a mix of negative and positive indices\n",
    "i. all the values using only positive indices\n",
    "j. all the values using only negative indices\n",
    "k. all the values without using any index.\n",
    "l. all the values from beginning to value 12\n",
    "m. all the values from 6 to the end\n",
    "\n",
    "'''\n",
    "a= np.array([4,6,17,8,9,3,15,12,7,13])\n",
    "\n",
    "print(a) \n",
    "print(a[2],a[8]) #a\n",
    "print(a[-3],a[-5]) #b\n",
    "print(a[3:8]) #c\n",
    "print(a[-10:-3]) #d\n",
    "print(a[-8:]) #e\n",
    "print(a[-9:])#f\n",
    "print(a[2:-4]) #g\n",
    "print(a[5:-1]) #h\n",
    "print(a[0:10]) #i\n",
    "print(a[-10:]) #j\n",
    "print(a[:]) #k\n",
    "print(a[:-2]) #l\n",
    "print(a[1:]) #l\n"
   ]
  },
  {
   "cell_type": "code",
   "execution_count": 33,
   "id": "4de2c81e",
   "metadata": {
    "tags": []
   },
   "outputs": [
    {
     "name": "stdout",
     "output_type": "stream",
     "text": [
      "[ 2  4  6  8 10 12 14 16 18 20 22 24]\n",
      "[ 4  8 12 16 20 24]\n",
      "[ 1  2  4  5 10 20 25]\n",
      "[ 1  2  3  4  5 15 21 22 23 24 25]\n",
      "[]\n"
     ]
    }
   ],
   "source": [
    "# Array condition\n",
    "'''\n",
    "Create a two dimensional array for numbers between 1 and 25. Using the array, find the following:\n",
    "1. all the even numbers\n",
    "2. all numbers that are divisible by 4\n",
    "3. all factors of 100\n",
    "4. all the numbers less than or equal to 5, greater 20 or equal to 15\n",
    "5. all odd numbers that are divisible by six\n",
    "'''\n",
    "a=np.arange(1,26)\n",
    "print(a[(a%2==0)])\n",
    "print(a[(a%4==0)])\n",
    "print(a[(100%a==0)])\n",
    "print(a[(a<=5) | (a>20) |(a==15)]) # or condition\n",
    "print(a[(a%2==1) & (a%6==0)]) # and condition"
   ]
  },
  {
   "cell_type": "code",
   "execution_count": 44,
   "id": "045ff1d0-b1ec-44de-8fa4-0a7c24303e7e",
   "metadata": {
    "tags": []
   },
   "outputs": [
    {
     "name": "stdout",
     "output_type": "stream",
     "text": [
      "[[ 1  2  3  4  5]\n",
      " [ 6  7  8  9 10]\n",
      " [11 12 13 14 15]\n",
      " [16 17 18 19 20]\n",
      " [21 22 23 24 25]]\n",
      "[1 2 3 4 5]\n",
      "[[ 3]\n",
      " [ 8]\n",
      " [13]\n",
      " [18]\n",
      " [23]]\n",
      "[16 17 18]\n",
      "[[16 17 18]\n",
      " [21 22 23]]\n",
      "13\n",
      "[[11 12 13 14 15]\n",
      " [16 17 18 19 20]]\n",
      "[[ 3  4]\n",
      " [ 8  9]\n",
      " [13 14]\n",
      " [18 19]\n",
      " [23 24]]\n"
     ]
    }
   ],
   "source": [
    "# 2D array\n",
    "'''\n",
    "a. Create a two dimensional array for numbers between 1 and 25.\n",
    "Using the array, find the following:\n",
    "1. all the numbers in the row 0\n",
    "2. all the numbers in the column 2\n",
    "3. numbers between 16 and 18\n",
    "4. number 16, 17, 18, 21, 22 and 23\n",
    "5. number 13\n",
    "6. all the numbers in row 2 and 3\n",
    "7. all the numbers in column 2 and 3\n",
    "'''\n",
    "a= np.arange(1,26).reshape(5,5)\n",
    "print(a)\n",
    "print(a[0])\n",
    "print(a[:,2:3])\n",
    "print(a[3,:3])\n",
    "print(a[3:,:3])\n",
    "print(a[2,2])\n",
    "print(a[2:4])\n",
    "print(a[:,2:4])"
   ]
  },
  {
   "cell_type": "code",
   "execution_count": 47,
   "id": "cd7459ef-71ed-40c1-8848-40edd23fe494",
   "metadata": {
    "tags": []
   },
   "outputs": [
    {
     "name": "stdout",
     "output_type": "stream",
     "text": [
      "[[[ 1  2  3  4  5  6]\n",
      "  [ 7  8  9 10 11 12]\n",
      "  [13 14 15 16 17 18]\n",
      "  [19 20 21 22 23 24]]\n",
      "\n",
      " [[25 26 27 28 29 30]\n",
      "  [31 32 33 34 35 36]\n",
      "  [37 38 39 40 41 42]\n",
      "  [43 44 45 46 47 48]]\n",
      "\n",
      " [[49 50 51 52 53 54]\n",
      "  [55 56 57 58 59 60]\n",
      "  [61 62 63 64 65 66]\n",
      "  [67 68 69 70 71 72]]]\n"
     ]
    }
   ],
   "source": [
    "#3D array\n",
    "'''\n",
    "Create a 3-D numpy array with numbers from 1 to 72.\n",
    "Using the above array, print:\n",
    "1. number 10\n",
    "2. the first 2-D in the 3-D array\n",
    "3. number 31 to 36\n",
    "4. number 63 to 65\n",
    "5. number 35\n",
    "6. number 10, 34 and 66\n",
    "7. column 3 in the third 2-D in the 3-D array\n",
    "8. number 34 and 35\n",
    "9. the first row in the last 2-D in the 3-D array\n",
    "10. the last 2-D in the 3-D array\n",
    "11. first row each in the second and third 2-D in the 3-D array\n",
    "12. number 26 and 50\n",
    "13. first two rows each from all the 2-D in the 3-D array\n",
    "14. the entire last column of the 3-D array\n",
    "15. the entire third column of the second and last 2-D in the 3-D\n",
    "16. number less than 50 in the 3rd column of the second and last 2-D in the 3-D\n",
    "17. numbers that are divisible by 5 in column 2 of second and third 2-D in the 3-D array\n",
    "'''\n",
    "a= np.arange(1,73).reshape(3,4,6)\n",
    "print(a)\n"
   ]
  },
  {
   "cell_type": "code",
   "execution_count": 86,
   "id": "4b31ccc7-adcf-4d5b-b9d1-e5a3827d6a7f",
   "metadata": {
    "tags": []
   },
   "outputs": [
    {
     "name": "stdout",
     "output_type": "stream",
     "text": [
      "[27 33 39 45]\n",
      "[45]\n"
     ]
    }
   ],
   "source": [
    "#print(a[0,1,3])#1\n",
    "#print(a[0]) #2\n",
    "#print(a[1,1])#3\n",
    "#print(a[2,2,2:5])#4\n",
    "#print(a[1,1,4])#5\n",
    "#print(a[0][1][3], a[1][1][3],a[2][2][5])#6\n",
    "#print(a[2,:,2:3])#7\n",
    "#print(a[1,1,3:5])#8\n",
    "#print(a[2,0])#9\n",
    "#print(a[2])#10\n",
    "#print(a[1:,0])#11\n",
    "#print(a[1:,0,1:2])#12\n",
    "#print(a[:,0:2])#13\n",
    "#print(a[:,:,5:])#14\n",
    "#print(a[1:,:,2:3])#15\n",
    "\n",
    "print(a[1:,:,2:3][a[1:,:,2:3]<50])#16\n",
    "print(a[1:,:,2:3][a[1:,:,2:3]%5==0])#17"
   ]
  },
  {
   "cell_type": "code",
   "execution_count": 90,
   "id": "d3492801-bbb0-4e91-8c78-2c182450e4c0",
   "metadata": {
    "tags": []
   },
   "outputs": [
    {
     "name": "stdout",
     "output_type": "stream",
     "text": [
      "[ 1  2  3  4  5  6  7  8  9 10 11 12 13 14 15 16 17 18 19 20 21 22 23 24\n",
      " 25]\n",
      "[ 1  2  3  4  5  6  7  8  9 10 11 12 13 14 15 16 17 18 19 20 21 22 23 24\n",
      " 25]\n",
      "[ 1  2  3  4  5  6  7  8  9 10 11 12 13 14 15 16 17 18 19 20 21 22 23 24\n",
      " 25]\n"
     ]
    }
   ],
   "source": [
    "#### array flattern & Ravel\n",
    "\n",
    "b= np.arange(1,26).reshape(5,5)\n",
    "b\n",
    "print(b.flatten()) #shallow copy\n",
    "print(b.ravel()) #deep copy\n",
    "print(b.flatten().copy()) #deep copy\n"
   ]
  },
  {
   "cell_type": "code",
   "execution_count": 91,
   "id": "38cae61c-b188-4975-b9ba-31e9e396f0ae",
   "metadata": {
    "tags": []
   },
   "outputs": [
    {
     "data": {
      "text/plain": [
       "array([[ 1,  6, 11, 16, 21],\n",
       "       [ 2,  7, 12, 17, 22],\n",
       "       [ 3,  8, 13, 18, 23],\n",
       "       [ 4,  9, 14, 19, 24],\n",
       "       [ 5, 10, 15, 20, 25]])"
      ]
     },
     "execution_count": 91,
     "metadata": {},
     "output_type": "execute_result"
    }
   ],
   "source": [
    "#Transpose\n",
    "b= np.arange(1,26).reshape(5,5)\n",
    "b.transpose()"
   ]
  },
  {
   "cell_type": "code",
   "execution_count": 94,
   "id": "da0d12f8-e269-4dcb-aea2-b32bd6a8c770",
   "metadata": {
    "tags": []
   },
   "outputs": [
    {
     "name": "stdout",
     "output_type": "stream",
     "text": [
      "[[25 24 23 22 21]\n",
      " [20 19 18 17 16]\n",
      " [15 14 13 12 11]\n",
      " [10  9  8  7  6]\n",
      " [ 5  4  3  2  1]]\n",
      "[[21 22 23 24 25]\n",
      " [16 17 18 19 20]\n",
      " [11 12 13 14 15]\n",
      " [ 6  7  8  9 10]\n",
      " [ 1  2  3  4  5]]\n",
      "[[ 5  4  3  2  1]\n",
      " [10  9  8  7  6]\n",
      " [15 14 13 12 11]\n",
      " [20 19 18 17 16]\n",
      " [25 24 23 22 21]]\n"
     ]
    }
   ],
   "source": [
    "#reverse\n",
    "b= np.arange(1,26).reshape(5,5)\n",
    "print(np.flip(b))\n",
    "print(np.flip(b, axis=0)) #rows\n",
    "print(np.flip(b, axis=1)) #column"
   ]
  },
  {
   "cell_type": "code",
   "execution_count": 102,
   "id": "407818bd-75d3-47fc-9920-70c44b3836ee",
   "metadata": {
    "tags": []
   },
   "outputs": [
    {
     "name": "stdout",
     "output_type": "stream",
     "text": [
      "[ 1  2  3  4  5  6  7  8  9 10 11 12 13 14 15 16 17 18 19 20 21 22 23 24\n",
      " 25]\n",
      "[ 1  2  3  4  5  6  7  8  9 10 11 12 13 14 15 16 17 18 19 20 21 22 23 24\n",
      " 25] [ 0  1  2  3  4 10 11 12 13 14 20 21 22 23 24 30 31 32 33 34 40 41 42 43\n",
      " 44]\n"
     ]
    }
   ],
   "source": [
    "#unique array\n",
    "d= np.concatenate((b,b), axis=1)\n",
    "y= np.unique(d)\n",
    "print(y)\n",
    "z,ind= np.unique(d, return_index=True) #get index\n",
    "print(z,ind)"
   ]
  },
  {
   "cell_type": "code",
   "execution_count": 109,
   "id": "7960decf-272a-4a6a-9386-45edc3090e72",
   "metadata": {
    "tags": []
   },
   "outputs": [
    {
     "name": "stdout",
     "output_type": "stream",
     "text": [
      "1\n",
      "25\n",
      "325\n",
      "[1 2 3 4 5]\n",
      "[ 1  6 11 16 21]\n",
      "[21 22 23 24 25]\n",
      "[ 5 10 15 20 25]\n",
      "[55 60 65 70 75]\n",
      "[ 15  40  65  90 115]\n"
     ]
    }
   ],
   "source": [
    "#min, max , sum\n",
    "b= np.arange(1,26).reshape(5,5)\n",
    "print(b.min())\n",
    "print(b.max())\n",
    "print(b.sum())\n",
    "\n",
    "#along axis\n",
    "print(b.min(axis=0))\n",
    "print(b.min(axis=1))\n",
    "print(b.max(axis=0))\n",
    "print(b.max(axis=1))\n",
    "print(b.sum(axis=0))\n",
    "print(b.sum(axis=1))\n"
   ]
  },
  {
   "cell_type": "code",
   "execution_count": 110,
   "id": "692c8f60-617c-43ee-8956-a1d86ac9e1bf",
   "metadata": {
    "tags": []
   },
   "outputs": [],
   "source": [
    "a=np.array([[1,2,3],[6,7,8]])\n",
    "b=np.array([[4,5,9],[11,12,15]])"
   ]
  },
  {
   "cell_type": "code",
   "execution_count": 112,
   "id": "15984891-1456-4f31-87eb-cce958886e57",
   "metadata": {
    "tags": []
   },
   "outputs": [
    {
     "name": "stdout",
     "output_type": "stream",
     "text": [
      "[[ 1  2  3  4  5  9]\n",
      " [ 6  7  8 11 12 15]]\n",
      "[[ 1  2  3]\n",
      " [ 6  7  8]\n",
      " [ 4  5  9]\n",
      " [11 12 15]]\n"
     ]
    }
   ],
   "source": [
    "# Array stacking\n",
    "print(np.hstack((a,b)))\n",
    "print(np.vstack((a,b)))"
   ]
  },
  {
   "cell_type": "code",
   "execution_count": 125,
   "id": "4ad5e3fb-868d-42f2-b0e9-d721c11ba5b6",
   "metadata": {
    "tags": []
   },
   "outputs": [
    {
     "name": "stdout",
     "output_type": "stream",
     "text": [
      "[array([[ 1,  2,  3,  4],\n",
      "       [25, 26, 27, 28]]), array([[ 5,  6,  7,  8],\n",
      "       [29, 30, 31, 32]]), array([[ 9, 10, 11, 12],\n",
      "       [33, 34, 35, 36]]), array([[13, 14, 15, 16],\n",
      "       [37, 38, 39, 40]]), array([[17, 18, 19, 20],\n",
      "       [41, 42, 43, 44]]), array([[21, 22, 23, 24],\n",
      "       [45, 46, 47, 48]])]\n",
      "[array([[ 1,  2,  3,  4,  5,  6,  7,  8,  9, 10, 11, 12, 13, 14, 15, 16,\n",
      "        17, 18, 19, 20, 21, 22, 23, 24]]), array([[25, 26, 27, 28, 29, 30, 31, 32, 33, 34, 35, 36, 37, 38, 39, 40,\n",
      "        41, 42, 43, 44, 45, 46, 47, 48]])]\n",
      "[[ 1  2  3  4  5]\n",
      " [25 26 27 28 29]] [[ 6  7  8]\n",
      " [30 31 32]] [[ 9 10 11 12 13 14 15 16 17 18 19 20 21 22 23 24]\n",
      " [33 34 35 36 37 38 39 40 41 42 43 44 45 46 47 48]]\n"
     ]
    }
   ],
   "source": [
    "#Array split\n",
    "x=np.arange(1,49).reshape(2,24)\n",
    "print(np.hsplit(x,6))# split into 6 equal array with column\n",
    "print(np.vsplit(x,2)) # split into 2 equal array with rows\n",
    "\n",
    "a,b,c=np.hsplit(x,(5,8))# split unequal array from 0-4 then 5 -7 and rest\n",
    "print(a,b,c)"
   ]
  },
  {
   "cell_type": "code",
   "execution_count": 126,
   "id": "ed7c63af-1c6a-473d-9358-748b85969d5c",
   "metadata": {
    "tags": []
   },
   "outputs": [
    {
     "name": "stdout",
     "output_type": "stream",
     "text": [
      "[[ 1  2  3  4  5  6  7  8  9 10 11 12 13 14 15 16 17 18 19 20 21 22 23 24]\n",
      " [25 26 27 28 29 30 31 32 33 34 35 36 37 38 39 40 41 42 43 44 45 46 47 48]]\n",
      "[[26 27 28 29 30 31 32 33 34 35 36 37 38 39 40 41 42 43 44 45 46 47 48]]\n"
     ]
    }
   ],
   "source": [
    "#copy\n",
    "\n",
    "b=x.copy()\n",
    "c=x[1:3,1:].copy()\n",
    "\n",
    "print(b)\n",
    "print(c)"
   ]
  },
  {
   "cell_type": "code",
   "execution_count": 127,
   "id": "46bcef32-20eb-4fb6-b7e4-a3108a1176bc",
   "metadata": {
    "tags": []
   },
   "outputs": [
    {
     "name": "stdout",
     "output_type": "stream",
     "text": [
      "[ 7  9 11 13 15]\n",
      "[-5 -5 -5 -5 -5]\n",
      "[ 2  4  6  8 10]\n",
      "[ 36  49  64  81 100]\n",
      "[ 6 14 24 36 50]\n",
      "[1 0 1 0 1]\n",
      "[6.         3.5        2.66666667 2.25       2.        ]\n"
     ]
    }
   ],
   "source": [
    "#array operator\n",
    "a=np.array( [1,2,3,4,5])\n",
    "b=np.array([6,7,8,9,10])\n",
    "\n",
    "print(a+b)\n",
    "print(a-b)\n",
    "print(2*a)\n",
    "print(b**2)\n",
    "print (a*b)\n",
    "print(a%2)\n",
    "print(b/a)\n"
   ]
  },
  {
   "cell_type": "code",
   "execution_count": 129,
   "id": "129b9459-2070-4ca1-b680-394981a87cf6",
   "metadata": {
    "tags": []
   },
   "outputs": [
    {
     "name": "stdout",
     "output_type": "stream",
     "text": [
      "[1 2 3 5]\n",
      "[1 2 5]\n"
     ]
    }
   ],
   "source": [
    "# delete\n",
    "b= np.delete(a,3)\n",
    "print (b)\n",
    "\n",
    "x=[3,4]\n",
    "\n",
    "c=np.setdiff1d(a,x)\n",
    "print(c)"
   ]
  },
  {
   "cell_type": "code",
   "execution_count": 138,
   "id": "ffea253c-9ac2-4cba-804b-a935a1510493",
   "metadata": {
    "tags": []
   },
   "outputs": [
    {
     "name": "stdout",
     "output_type": "stream",
     "text": [
      "[1 2 3 4 5]\n",
      "[ 1  2  3  4  5 44]\n",
      "[ 1  2  3  4  5 44 45 46]\n",
      "[ 1  2 66  3  4  5]\n",
      "[ 1 66 67 68  2  3  4  5]\n"
     ]
    }
   ],
   "source": [
    "# insert\n",
    "print(a)\n",
    "b= np.append(a,44)  #at end\n",
    "print (b)\n",
    "b= np.append(a,[44,45,46]) #at end\n",
    "print (b)\n",
    "\n",
    "b= np.insert(a,2,66) #after element 2\n",
    "print (b)\n",
    "b= np.insert(a,1,[66,67,68]) #after element 1\n",
    "print (b)"
   ]
  },
  {
   "cell_type": "code",
   "execution_count": 144,
   "id": "8c891ee5-49f9-42bc-b3bb-bec9fe3512af",
   "metadata": {
    "tags": []
   },
   "outputs": [
    {
     "name": "stdout",
     "output_type": "stream",
     "text": [
      "[[1 2 3 4 5]]\n",
      "2\n",
      "(1, 5)\n",
      "[[1]\n",
      " [2]\n",
      " [3]\n",
      " [4]\n",
      " [5]]\n",
      "2\n",
      "(5, 1)\n",
      "[[[1]\n",
      "  [2]\n",
      "  [3]\n",
      "  [4]\n",
      "  [5]]]\n",
      "3\n",
      "(1, 5, 1)\n"
     ]
    }
   ],
   "source": [
    "# New axis\n",
    "\n",
    "a= np.arange(1,6)\n",
    "a\n",
    "b= a[np.newaxis,:] # add new dimention as row\n",
    "c= a[:,np.newaxis] # add new dimention as column\n",
    "d= a[np.newaxis,:,np.newaxis]\n",
    "print(b)\n",
    "print(b.ndim)\n",
    "print(b.shape)\n",
    "print(c)\n",
    "print(c.ndim)\n",
    "print(c.shape)\n",
    "print(d)\n",
    "print(d.ndim)\n",
    "print(d.shape)"
   ]
  },
  {
   "cell_type": "code",
   "execution_count": null,
   "id": "afe2379c-e941-4c13-9993-0c4e59a42789",
   "metadata": {},
   "outputs": [],
   "source": []
  },
  {
   "cell_type": "code",
   "execution_count": 145,
   "id": "eda87232-af2b-4aaf-81cc-a420ac24d8a9",
   "metadata": {
    "tags": []
   },
   "outputs": [
    {
     "data": {
      "text/plain": [
       "1.7320508075688767"
      ]
     },
     "execution_count": 145,
     "metadata": {},
     "output_type": "execute_result"
    }
   ],
   "source": [
    "#Trigonomatry\n",
    "#1 degree= pi/180 radian\n",
    "import numpy as np\n",
    "np.sin(90)\n",
    "np.sin(90*np.pi/180)\n",
    "np.cos(60)\n",
    "np.cos(60*np.pi/180)\n",
    "np.tan(70)\n",
    "np.tan(60*np.pi/180)"
   ]
  },
  {
   "cell_type": "code",
   "execution_count": 151,
   "id": "42ed1855-9526-464b-861b-062deaaf70fb",
   "metadata": {
    "tags": []
   },
   "outputs": [
    {
     "name": "stdout",
     "output_type": "stream",
     "text": [
      "[ 1  2  3  4  5  6  7  8  9 10]\n",
      "(array([5], dtype=int64),)\n",
      "(array([1, 3, 5, 7, 9], dtype=int64),)\n"
     ]
    }
   ],
   "source": [
    "# searching in array\n",
    "a= np.arange(1,11)\n",
    "print (a)\n",
    "\n",
    "print( np.where(a==6)) #index 5\n",
    "print( np.where(a%2==0)) # index of 2,4,6,8,10"
   ]
  },
  {
   "cell_type": "code",
   "execution_count": 154,
   "id": "6a84e62f-d794-443a-82eb-e67148980083",
   "metadata": {
    "tags": []
   },
   "outputs": [
    {
     "name": "stdout",
     "output_type": "stream",
     "text": [
      "[[ 5 10]\n",
      " [15 20]]\n",
      "[[22 25]\n",
      " [50 57]]\n"
     ]
    }
   ],
   "source": [
    "# Multiplication\n",
    "\n",
    "a= np.arange(1,5).reshape(2,2)\n",
    "b= np.arange(6,10).reshape(2,2)\n",
    "print(np.multiply(a,5))\n",
    "print(np.dot(a,b)) # matrix multiplication\n"
   ]
  },
  {
   "cell_type": "code",
   "execution_count": 156,
   "id": "4e6363ec-61c7-4c2b-92ed-11b1bb70a2d8",
   "metadata": {
    "tags": []
   },
   "outputs": [
    {
     "name": "stdout",
     "output_type": "stream",
     "text": [
      "[[ 1  2  3]\n",
      " [ 4  5  6]\n",
      " [ 7  8  9]\n",
      " [10 11 12]]\n",
      "15\n"
     ]
    }
   ],
   "source": [
    "# trace => sum of diagonal\n",
    "\n",
    "a= np.arange(1,13).reshape(4,3)\n",
    "print(a)\n",
    "print(np.trace(a))\n"
   ]
  },
  {
   "cell_type": "code",
   "execution_count": 157,
   "id": "aaf095af-d3a2-4986-b11f-7e4137103cd4",
   "metadata": {
    "tags": []
   },
   "outputs": [
    {
     "name": "stdout",
     "output_type": "stream",
     "text": [
      "[[1 2]\n",
      " [3 4]]\n",
      "[[6 7]\n",
      " [8 9]]\n",
      "[[ 6  7  8  9]\n",
      " [12 14 16 18]\n",
      " [18 21 24 27]\n",
      " [24 28 32 36]]\n"
     ]
    }
   ],
   "source": [
    "#outer Product => each number by each number =>4*4=16\n",
    "a= np.arange(1,5).reshape(2,2)\n",
    "b= np.arange(6,10).reshape(2,2)\n",
    "print(a)\n",
    "print(b)\n",
    "print(np.outer(a,b))\n"
   ]
  },
  {
   "cell_type": "code",
   "execution_count": 158,
   "id": "2c608770-e468-4d8e-95ee-6cdb549e5e2c",
   "metadata": {
    "tags": []
   },
   "outputs": [
    {
     "name": "stdout",
     "output_type": "stream",
     "text": [
      "[[1 2]\n",
      " [3 4]]\n",
      "[[6 7]\n",
      " [8 9]]\n",
      "[[20 26]\n",
      " [46 60]]\n"
     ]
    }
   ],
   "source": [
    "#inner product => each row by row =>Xrow1 *Yrow1, Xrow1 *Yrow2, Xrow2* Yrow1=> 4*4=>4\n",
    "a= np.arange(1,5).reshape(2,2)\n",
    "b= np.arange(6,10).reshape(2,2)\n",
    "print(a)\n",
    "print(b)\n",
    "print(np.inner(a,b))"
   ]
  },
  {
   "cell_type": "code",
   "execution_count": 159,
   "id": "1f6b489e-e39b-48ed-a472-3b56aeb8b352",
   "metadata": {
    "tags": []
   },
   "outputs": [
    {
     "name": "stdout",
     "output_type": "stream",
     "text": [
      "[[1 2]\n",
      " [3 4]]\n",
      "[[6 7]\n",
      " [8 9]]\n",
      "[-5 -5]\n"
     ]
    }
   ],
   "source": [
    "#cross product Xrow1 *Yrow 1 , Xrow2* Yrow2 4*4=>2\n",
    "a= np.arange(1,5).reshape(2,2)\n",
    "b= np.arange(6,10).reshape(2,2)\n",
    "print(a)\n",
    "print(b)\n",
    "print(np.cross(a,b))"
   ]
  },
  {
   "cell_type": "code",
   "execution_count": 160,
   "id": "21c938a6-932c-4264-b6d4-ecf25a25c7aa",
   "metadata": {
    "tags": []
   },
   "outputs": [
    {
     "name": "stdout",
     "output_type": "stream",
     "text": [
      "[[1 2]\n",
      " [3 4]]\n",
      "[[6 7]\n",
      " [8 9]]\n",
      "[[ 6  7 12 14]\n",
      " [ 8  9 16 18]\n",
      " [18 21 24 28]\n",
      " [24 27 32 36]]\n"
     ]
    }
   ],
   "source": [
    "#kronecker product multiply each number of x with y 4*4 =16\n",
    "#x1*y=4, x2*y=4 and so one 4+4+4+4\n",
    "a= np.arange(1,5).reshape(2,2)\n",
    "b= np.arange(6,10).reshape(2,2)\n",
    "print(a)\n",
    "print(b)\n",
    "print(np.kron(a,b))"
   ]
  },
  {
   "cell_type": "code",
   "execution_count": 161,
   "id": "6785ff3b-7683-4925-8d5b-de38b5002956",
   "metadata": {
    "tags": []
   },
   "outputs": [
    {
     "name": "stdout",
     "output_type": "stream",
     "text": [
      "[[1 2 3]\n",
      " [4 5 6]\n",
      " [7 8 9]]\n",
      "-9.51619735392994e-16\n"
     ]
    }
   ],
   "source": [
    "#determinant same as matrix\n",
    "a= np.arange(1,10).reshape(3,3)\n",
    "\n",
    "print(a)\n",
    "\n",
    "print(np.linalg.det(a))"
   ]
  },
  {
   "cell_type": "code",
   "execution_count": 163,
   "id": "4cb140fb-1248-40b1-92bb-d623291023e0",
   "metadata": {
    "tags": []
   },
   "outputs": [
    {
     "name": "stdout",
     "output_type": "stream",
     "text": [
      "[[1 2 3]\n",
      " [4 5 6]\n",
      " [7 8 9]]\n",
      "[[ 3.15251974e+15 -6.30503948e+15  3.15251974e+15]\n",
      " [-6.30503948e+15  1.26100790e+16 -6.30503948e+15]\n",
      " [ 3.15251974e+15 -6.30503948e+15  3.15251974e+15]]\n"
     ]
    }
   ],
   "source": [
    "#inverse same as matrix (transpose(cofactor)/determinant)\n",
    "a= np.arange(1,10).reshape(3,3)\n",
    "print(a)\n",
    "print(np.linalg.inv(a))"
   ]
  },
  {
   "cell_type": "code",
   "execution_count": 164,
   "id": "d11722b5-b560-4994-9247-a37eedf48cd7",
   "metadata": {
    "tags": []
   },
   "outputs": [
    {
     "name": "stdout",
     "output_type": "stream",
     "text": [
      "24.459115447074858\n"
     ]
    }
   ],
   "source": [
    "#Condition Number\n",
    "#its a number if added to a function it effect the function\n",
    "x= np.array([[2,3],[6,7]])\n",
    "print(np.linalg.cond(x))"
   ]
  },
  {
   "cell_type": "markdown",
   "id": "2468b876-ec98-436e-b3ab-913ba8cb9ce1",
   "metadata": {},
   "source": [
    "## Random"
   ]
  },
  {
   "cell_type": "code",
   "execution_count": 166,
   "id": "6bb4b02c-5d6a-4494-ab82-0e9d8348d9f3",
   "metadata": {
    "tags": []
   },
   "outputs": [],
   "source": [
    "from numpy import random"
   ]
  },
  {
   "cell_type": "code",
   "execution_count": 176,
   "id": "a199beca-7c6d-45e5-9898-090d691ac9f0",
   "metadata": {
    "tags": []
   },
   "outputs": [
    {
     "name": "stdout",
     "output_type": "stream",
     "text": [
      "5\n",
      "[0.04251424 0.18701012 0.70244994 0.69992192 0.45363417]\n",
      "[17  0  2 14 17]\n",
      "[[ 9  1]\n",
      " [12  3]\n",
      " [ 7  9]\n",
      " [11 11]]\n",
      "15\n",
      "[ 9  1 20  4  1]\n",
      "[[ 4  9]\n",
      " [ 5 11]\n",
      " [ 5  9]\n",
      " [ 2  4]]\n"
     ]
    }
   ],
   "source": [
    "#random integer\n",
    "print (random.randint(20))# number between 1-20\n",
    "print (random.rand(5))# 5 number between 0 to 1\n",
    "\n",
    "print (random.randint(20,size=(5)))# number between 1-20 get 5 number\n",
    "print (random.randint(20,size=(4,2)))# number between 1-20 get 4*2 array\n",
    "\n",
    "#choice\n",
    "a= np.array([4,5,9,20,1,2,11,15])\n",
    "print (random.choice(a))# get number from a\n",
    "print (random.choice(a,size=(5)))# get 5 number from a\n",
    "print (random.choice(a,size=(4,2)))# get 4 by 2 number from a\n",
    "\n"
   ]
  },
  {
   "cell_type": "code",
   "execution_count": 183,
   "id": "cec704ee-60d5-4de0-b7fd-0e4b475dd0c5",
   "metadata": {
    "tags": []
   },
   "outputs": [
    {
     "name": "stdout",
     "output_type": "stream",
     "text": [
      "[12 15  0  3  3]\n",
      "[ 5 11 12  8  9]\n",
      "[ 4 15  2  4 11]\n"
     ]
    }
   ],
   "source": [
    "# seed => it will choose same random number , result will be same every time\n",
    "random.seed(0)\n",
    "print (random.randint(20, size=(5)))# number between 1-20 ##[12 15  0  3  3]\n",
    "random.seed(1)\n",
    "print (random.randint(20, size=(5)))# number between 1-20 ##[ 5 11 12  8  9]\n",
    "random.seed(2)\n",
    "a= np.array([4,5,9,20,1,2,11,15])\n",
    "print (random.choice(a,size=(5)))# [ 4 15  2  4 11]"
   ]
  },
  {
   "cell_type": "code",
   "execution_count": 187,
   "id": "bdad955c-0fd0-4dbe-b5f5-95e9816e5d1d",
   "metadata": {
    "tags": []
   },
   "outputs": [
    {
     "name": "stdout",
     "output_type": "stream",
     "text": [
      "[4 6 6 6 4 4 4 4 6 4 6 6 4 6 4 6 4 6 4 4]\n",
      "[[4 4 3 4 4]\n",
      " [6 6 4 6 6]\n",
      " [6 6 3 6 6]\n",
      " [6 4 4 4 4]]\n"
     ]
    }
   ],
   "source": [
    "# data distribution \n",
    "print (random.choice([3,4,6],p=[.2,.5,.3],size=(20))) # p is probability of 3,4,6 respectively\n",
    "print (random.choice([3,4,6],p=[.2,.5,.3],size=(4,5)))"
   ]
  },
  {
   "cell_type": "code",
   "execution_count": 3,
   "id": "6fe5f53e-2499-41dc-87b8-188714cb9a9d",
   "metadata": {
    "tags": []
   },
   "outputs": [
    {
     "data": {
      "text/plain": [
       "array([6, 3, 3, 3, 3, 3, 6, 3, 3, 3, 3, 3, 4, 6, 3, 3, 4, 3, 6, 3])"
      ]
     },
     "execution_count": 3,
     "metadata": {},
     "output_type": "execute_result"
    }
   ],
   "source": [
    "# Data distribution => Distribution of data in the set\n",
    "\n",
    "from numpy import random\n",
    "a= random.choice([3,4,6], p=[0.7,0.1,0.2], size=20) # where is the percentage for distribution 3 will be highest as more probability in set of 20\n",
    "a"
   ]
  },
  {
   "cell_type": "code",
   "execution_count": 7,
   "id": "29607282-77c3-4ffa-a0b4-a87c3edf4ecc",
   "metadata": {
    "tags": []
   },
   "outputs": [
    {
     "data": {
      "text/plain": [
       "array([[4, 4, 6, 4],\n",
       "       [4, 4, 4, 6]])"
      ]
     },
     "execution_count": 7,
     "metadata": {},
     "output_type": "execute_result"
    }
   ],
   "source": [
    "a_m= random.choice([3,4,6], p=[0.2,0.6,0.2], size=(2,4)) # now 4 will be more\n",
    "a_m"
   ]
  },
  {
   "cell_type": "code",
   "execution_count": null,
   "id": "21e5812c-fecf-4e24-8742-d05bfc4ab468",
   "metadata": {},
   "outputs": [],
   "source": []
  }
 ],
 "metadata": {
  "kernelspec": {
   "display_name": "Python 3 (ipykernel)",
   "language": "python",
   "name": "python3"
  },
  "language_info": {
   "codemirror_mode": {
    "name": "ipython",
    "version": 3
   },
   "file_extension": ".py",
   "mimetype": "text/x-python",
   "name": "python",
   "nbconvert_exporter": "python",
   "pygments_lexer": "ipython3",
   "version": "3.11.3"
  }
 },
 "nbformat": 4,
 "nbformat_minor": 5
}
