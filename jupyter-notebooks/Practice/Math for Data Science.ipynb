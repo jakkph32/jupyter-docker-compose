{
 "cells": [
  {
   "cell_type": "markdown",
   "id": "a82ae1fd-381d-4836-911e-ef7761a2f57e",
   "metadata": {},
   "source": [
    "# Math"
   ]
  },
  {
   "cell_type": "markdown",
   "id": "76f3c431",
   "metadata": {},
   "source": [
    "# Number Theory"
   ]
  },
  {
   "cell_type": "code",
   "execution_count": 1,
   "id": "1a27ec81",
   "metadata": {},
   "outputs": [],
   "source": [
    "# Natural Numbers 1,2 3, 4, 5 => n>=0\n",
    "# Integer : -3,-2,0 ,4,4  => x+(-x) =0\n",
    "# Real Numbers :-2, 1.5, 0, 1.5 ,2, 2.5 => n**2>=0\n",
    "\n",
    "\n",
    "Numbers={\"Complex\":\"\", \n",
    "         \"Real\":{\n",
    "             \"Irrational\":\"log, e, pie, sqrt(2)\", \n",
    "             \"rational\":{\n",
    "                 \"fraction\":{\n",
    "                     \"proper\":\"\", \n",
    "                     \"improper\":\"\",\n",
    "                     \"fraction\":\"\"\n",
    "                 \"integer\":{\n",
    "                     \"negative\":\"\",\n",
    "                     \"Whole\":{\n",
    "                         \"zero\":\"\",\n",
    "                         \"natural numbers also\"\n",
    "                     \"natural number\":{\n",
    "                             \"One\":\"1\",\n",
    "                             \"prime number\": \"\",\n",
    "                             \"composite number\" :\"\"\n",
    "                         }}}}}}}"
   ]
  },
  {
   "cell_type": "code",
   "execution_count": 13,
   "id": "b3d022da",
   "metadata": {},
   "outputs": [
    {
     "data": {
      "text/plain": [
       "{2, 3, 5, 7, 11, 13, 17, 19, 23, 29}"
      ]
     },
     "execution_count": 13,
     "metadata": {},
     "output_type": "execute_result"
    }
   ],
   "source": [
    "def isPrime(n):\n",
    "    isP=True\n",
    "    for i in range(2,n):\n",
    "        if n%i ==0:\n",
    "            isP=False\n",
    "            break;\n",
    "    return isP\n",
    "\n",
    "\n",
    "def get_first_n_prime_number(n):\n",
    "    pr=set()\n",
    "    i=2\n",
    "    while len(pr)<n:\n",
    "        if isPrime(i):\n",
    "            pr.add(i)\n",
    "        i+=1\n",
    "    return pr\n",
    "\n",
    "get_first_n_prime_number(10)"
   ]
  },
  {
   "cell_type": "markdown",
   "id": "939b2dc5",
   "metadata": {},
   "source": [
    "## Solving equations"
   ]
  },
  {
   "cell_type": "code",
   "execution_count": 109,
   "id": "27749e8f-16b2-4833-9135-b2d70889b4c0",
   "metadata": {
    "tags": []
   },
   "outputs": [
    {
     "name": "stdout",
     "output_type": "stream",
     "text": [
      "[2.0]\n",
      "[2.0, 3.0]\n",
      "[1.0, 2.0, 3.0]\n",
      "[1.0, 2.0, 3.0, 4.0]\n"
     ]
    }
   ],
   "source": [
    "\n",
    "def calc(eq,values):\n",
    "    sym_v=0\n",
    "    if len(values)==0:\n",
    "        sym_v= (eq[1]/eq[0])\n",
    "    else:\n",
    "        total=0\n",
    "        for i in range(len(values)):\n",
    "            #print(eq[i+1],values[i])\n",
    "            total += eq[i+1] * values[i]\n",
    "        #print (total)\n",
    "        #print (eq[-1])\n",
    "        sym_v=(eq[-1]-total)/eq[0]\n",
    "        \n",
    "    arr=[sym_v]\n",
    "    if len(values)>0:\n",
    "        for i in values:\n",
    "            arr.append(i)\n",
    "    return arr\n",
    "        \n",
    "        \n",
    "def eval_variable(equations):\n",
    "    no_of_equa= len(equations)\n",
    "    if no_of_equa ==1:\n",
    "        return calc(equations[0],[])\n",
    "    else:\n",
    "        new_equations=[]\n",
    "        for i in range(1,no_of_equa):\n",
    "            new_equations.append (eliminate_variable (equations[0],equations[i]))\n",
    "        values=eval_variable(new_equations) \n",
    "        return calc(equations[0],values)\n",
    "        \n",
    "\n",
    "def eliminate_variable(eq1, eq2):\n",
    "    new_eq1=[]\n",
    "    new_eq2=[]\n",
    "    \n",
    "    for i in eq1:\n",
    "        new_eq1.append(eq2[0]*i)\n",
    "    for i in eq2:\n",
    "        new_eq2.append(eq1[0]*i)\n",
    "   \n",
    "    sub_eq= []\n",
    "    for item1, item2 in zip(new_eq1, new_eq2):\n",
    "        sub_eq.append( item1 - item2)\n",
    "    \n",
    "    if sub_eq[1:][0]<0:\n",
    "        return [-1* i for i in sub_eq[1:]]   \n",
    "    else:\n",
    "        return  ( sub_eq[1:])\n",
    "    #return new_eq\n",
    "\n",
    "#print(calc([2,3,4,20],[2,3]))         \n",
    "   \n",
    "#eliminate_variable([7,8,38], [8,10,46])\n",
    "#eliminate_variable([2,3,4,20], [3,1,2,11])\n",
    "#eliminate_variable([2,3,4,20], [4,2,3,17])\n",
    "    \n",
    "print(eval_variable([[2,4]])) # 2x =4\n",
    "\n",
    "print(eval_variable([[7,8,38], [8,10,46]])) # 7x+8y =30 and 8x+10y=46\n",
    "print(eval_variable([[2,3,4,20], [3,1,2,11], [4,2,3,17]]))  # 2x+3y+4z =20 and 3x+1y+2z =11 and 4x+2y+3z=17\n",
    "print(eval_variable([[2,3,4,2,28], [3,1,2,1,15], [4,2,3,2,25],[1,1,1,2,14]]))  # 2x+3y+4z =20 and 3x+1y+2z =11 and 4x+2y+3z=17"
   ]
  },
  {
   "cell_type": "markdown",
   "id": "bc664118",
   "metadata": {},
   "source": [
    "## Set "
   ]
  },
  {
   "cell_type": "code",
   "execution_count": 2,
   "id": "cdbfc340-2e1d-4eb2-87a4-d4add48f7239",
   "metadata": {},
   "outputs": [],
   "source": [
    "# Set \n",
    "# {}\n",
    "# {2,3,{4,5}} where 2 , 3, {4,5} are element of set\n",
    "# Set Contain unorder Unique element {1,2,4} = {4,2,1} or {1,2,3,1} will be equal to {1,2,3}\n",
    "# VxeE , Where e = element of set E and Vx for every element of E\n",
    "# {1,2,3,4,5 } x>0\n",
    "# Set Builder Notation or Number Set {elements| conditions} example {1,2,,3,4,5| 1<=x<=5}"
   ]
  },
  {
   "cell_type": "code",
   "execution_count": 5,
   "id": "99c2e906",
   "metadata": {},
   "outputs": [],
   "source": [
    "def getset(fx, numStart, numEnd):\n",
    "    myset=set()\n",
    "    for num in range(numStart, numEnd+1):\n",
    "        value=fx(num)\n",
    "        myset.add(value)\n",
    "    return myset"
   ]
  },
  {
   "cell_type": "code",
   "execution_count": 6,
   "id": "24c64640",
   "metadata": {},
   "outputs": [
    {
     "data": {
      "text/plain": [
       "{1, 2, 3, 4, 5}"
      ]
     },
     "execution_count": 6,
     "metadata": {},
     "output_type": "execute_result"
    }
   ],
   "source": [
    "getset(lambda x:x, 1,5)"
   ]
  },
  {
   "cell_type": "code",
   "execution_count": 8,
   "id": "c28d6cab",
   "metadata": {},
   "outputs": [
    {
     "data": {
      "text/plain": [
       "{1,\n",
       " 4,\n",
       " 9,\n",
       " 16,\n",
       " 25,\n",
       " 36,\n",
       " 49,\n",
       " 64,\n",
       " 81,\n",
       " 100,\n",
       " 121,\n",
       " 144,\n",
       " 169,\n",
       " 196,\n",
       " 225,\n",
       " 256,\n",
       " 289,\n",
       " 324,\n",
       " 361,\n",
       " 400}"
      ]
     },
     "execution_count": 8,
     "metadata": {},
     "output_type": "execute_result"
    }
   ],
   "source": [
    "#set of squares\n",
    "getset(lambda x: x*x,1, 20)\n"
   ]
  },
  {
   "cell_type": "code",
   "execution_count": 3,
   "id": "4ad9566b",
   "metadata": {},
   "outputs": [],
   "source": [
    "#Universal Set , All Posible Value\n",
    "SetU={1,2,3,4,5,6,7,8,9}\n"
   ]
  },
  {
   "cell_type": "code",
   "execution_count": 4,
   "id": "775269e1",
   "metadata": {},
   "outputs": [],
   "source": [
    "#Complement of a set. Number in Universal set but no in Set\n",
    "SetA={1,2,3}\n",
    "\n",
    "#Complement of A= A' ={4,5,6,7,8,9} "
   ]
  },
  {
   "cell_type": "code",
   "execution_count": 11,
   "id": "5c1f9d06",
   "metadata": {},
   "outputs": [],
   "source": [
    "\n",
    "def findComplement(setA, setu):\n",
    "    comSet=set()\n",
    "    for i in setu:\n",
    "        if i not in setA:\n",
    "            comSet.add(i)\n",
    "    return comSet"
   ]
  },
  {
   "cell_type": "code",
   "execution_count": 12,
   "id": "0d82b7cc",
   "metadata": {},
   "outputs": [
    {
     "data": {
      "text/plain": [
       "{4, 5, 6, 7, 8, 9}"
      ]
     },
     "execution_count": 12,
     "metadata": {},
     "output_type": "execute_result"
    }
   ],
   "source": [
    "findComplement(SetA,SetU)"
   ]
  },
  {
   "cell_type": "code",
   "execution_count": 13,
   "id": "55dc7fa7",
   "metadata": {},
   "outputs": [
    {
     "data": {
      "text/plain": [
       "3"
      ]
     },
     "execution_count": 13,
     "metadata": {},
     "output_type": "execute_result"
    }
   ],
   "source": [
    "# carndinality = Size of set |p|\n",
    "def findCardinality(s):\n",
    "    return len(s)\n",
    "\n",
    "findCardinality(SetA)"
   ]
  },
  {
   "cell_type": "code",
   "execution_count": 14,
   "id": "19accbef",
   "metadata": {},
   "outputs": [],
   "source": [
    "#equipotent set: related set with same cardinality\n",
    "#equal of identity set: set with same element and cardinality {2,4,5}= {4,5,2}\n",
    "#equivalent Set= same no of element=  {a,b,c,d} {1,2,3,4}"
   ]
  },
  {
   "cell_type": "code",
   "execution_count": null,
   "id": "144bbca1",
   "metadata": {},
   "outputs": [],
   "source": [
    "#Singelton set if only has one element\n",
    "#Null or empty set ={}\n",
    "#finite set- specipic number of element-> Weekday\n",
    "#infinite number of element->{1,2,3,4,5,......} natural number, \n",
    "#Range set = {2,4,7,8,9} Range= max-min=9-2\n",
    "#Domain Set={(2,4), (5,7),(6,8)} x= Domain (2,5,7) y= Range(4,7,8)\n"
   ]
  },
  {
   "cell_type": "code",
   "execution_count": 21,
   "id": "cdef9b14",
   "metadata": {},
   "outputs": [
    {
     "name": "stdout",
     "output_type": "stream",
     "text": [
      "True\n",
      "False\n",
      "True\n"
     ]
    }
   ],
   "source": [
    "#Subset TcB\n",
    "\n",
    "def isSubset(s1,s2):\n",
    "    is_subset=True\n",
    "    for i in s1:\n",
    "        if i not in s2:\n",
    "            is_subset=False\n",
    "            break;\n",
    "    return is_subset;\n",
    "\n",
    "print(isSubset({1,2}, {1,2,3,4}) )# Proper subset\n",
    "print(isSubset({1,5}, {1,2,3,4}) )\n",
    "print(isSubset({1,2,3,4}, {1,2,3,4}) )# Trivial or improper set\n",
    "            "
   ]
  },
  {
   "cell_type": "code",
   "execution_count": 23,
   "id": "15d62ebe",
   "metadata": {},
   "outputs": [
    {
     "name": "stdout",
     "output_type": "stream",
     "text": [
      "True\n",
      "False\n",
      "True\n"
     ]
    }
   ],
   "source": [
    "#SuperSet T)B\n",
    "\n",
    "def isSuperset(s2,s1):\n",
    "    is_supset=True\n",
    "    for i in s1:\n",
    "        if i not in s2:\n",
    "            is_supset=False\n",
    "            break;\n",
    "    return is_supset;\n",
    "\n",
    "print(isSuperset( {1,2,3,4},{1,2}))# \n",
    "print(isSuperset( {1,2,3,4}, {1,5}))\n",
    "print(isSuperset({1,2,3,4}, {1,2,3,4}) )# \n",
    "            "
   ]
  },
  {
   "cell_type": "code",
   "execution_count": 28,
   "id": "093b63f9",
   "metadata": {},
   "outputs": [
    {
     "data": {
      "text/plain": [
       "{frozenset(),\n",
       " frozenset({3, 4}),\n",
       " frozenset({2}),\n",
       " frozenset({1, 4}),\n",
       " frozenset({3}),\n",
       " frozenset({2, 3}),\n",
       " frozenset({2, 3, 4}),\n",
       " frozenset({1, 2}),\n",
       " frozenset({2, 4}),\n",
       " frozenset({1}),\n",
       " frozenset({1, 2, 4}),\n",
       " frozenset({1, 3}),\n",
       " frozenset({1, 2, 3}),\n",
       " frozenset({4}),\n",
       " frozenset({1, 3, 4}),\n",
       " frozenset({1, 2, 3, 4})}"
      ]
     },
     "execution_count": 28,
     "metadata": {},
     "output_type": "execute_result"
    }
   ],
   "source": [
    "# power set, -> super set all supset\n",
    "#power set element = 2**n where n is number of element in set\n",
    "\n",
    "def getSubSets(s):\n",
    "    pli=[]\n",
    "   \n",
    "    for i in s:\n",
    "        nset=set()\n",
    "        for j in s:\n",
    "            if j != i:\n",
    "                nset.add(j)\n",
    "        if len(nset)>0:\n",
    "            pli.append(frozenset(nset))\n",
    "            newSets=getSubSets(nset)\n",
    "            pli.extend(newSets)  \n",
    "    return pli\n",
    "                \n",
    "def getPowerSet(s):  \n",
    "    pli= getSubSets(s)\n",
    "    pli.append(frozenset())\n",
    "    pli.append(frozenset(s))\n",
    "    pSet=set(pli)\n",
    "    \n",
    "    return pSet\n",
    "    \n",
    "\n",
    "getPowerSet({1,2,3,4})"
   ]
  },
  {
   "cell_type": "code",
   "execution_count": null,
   "id": "a996b462",
   "metadata": {},
   "outputs": [],
   "source": []
  },
  {
   "cell_type": "code",
   "execution_count": 25,
   "id": "b4c4ad1e",
   "metadata": {},
   "outputs": [
    {
     "data": {
      "text/plain": [
       "{1, 2, 3, 4, 5, 6, 7}"
      ]
     },
     "execution_count": 25,
     "metadata": {},
     "output_type": "execute_result"
    }
   ],
   "source": [
    "#Union of Set\n",
    "\n",
    "def setUnion(s1,s2):\n",
    "    uSet=set()\n",
    "    for i in s1:\n",
    "        uSet.add(i)\n",
    "    for i in s2:\n",
    "        uSet.add(i)\n",
    "    return uSet\n",
    "\n",
    "setUnion({1,2,3,4}, {4,5,6,7})"
   ]
  },
  {
   "cell_type": "code",
   "execution_count": 26,
   "id": "7f71a3f6",
   "metadata": {},
   "outputs": [
    {
     "name": "stdout",
     "output_type": "stream",
     "text": [
      "{2, 3}\n",
      "{2, 3, 4}\n",
      "set()\n"
     ]
    }
   ],
   "source": [
    "def setIntersection(s1,s2):\n",
    "    iSet=set()\n",
    "    for i in s1:\n",
    "        if i in s2:\n",
    "            iSet.add(i)\n",
    "    return iSet\n",
    "\n",
    "print(setIntersection({1,2,3},{2,3,4,5}))\n",
    "print(setIntersection({1,2,3,4},{2,3,4,5}))\n",
    "print(setIntersection({1,7,8},{2,3,4,5}))"
   ]
  },
  {
   "cell_type": "code",
   "execution_count": 27,
   "id": "dbbcaaff",
   "metadata": {},
   "outputs": [
    {
     "name": "stdout",
     "output_type": "stream",
     "text": [
      "non disjoint set\n",
      "disjoint set\n"
     ]
    }
   ],
   "source": [
    "def disjointSet(s1,s2):\n",
    "    for i in s1:\n",
    "        if i in s2:\n",
    "            print (\"non disjoint set\")\n",
    "            return;\n",
    "    \n",
    "    print (\"disjoint set\")\n",
    "    \n",
    "disjointSet({1,2,3},{2,3,4,5})\n",
    "disjointSet({1,8,7},{2,3,4,5})\n"
   ]
  },
  {
   "cell_type": "code",
   "execution_count": null,
   "id": "fbfb8ed0",
   "metadata": {},
   "outputs": [],
   "source": [
    "#negative set\n",
    "#-(set of even number)= oddnumber\n",
    "\n",
    "\n",
    "#there exist=> x exist in E for example even in natural number "
   ]
  },
  {
   "cell_type": "code",
   "execution_count": 32,
   "id": "ab059580",
   "metadata": {},
   "outputs": [],
   "source": [
    "# set Difference\n",
    "\n",
    "def getSetdifferenceA_B(A,B):\n",
    "    diff=set()\n",
    "    for i  in A:\n",
    "        if i not in B:\n",
    "            diff.add(i)\n",
    "    return diff\n",
    "\n",
    "def getSetdifferenceb_a(A,B):\n",
    "    diff=set()\n",
    "    for i  in B:\n",
    "        if i not in A:\n",
    "            diff.add(i)\n",
    "    return diff\n",
    "\n",
    "def symmetricDiffwithoutunion(A,B):\n",
    "    diff=set()\n",
    "    for i  in A:\n",
    "        if i not in B:\n",
    "            diff.add(i)\n",
    "    for i  in B:\n",
    "        if i not in A:\n",
    "            diff.add(i)\n",
    "    return diff\n",
    "\n",
    "def symmetricDiffwithunion(A,B):\n",
    "    diffa=getSetdifferenceA_B(A,B)\n",
    "    diffb=getSetdifferenceb_a(A,B)\n",
    "    unionvalue=setUnion(diffa,diffb)\n",
    "    \n",
    "    return unionvalue\n",
    "\n"
   ]
  },
  {
   "cell_type": "code",
   "execution_count": 33,
   "id": "7a357b89",
   "metadata": {},
   "outputs": [
    {
     "name": "stdout",
     "output_type": "stream",
     "text": [
      "set diff a-b {1, 2, 4}\n",
      "set diff b-a {8, 9, 6, 7}\n",
      "symatrict diff {1, 2, 4, 6, 7, 8, 9}\n",
      "symat diff (a-b)U(b-a) {1, 2, 4, 6, 7, 8, 9}\n"
     ]
    }
   ],
   "source": [
    "# set Difference\n",
    "A={1,2,3,4,5}\n",
    "B={3,5,6,7,8,9}\n",
    "print(\"set diff a-b\",getSetdifferenceA_B(A,B))\n",
    "print(\"set diff b-a\",getSetdifferenceb_a(A,B))\n",
    "print(\"symmetric diff\",symmetricDiffwithoutunion(A,B))\n",
    "print(\"symmetric diff (a-b)U(b-a)\",symmetricDiffwithunion(A,B))\n",
    "   \n",
    "\n"
   ]
  },
  {
   "cell_type": "code",
   "execution_count": 38,
   "id": "7f8bd993",
   "metadata": {},
   "outputs": [
    {
     "data": {
      "text/plain": [
       "{(1, 3),\n",
       " (1, 5),\n",
       " (1, 6),\n",
       " (1, 7),\n",
       " (1, 8),\n",
       " (1, 9),\n",
       " (2, 3),\n",
       " (2, 5),\n",
       " (2, 6),\n",
       " (2, 7),\n",
       " (2, 8),\n",
       " (2, 9),\n",
       " (3, 3),\n",
       " (3, 5),\n",
       " (3, 6),\n",
       " (3, 7),\n",
       " (3, 8),\n",
       " (3, 9),\n",
       " (4, 3),\n",
       " (4, 5),\n",
       " (4, 6),\n",
       " (4, 7),\n",
       " (4, 8),\n",
       " (4, 9),\n",
       " (5, 3),\n",
       " (5, 5),\n",
       " (5, 6),\n",
       " (5, 7),\n",
       " (5, 8),\n",
       " (5, 9)}"
      ]
     },
     "execution_count": 38,
     "metadata": {},
     "output_type": "execute_result"
    }
   ],
   "source": [
    "# cartesion product\n",
    "\n",
    "A={1,2,3,4,5}\n",
    "B={3,5,6,7,8,9}\n",
    "\n",
    "def cartesionProduct(A,B):\n",
    "    cp=set()\n",
    "    for i in A:\n",
    "        for j in B:\n",
    "            \n",
    "            cp.add((i,j))\n",
    "    return cp\n",
    "cartesionProduct(A,B)\n"
   ]
  },
  {
   "cell_type": "markdown",
   "id": "5a1d5611",
   "metadata": {},
   "source": [
    "# Set Theory Law\n",
    "## Identity Law => AnU= A , Au{}= A\n",
    "## Idempotent law => AuA=A, AnA= A\n",
    "## Domination law => AuU=U, An{}={}\n",
    "## Complementation law => AuA'=U , AnA'={}\n",
    "## Commutative law => AuB=BuA, AnB=BnA\n",
    "## Distribution laws => An(BuC) =(AnB)u(AnC), Au(BnC)=(AuB)n(AuC)\n",
    "## Absorption law => Au (AnB)= A, An(AuB) =A\n",
    "## Associative law => (AuB)uC= Au(BuC),(AnB)nC= An(BnC)\n",
    "## De Morgan's law => (AuB)'= A'nB' , (AnB)'=A'uB'\n",
    "## Double negation law => (A')'= A"
   ]
  },
  {
   "cell_type": "markdown",
   "id": "ef9330ac",
   "metadata": {},
   "source": [
    "# Set Similarity or relation between sets How to find similarity ? \n",
    "# Use case=Text Analysis, Recomdation, Image analysis , etc.\n",
    "\n",
    "## Jaccard Similarity => Jaccard(A,B)= |AnB|/|AuB|  Range (0-.19,.2-.39,.4-.59,.6-.79,.8-1 )\n",
    "## Dice Coefficient => Dice_Coefficient(A,B)=2* |Anb|/|A|+|B| give higher value for small sets Range(0, 0-.5,.5,.5-1,1)\n",
    "## Tversky Index => T(A,B)=|AnB|/(|AnB| + a|A-B|+b|B-A|)\n",
    "### if a & b=1 its jaccard , if 0.5 its Dice"
   ]
  },
  {
   "cell_type": "code",
   "execution_count": null,
   "id": "7545bd71",
   "metadata": {},
   "outputs": [],
   "source": [
    "#Venn Diagran=> Circular representation of Sets in circle"
   ]
  },
  {
   "cell_type": "code",
   "execution_count": 3,
   "id": "4a4ef62a",
   "metadata": {},
   "outputs": [
    {
     "name": "stdout",
     "output_type": "stream",
     "text": [
      "{1, 2, 3} {4, 5, 6}\n",
      "5\n",
      "True\n",
      "False\n",
      "{1, 2, 3, 4, 5}\n",
      "{1, 2, 3, 4, 5}\n",
      "{3}\n",
      "{3}\n",
      "{1, 2}\n",
      "{1, 2}\n",
      "{1, 2, 4, 5}\n",
      "{1, 2, 4, 5}\n",
      "True\n",
      "True\n",
      "True\n",
      "True\n",
      "True\n",
      "True\n",
      "{1, 2, 3, 4}\n",
      "{1, 2}\n",
      "{1, 2}\n",
      "1\n",
      "{2, 3}\n",
      "set()\n",
      "{1, 4, 9, 16, 25}\n",
      "frozenset({1, 2, 3})\n"
     ]
    }
   ],
   "source": [
    "#Python Method\n",
    "#1. Defining a Set\n",
    "s1 = set([1, 2, 3])\n",
    "s2 = {4, 5, 6}\n",
    "print(s1, s2)\n",
    "\n",
    "\n",
    "#2. Set Size / cardinality\n",
    "s = {1, 2, 3, 4, 5}\n",
    "size = len(s)\n",
    "print(size)\n",
    "\n",
    "#3. Set Membership - to check if an element is a member of a set\n",
    "s = {1, 2, 3, 4, 5}\n",
    "print(2 in s)\n",
    "print(6 in s)\n",
    "\n",
    "#4. Union\n",
    "s1 = {1, 2, 3}\n",
    "s2 = {3, 4, 5}\n",
    "print(s1.union(s2))\n",
    "print(s1 | s2)\n",
    "\n",
    "\n",
    "#5. Intersection\n",
    "s1 = {1, 2, 3}\n",
    "s2 = {3, 4, 5}\n",
    "print(s1.intersection(s2))\n",
    "print(s1 & s2)\n",
    "\n",
    "#6. Difference\n",
    "s1 = {1, 2, 3}\n",
    "s2 = {3, 4, 5}\n",
    "print(s1.difference(s2))\n",
    "print(s1 - s2)\n",
    "\n",
    "\n",
    "\n",
    "#7. Symmetric Difference\n",
    "s1 = {1, 2, 3}\n",
    "s2 = {3, 4, 5}\n",
    "print(s1.symmetric_difference(s2))\n",
    "print(s1 ^ s2)\n",
    "\n",
    "#8. isdisjoint - check if two sets are disjoint\n",
    "s1 = {1, 2, 3}\n",
    "s2 = {4, 5, 6}\n",
    "print(s1.isdisjoint(s2))\n",
    "\n",
    "#9. issubset - check if a set is a proper subset of another set\n",
    "s1 = {1, 2, 3}\n",
    "s2 = {1, 2, 3, 4, 5}\n",
    "print(s1.issubset(s2))\n",
    "print(s1 <= s2)\n",
    "\n",
    "#10. issubset - check if a set is a improper subset of another set\n",
    "\n",
    "s1 = {1, 2, 3}\n",
    "s2 = {1, 2, 3}\n",
    "print(s1 <= s2)\n",
    "\n",
    "#11. issuperset - check if a set is a superset of another set\n",
    "s1 = {1, 2, 3}\n",
    "s2 = {1, 2, 3, 4, 5}\n",
    "print(s2.issuperset(s1))\n",
    "print(s2 >= s1)\n",
    "\n",
    "#12. Add element to set\n",
    "s = {1, 2, 3}\n",
    "s.add(4)\n",
    "print(s)\n",
    "\n",
    "#13. Remove element from set:\n",
    "#        The remove method is used to remove a specific element from the set.\n",
    "#        You must provide the element you want to remove as an argument.\n",
    "#        If the element is not found in the set, it raises a KeyError.\n",
    "#        It does not return any value.\n",
    "\n",
    "s = {1, 2, 3}\n",
    "s.remove(3)\n",
    "print(s)\n",
    "\n",
    "\n",
    "#14. Discard an element from a set:\n",
    "#        The discard method is used to remove a specific element from the set.\n",
    "#        You must provide the element you want to remove as an argument.\n",
    "#        If the element is not found in the set, it does NOT raise a KeyError.\n",
    "#        It does not return any value.\n",
    "s = {1, 2, 3}\n",
    "s.discard(3)\n",
    "print(s)\n",
    "\n",
    "#15. Pop - remove and return an arbitrary element from a set:\n",
    "#        The pop method is used to remove and return an arbitrary element from the set.\n",
    "#        You do not provide any argument to the method.\n",
    "#        If the set is empty, it raises a KeyError.\n",
    "#        It returns the removed element.\n",
    "s = {1, 2, 3}\n",
    "element = s.pop()\n",
    "print(element)  # Output: 1 (or any other element, since the order is not guaranteed)\n",
    "print(s)  # Output: {2, 3} (or the remaining elements after removing the popped element)\n",
    "\n",
    "#16. Clear - to remove all elements from a set\n",
    "s = {1, 2, 3}\n",
    "s.clear()\n",
    "print(s)\n",
    "\n",
    "#17. Set - Comprehension create a set using set comprehension\n",
    "squares = {x ** 2 for x in range(1, 6)}\n",
    "print(squares)\n",
    "\n",
    "#18. frozenset - \n",
    "#        A frozenset is an immutable version of a set that cannot be modified afte\n",
    "fs = frozenset([1, 2, 3])\n",
    "print(fs)"
   ]
  },
  {
   "cell_type": "code",
   "execution_count": 4,
   "id": "984f6c15",
   "metadata": {},
   "outputs": [
    {
     "name": "stdout",
     "output_type": "stream",
     "text": [
      "{1, 2, 3, 4, 5, 6, 7, 8, 9, 10}\n",
      "{3}\n",
      "False\n",
      "{1, 3, 5}\n"
     ]
    }
   ],
   "source": [
    "import functools\n",
    "\n",
    "#1. Union of multiple sets\n",
    "s1 = {1, 2, 3}\n",
    "s2 = {3, 4, 5}\n",
    "s3 = {5, 6, 7}\n",
    "s4 = {7, 8, 9}\n",
    "s5 = {1, 9, 10}\n",
    "union = functools.reduce(set.union, [s1, s2, s3, s4, s5])\n",
    "print(union)\n",
    "\n",
    "#2. Intersection of multiple sets\n",
    "s1 = {1, 2, 3}\n",
    "s2 = {2, 3, 4}\n",
    "s3 = {3, 4, 5}\n",
    "s4 = {3, 6, 7}\n",
    "s5 = {3, 8, 9}\n",
    "intersection = functools.reduce(set.intersection, [s1, s2, s3, s4, s5])\n",
    "print(intersection)\n",
    "\n",
    "#3. Check if any elements are common in multiple sets\n",
    "s1 = {1, 2, 3}\n",
    "s2 = {3, 4, 5}\n",
    "s3 = {5, 6, 7}\n",
    "s4 = {7, 8, 9}\n",
    "s5 = {9, 10, 11}\n",
    "has_common_elements = any(s1.intersection(s2, s3, s4, s5))\n",
    "print(has_common_elements)\n",
    "\n",
    "#4. Symmetric difference of multiple sets\n",
    "s1 = {1, 2, 3}\n",
    "s2 = {2, 3, 4}\n",
    "s3 = {3, 4, 5}\n",
    "\n",
    "symmetric_difference = functools.reduce(set.symmetric_difference, [s1, s2, s3])\n",
    "print(symmetric_difference)"
   ]
  },
  {
   "cell_type": "markdown",
   "id": "a13bcf48",
   "metadata": {},
   "source": [
    "# Statistics"
   ]
  },
  {
   "cell_type": "code",
   "execution_count": 13,
   "id": "08e77584",
   "metadata": {},
   "outputs": [],
   "source": [
    "# Raw Data -unprocess data\n",
    "# Population - total \n",
    "# Sample - small sample from population\n",
    "# Frequency\n",
    "# Mean= average\n",
    "#weighted mean = average by weight (sum(aw+....)/sum(w..)\n",
    "# median = mid if odd the sum/2 else sum(odd1+odd2 )/2\n",
    "#median by frequency = sum(f* value) if even than divide by 2 else sum +1 divide by 2\n",
    "\n",
    "#Mode is the element that appear max or the element with highest frequency\n"
   ]
  },
  {
   "cell_type": "code",
   "execution_count": 16,
   "id": "4c95e9c4",
   "metadata": {},
   "outputs": [
    {
     "name": "stdout",
     "output_type": "stream",
     "text": [
      "4\n",
      "3\n"
     ]
    }
   ],
   "source": [
    "# Calculate Frequency of x in sample\n",
    "\n",
    "sample=[4,5,6,7,7,8,3,5,6,7,7,3,2,2,2,5,6]\n",
    "def find_frequency(sample, value):\n",
    "    freq=0\n",
    "    for i in sample:\n",
    "        if i == value:\n",
    "            freq +=1\n",
    "    print(freq)\n",
    "\n",
    "find_frequency(sample, 7) #4\n",
    "find_frequency(sample, 2) #3"
   ]
  },
  {
   "cell_type": "code",
   "execution_count": 15,
   "id": "8a1358e4",
   "metadata": {
    "tags": []
   },
   "outputs": [
    {
     "name": "stdout",
     "output_type": "stream",
     "text": [
      "4.0\n"
     ]
    }
   ],
   "source": [
    "# Mean = Average\n",
    "#sample=[4,5,6,7,7,8,3,5,6,7,7,3,2,2,2,5,6]\n",
    "sample=[2,6]\n",
    "def mean(sample):\n",
    "    total=0\n",
    "    count=0\n",
    "    for i in sample:\n",
    "        total +=i\n",
    "        count +=1\n",
    "    mean= total/count\n",
    "    return mean\n",
    "\n",
    "print(mean(sample))"
   ]
  },
  {
   "cell_type": "code",
   "execution_count": 39,
   "id": "25a6b22f",
   "metadata": {
    "tags": []
   },
   "outputs": [
    {
     "data": {
      "text/plain": [
       "7.636363636363637"
      ]
     },
     "execution_count": 39,
     "metadata": {},
     "output_type": "execute_result"
    }
   ],
   "source": [
    "# Weighted Mean Sum(x*w)/Sum(w)\n",
    "\n",
    "sample=[(6,2),(8,3),(9,4),(6,2)]\n",
    "\n",
    "def weighted_mean(*args):\n",
    "    total=0\n",
    "    weight=0\n",
    "    for i in args:\n",
    "        total += i[0]*i[1]\n",
    "        weight +=i[1]\n",
    "    w_mean= total/weight\n",
    "    return w_mean\n",
    "\n",
    "weighted_mean((6,2),(8,3),(9,4),(6,2))"
   ]
  },
  {
   "cell_type": "code",
   "execution_count": 26,
   "id": "ba6adccd",
   "metadata": {},
   "outputs": [
    {
     "name": "stdout",
     "output_type": "stream",
     "text": [
      "3\n",
      "[1, 2, 3, 4, 6, 9]\n",
      "3.5\n"
     ]
    },
    {
     "data": {
      "text/plain": [
       "3.5"
      ]
     },
     "execution_count": 26,
     "metadata": {},
     "output_type": "execute_result"
    }
   ],
   "source": [
    "import math\n",
    "def median(sample):\n",
    "    sort_sample=sorted(sample)\n",
    "    is_even=len(sample)%2==0\n",
    "    if is_even:\n",
    "        mid= int(len(sample)/2)\n",
    "        medan= (sort_sample[mid-1] + sort_sample[mid])/2\n",
    "    else:\n",
    "        mid=int(math.ceil(len(sample)/2))\n",
    "        medan= sort_sample[mid-1]\n",
    "    #print(mid)\n",
    "    #print (sort_sample)\n",
    "    #print (medan)\n",
    "    return medan\n",
    "\n",
    "\n",
    "median([3,6,9,4,2,1])"
   ]
  },
  {
   "cell_type": "code",
   "execution_count": 21,
   "id": "c258914d",
   "metadata": {},
   "outputs": [
    {
     "data": {
      "text/plain": [
       "5"
      ]
     },
     "execution_count": 21,
     "metadata": {},
     "output_type": "execute_result"
    }
   ],
   "source": [
    "# Median frequency -> Sum(fq)=> sum(fq)/2 else (sum(fq)+1)/2 and find where it is less in frequency\n",
    "\n",
    "\n",
    "\n",
    "def median_frequency(values):\n",
    "    sumf= 0\n",
    "    for val in values:\n",
    "        sumf +=val[1]\n",
    "    ex_fq=0\n",
    "    if sumf % 2==0:\n",
    "        ex_fq=sumf / 2\n",
    "    else:\n",
    "        ex_fq= (sumf +1)/2\n",
    "    sum_t=0 \n",
    "    counter=0\n",
    "    med_feq=0\n",
    "    #print (ex_fq)\n",
    "    #print (sum_t)\n",
    "    #print (med_feq)\n",
    "    while sum_t < ex_fq:\n",
    "        sum_t +=values[counter][1]\n",
    "        med_feq=values[counter][0]\n",
    "        counter +=1\n",
    "        #print (sum_t)\n",
    "        #print (med_feq)\n",
    "    return med_feq\n",
    "\n",
    "#values= [(5,7), (6,21),(7,12),(8,10),(9,8),(10,2)]\n",
    "values= [(0,2), (1,0),(2,0),(3,2),(4,3),(5,6),(6,3),(7,2),(8,2),(9,1),(10,0)]\n",
    "median_frequency(values)\n",
    "        \n"
   ]
  },
  {
   "cell_type": "code",
   "execution_count": null,
   "id": "0feac7f9",
   "metadata": {},
   "outputs": [],
   "source": [
    "#Mode => in the sequency , the value with mode frequency is mode"
   ]
  },
  {
   "cell_type": "code",
   "execution_count": 6,
   "id": "086b8c0a",
   "metadata": {
    "tags": []
   },
   "outputs": [
    {
     "name": "stdout",
     "output_type": "stream",
     "text": [
      "{75: 1, 76: 1, 72: 4, 73: 2, 74: 1, 79: 1, 77: 1, 71: 1, 70: 1, 78: 1}\n"
     ]
    },
    {
     "data": {
      "text/plain": [
       "72"
      ]
     },
     "execution_count": 6,
     "metadata": {},
     "output_type": "execute_result"
    }
   ],
   "source": [
    "def Mode(ls):\n",
    "    m_di={}\n",
    "    \n",
    "    for i in ls:\n",
    "        if i not in m_di:\n",
    "            m_di[i]=1\n",
    "        else:\n",
    "            m_di[i] +=1\n",
    "    print(m_di)\n",
    "    max_value=0\n",
    "    max_value_key=0\n",
    "    for key, value in m_di.items():\n",
    "        if value> max_value:\n",
    "            max_value= value\n",
    "            max_value_key=key\n",
    "    \n",
    "    return max_value_key\n",
    "\n",
    "#Mode([8,10,9,9,10,8,11,8,10,9,8,14])\n",
    "Mode([75,76,72,73,74,79,72,72,77,72,71,70,78,73 ])\n",
    "            "
   ]
  },
  {
   "cell_type": "code",
   "execution_count": 7,
   "id": "f2975372",
   "metadata": {
    "tags": []
   },
   "outputs": [
    {
     "data": {
      "text/plain": [
       "58"
      ]
     },
     "execution_count": 7,
     "metadata": {},
     "output_type": "execute_result"
    }
   ],
   "source": [
    "def Mode_of_frequency(dict_fre):\n",
    "    \n",
    "    max_value=0\n",
    "    max_value_key=0\n",
    "    for key, value in dict_fre.items():\n",
    "        if value> max_value:\n",
    "            max_value= value\n",
    "            max_value_key=key\n",
    "    \n",
    "    return max_value_key\n",
    "\n",
    "Mode_of_frequency({52:5,55:18,58:42,61:27,64:8})\n"
   ]
  },
  {
   "cell_type": "code",
   "execution_count": 8,
   "id": "03249a3e",
   "metadata": {
    "tags": []
   },
   "outputs": [],
   "source": [
    "# Speed/ varation is the change or spread\n",
    "# Range = max value-min value"
   ]
  },
  {
   "cell_type": "code",
   "execution_count": 14,
   "id": "5ae43c00",
   "metadata": {
    "tags": []
   },
   "outputs": [
    {
     "data": {
      "text/plain": [
       "59.78"
      ]
     },
     "execution_count": 14,
     "metadata": {},
     "output_type": "execute_result"
    }
   ],
   "source": [
    "# Range\n",
    "def find_range(*arg):\n",
    "    max_value= arg[0]\n",
    "    min_value= arg[0]\n",
    "    for i in arg:\n",
    "        if i>max_value:\n",
    "            max_value=i\n",
    "        if i < min_value:\n",
    "            min_value=i\n",
    "    #print (max_value, min_value)\n",
    "    return max_value- min_value\n",
    "find_range(2,4,5,7,9,11,13,17,15)\n",
    "find_range(17.1,50.3, 6.27,15.9,66.05, 24)"
   ]
  },
  {
   "cell_type": "code",
   "execution_count": 27,
   "id": "b3b30d31",
   "metadata": {
    "tags": []
   },
   "outputs": [
    {
     "name": "stdout",
     "output_type": "stream",
     "text": [
      "4 -3.0\n",
      "6 -1.0\n",
      "5 -2.0\n",
      "8 1.0\n",
      "12 5.0\n",
      "12.0\n"
     ]
    },
    {
     "data": {
      "text/plain": [
       "2.4"
      ]
     },
     "execution_count": 27,
     "metadata": {},
     "output_type": "execute_result"
    }
   ],
   "source": [
    "# mean Deviation\n",
    "# mean _deviation is the sum of Absolute value- mean divide by total arg\n",
    "#if frequency then multiply by frequence and divide by sum of frequency\n",
    "def mean_deviation(*arg):\n",
    "    mean_of_arg= mean(arg)\n",
    "    sums=0\n",
    "    for i in arg:\n",
    "        di=i - mean_of_arg\n",
    "        #print (i,di)\n",
    "        sums += abs(di)\n",
    "    print (sums)\n",
    "    md= sums/len(arg)\n",
    "    return md\n",
    "\n",
    "mean_deviation(4,6,5,8,12)\n"
   ]
  },
  {
   "cell_type": "code",
   "execution_count": null,
   "id": "2a7cf8bd",
   "metadata": {},
   "outputs": [],
   "source": [
    "def mean_deviation(*arg):\n",
    "    mean_of_arg= mean(arg)\n",
    "    sums=0\n",
    "    for i in arg:\n",
    "        di=i - mean_of_arg\n",
    "        #print (i,di)\n",
    "        sums += abs(di)\n",
    "    print (sums)\n",
    "    md= sums/len(arg)\n",
    "    return md\n",
    "\n",
    "mean_deviation(4,6,5,8,12)\n"
   ]
  },
  {
   "cell_type": "code",
   "execution_count": 32,
   "id": "a3a1acce",
   "metadata": {
    "tags": []
   },
   "outputs": [
    {
     "data": {
      "text/plain": [
       "49.0"
      ]
     },
     "execution_count": 32,
     "metadata": {},
     "output_type": "execute_result"
    }
   ],
   "source": [
    "def varience(*arg):\n",
    "    mean_of_arg= mean(arg)\n",
    "    sums=0\n",
    "    for i in arg:\n",
    "        di=i - mean_of_arg\n",
    "        #print (i,di)\n",
    "        sums += di**2\n",
    "    #print (sums)\n",
    "    md= sums/len(arg)\n",
    "    return md\n",
    "\n",
    "varience(19,21,27,37)\n",
    "# Note varience of element x, y ,z= varience of number x+c, y+c , z+c"
   ]
  },
  {
   "cell_type": "code",
   "execution_count": 68,
   "id": "f2bbe23e",
   "metadata": {
    "tags": []
   },
   "outputs": [
    {
     "data": {
      "text/plain": [
       "7.24"
      ]
     },
     "execution_count": 68,
     "metadata": {},
     "output_type": "execute_result"
    }
   ],
   "source": [
    "def mean_by_frequency(args):\n",
    "    sums=0\n",
    "    sumf=0\n",
    "    for i in args:\n",
    "        #print( i)\n",
    "        sums += i[1] * i[0]\n",
    "        sumf += i[1]\n",
    "        \n",
    "    m_f= sums/sumf\n",
    "    return m_f\n",
    "\n",
    "def varience_by_frequency(args):\n",
    "    sums=0\n",
    "    sumf=0\n",
    "    meanf= (mean_by_frequency(args))\n",
    "    for i in args:\n",
    "        #print( i)\n",
    "        di= (i[0] - meanf)**2\n",
    "        #print (i,di)\n",
    "        sums += i[1] *di\n",
    "        sumf +=  i[1]\n",
    "    #print (sums)\n",
    "    md= sums/sumf\n",
    "    return md\n",
    "\n",
    "varience_by_frequency([(1,4),(3,2),(5,2),(7,1),(9,1)])\n",
    "# Note varience of element x, y ,z= varience of number x+c, y+c , z+c"
   ]
  },
  {
   "cell_type": "code",
   "execution_count": 69,
   "id": "e0993488",
   "metadata": {
    "tags": []
   },
   "outputs": [],
   "source": [
    "import math\n",
    "def standard_deviation(arg):\n",
    "    var= varience(arg)\n",
    "    sd= math.sqrt(var)\n",
    "    \n"
   ]
  },
  {
   "cell_type": "code",
   "execution_count": 70,
   "id": "bc7f239f",
   "metadata": {
    "tags": []
   },
   "outputs": [],
   "source": [
    "import math\n",
    "def standard_deviation_frequency(arg):\n",
    "    var= varience_by_frequency(arg)\n",
    "    sd= math.sqrt(var)"
   ]
  },
  {
   "cell_type": "markdown",
   "id": "dd367779",
   "metadata": {},
   "source": [
    "# Variable - character , number, quantity\n",
    "## Categorical\n",
    "### Nominal - data that show categories or group (Male/Female) , Colours\n",
    "### Ordinal - similar to Nominal but you can set them in order like (low< medium < high ), (first> second> third)\n",
    "## Numerical\n",
    "### Discrete - that can be count => no of student, no. of staff, number of cars, population \n",
    "### Continuous - Continuously changing variable - Height , age \n",
    "### Interval variable - Equal space between variable 5000, 10000, 15000, 20000\n",
    "\n",
    "\n",
    "\n",
    "# Types \n",
    "## Independent variables- predicate that are independent - covid\n",
    "## Dependent variable - variable dependent of other or independent variable -death\n",
    "## control variable - variable that are constant or control. change in them will change the results - medicine\n",
    "## mediating variable - that act as mediator between dependent / independent variable - fever\n",
    "## moderating variable - that impact dependent variable effect - vaccine\n",
    "\n"
   ]
  },
  {
   "cell_type": "markdown",
   "id": "d145ee07",
   "metadata": {},
   "source": [
    "# Correlation\n",
    "## correction  measure the relation and movement between independent variable\n",
    "### Perfect positive correction = 1 => move in same direction ( both variable increase together)\n",
    "### Perfect negative correction = -1 => move in different direction but associated ( variable increase other decrease)\n",
    "#### (+/-)perfect, (+,-) strong , (+,-) weak , no correlation"
   ]
  },
  {
   "cell_type": "markdown",
   "id": "f2962a48",
   "metadata": {},
   "source": [
    "# Regression\n",
    "## Regression is method to establist relationship between dependent varibale with one or more independent variable\n",
    "### Linear regression y= a+ bx+e ( y => dependent variable , x is independent variable, a is intercept, e is error)\n",
    "### Multiple Regression y= a+ bx0+ cx1 + dx2 +e (x0,x1,x2= independent variable)\n",
    "### Non linear\n",
    "\n",
    "# Collinearity /non -collinearity\n",
    "## relation between independent variable  for example how x1, x2, x0 are related\n",
    "## collinearity means lying on same line , non collinearlity mean not lying on same line\n",
    "## for regression we should use non-collinearity \n",
    "\n",
    "# Correlation coefficient\n",
    "## Pearson correlation Coefficient ->Liner relation ship r= n sum(xy)-sum(x)sum(y)/ sqrt([nsum(x**2)-sum(x)**2][nsum(y**2)-sum(y)**2])\n",
    "## Spearman Correlation Coefficient -> non parmeteric measure of rank  r = 1-6(Sum(D2))/n(n2-1) where D= Rank of x- rank of y, Rank from greater to lower 1 will have more rank number then 2\n",
    "\n",
    "# Error\n",
    "## regression error matrix is use to predict error, lower error better model\n",
    "### Mean Square error = sum((error)**2)/n  => error = point- line\n",
    "### Mean Abs error = sum(abs(error))/n  => error = point- line\n",
    "### Root Mean Square error = sqrt(sum((error)**2)/n)  => error = point- line\n",
    "### R Sqaure or coeffient of determination  R**2= 1- (sum(error**2)/sum(y-mean(predected value)**2)) \n",
    "### Adjusted R square= <= Rsquare => 1-(1-(R**2)(n-1)/(n-k-1)) => n is no of observation k is no of independent variable\n",
    "\n",
    "### Higher value of r- square is desirable\n"
   ]
  },
  {
   "cell_type": "code",
   "execution_count": 91,
   "id": "a2b21bd8",
   "metadata": {
    "tags": []
   },
   "outputs": [
    {
     "name": "stdout",
     "output_type": "stream",
     "text": [
      "[[3, 2.6, 2.5, 2.4, 2.2, 2.1, 2, 1.6, 1.5, 1.4, 1.25, 1], [8.9, 8.8, 8.7, 8.65, 8.6, 8.5, 8.4, 8.3, 8.25, 8.2, 8.15, 8]]\n"
     ]
    }
   ],
   "source": [
    "#Spearman\n",
    "\n",
    "data =[[1,1.5,1.25,1.6,1.4,2,2.1,2.2,2.6,2.4,2.5,3],[8,8.2,8.15,8.25,8.3,8.6,8.8,8.65,8.7,8.5,8.9,8.4]]\n",
    "len(data[1])\n",
    "new_data={}\n",
    "for i in data:\n",
    "    new_data.append(sorted(i,reverse=True))\n",
    "\n",
    "print(new_data)\n",
    "\n",
    "#todo"
   ]
  },
  {
   "cell_type": "code",
   "execution_count": 5,
   "id": "a8979c09",
   "metadata": {},
   "outputs": [
    {
     "data": {
      "text/plain": [
       "([12, 10, 14, 11, 12, 9], [18, 17, 23, 19, 20, 15])"
      ]
     },
     "execution_count": 5,
     "metadata": {},
     "output_type": "execute_result"
    }
   ],
   "source": [
    "[12,10,14,11,12,9],[18,17,23,19,20,15]"
   ]
  },
  {
   "cell_type": "code",
   "execution_count": null,
   "id": "a25211c4",
   "metadata": {},
   "outputs": [],
   "source": []
  },
  {
   "cell_type": "markdown",
   "id": "bc768783",
   "metadata": {},
   "source": [
    "# Matricies/ Matrix"
   ]
  },
  {
   "cell_type": "code",
   "execution_count": 15,
   "id": "795f7429",
   "metadata": {},
   "outputs": [],
   "source": [
    "matrix= [[1,2,3],[4,5,6],[7,8,9]]\n",
    "rowM= [[1,2,3]]\n",
    "columnM=[[1],[2],[3]]\n",
    "sqaurematrix= [[1,2],[3,4]] #row number = column number\n",
    "Rectangularmatirx = [[1,2,3],[5,6,7]]\n",
    "diagonalMatrix= [[6,0,0],[0,8,0],[0,0,7]] # allnumber except diagonal are 0\n",
    "scalarMatrix= [[6,0,0],[0,6,0],[0,0,6]] # allnumber except diagonal are 0 and diagonal number are same\n",
    "#zeromatrix/ Null Matrix=[[0,0],[0,0]]\n",
    "#identityMatrix/Unit matrix= [[1,0,0],[0,1,0],[0,0,1]]#scaler matrix where diagonal are 1 also called unit matrix if you multiply it by maxtrix x answer is x\n",
    "singular_matrix =[[1,1,1],[1,1,1],[1,1,1]]\n",
    "#upper triangular [2,4,0],[0,5,6],[0,0,6]\n",
    "#lower traingular\n",
    "#symmetric Matrix = matrix; where matrix = transpose\n",
    "#Skew symentrix matrix = transpose of matrix = negative of matrix.\n",
    "#if determination of matrix =0 its singular matrix\n",
    "# sparse matrix -> most elements are 0\n",
    "# dense matrix-> most elements are non zero\n",
    "# toeplitz= all decending are contant that is same element \n",
    "# decending=>00->22 accending=> 20=>02\n",
    "# Hankel -> all accending elements are constant and is skew [[2,3,4,0],[3,4,0,0],[4,0,0,0]] skew of top left\n",
    "# permuation metrix -[0,1,0],[1,0,0],[0,0,1]  only 1 in every colum ,row\n",
    "# left storchastic matric = sum of row element =1\n",
    "# right storchastic matric = sum of column element =1\n",
    "# equal matrix"
   ]
  },
  {
   "cell_type": "code",
   "execution_count": 52,
   "id": "d8b778e1",
   "metadata": {},
   "outputs": [
    {
     "name": "stdout",
     "output_type": "stream",
     "text": [
      "[[1, 4, 7], [2, 5, 8], [3, 6, 9]]\n"
     ]
    }
   ],
   "source": [
    "# Transpose of a matrix row become column and column become row\n",
    "\n",
    "def transposeMatrix(m):\n",
    "\n",
    "    rows= len(m)\n",
    "    columns= len(m[0])\n",
    "    \n",
    "    tmatrix = [ [ 0 for i in range(rows) ] for j in range(columns) ]\n",
    "    for i in range(rows):\n",
    "        for j in range(columns):\n",
    "            tmatrix[j][i]=m[i][j]\n",
    "    return tmatrix\n",
    "    \n",
    "\n",
    "print(transposeMatrix(matrix))"
   ]
  },
  {
   "cell_type": "code",
   "execution_count": 5,
   "id": "00fb132b",
   "metadata": {},
   "outputs": [],
   "source": [
    "matrix_a=[[1,2,3],[1,2,3],[1,2,3]]\n",
    "matrix_b=[[6,2,3],[1,6,3],[8,2,9]]"
   ]
  },
  {
   "cell_type": "code",
   "execution_count": 6,
   "id": "1dd6fa03",
   "metadata": {},
   "outputs": [],
   "source": [
    "def addmatrix(m1,m2):\n",
    "    rows= len(m1)\n",
    "    columns= len(m1[0])\n",
    "    \n",
    "    tmatrix = [ [ 0 for i in range(columns) ] for j in range(rows) ]\n",
    "    \n",
    "    for i in range(rows):\n",
    "        for j in range(columns):\n",
    "            tmatrix[i][j]=m1[i][j]+m2[i][j]\n",
    "            \n",
    "    return tmatrix\n",
    "            "
   ]
  },
  {
   "cell_type": "code",
   "execution_count": 7,
   "id": "09a336a5",
   "metadata": {},
   "outputs": [],
   "source": [
    "def submatrix(m1,m2):\n",
    "    rows= len(m1)\n",
    "    columns= len(m1[0])\n",
    "    \n",
    "    tmatrix = [ [ 0 for i in range(columns) ] for j in range(rows) ]\n",
    "    \n",
    "    for i in range(rows):\n",
    "        for j in range(columns):\n",
    "            tmatrix[i][j]=m1[i][j]-m2[i][j]\n",
    "            \n",
    "    return tmatrix\n",
    "            "
   ]
  },
  {
   "cell_type": "code",
   "execution_count": 8,
   "id": "20c3fc0b",
   "metadata": {},
   "outputs": [
    {
     "data": {
      "text/plain": [
       "[[7, 4, 6], [2, 8, 6], [9, 4, 12]]"
      ]
     },
     "execution_count": 8,
     "metadata": {},
     "output_type": "execute_result"
    }
   ],
   "source": [
    "addmatrix(matrix_a,matrix_b)"
   ]
  },
  {
   "cell_type": "code",
   "execution_count": 9,
   "id": "bce62908",
   "metadata": {},
   "outputs": [
    {
     "data": {
      "text/plain": [
       "[[-5, 0, 0], [0, -4, 0], [-7, 0, -6]]"
      ]
     },
     "execution_count": 9,
     "metadata": {},
     "output_type": "execute_result"
    }
   ],
   "source": [
    "submatrix(matrix_a,matrix_b)"
   ]
  },
  {
   "cell_type": "code",
   "execution_count": 44,
   "id": "db60e904",
   "metadata": {},
   "outputs": [
    {
     "data": {
      "text/plain": [
       "[[-1, -2], [-3, -4]]"
      ]
     },
     "execution_count": 44,
     "metadata": {},
     "output_type": "execute_result"
    }
   ],
   "source": [
    "def negative_of_matrix(m):\n",
    "    rows= len(m)\n",
    "    columns= len(m[0])\n",
    "    \n",
    "    tmatrix = [ [ 0 for i in range(columns) ] for j in range(rows) ]\n",
    "    for i in range(rows):\n",
    "        for j in range(columns):\n",
    "            tmatrix[i][j]=-1*m[i][j]\n",
    "    return tmatrix\n",
    "\n",
    "negative_of_matrix([[1,2],[3,4]])"
   ]
  },
  {
   "cell_type": "code",
   "execution_count": 9,
   "id": "ba65a418",
   "metadata": {},
   "outputs": [
    {
     "data": {
      "text/plain": [
       "[[8, 12], [16, 20]]"
      ]
     },
     "execution_count": 9,
     "metadata": {},
     "output_type": "execute_result"
    }
   ],
   "source": [
    "# matrix multiplication \n",
    "# scalar multiplication => multiple matrix by contant\n",
    "\n",
    "def scalarmult(matrix,scalar):\n",
    "    \n",
    "    return [ [i*scalar for i in j] for j in matrix]\n",
    "\n",
    "\n",
    "mat=[[2,3],[4,5]]\n",
    "scalar=4\n",
    "\n",
    "scalarmult(mat, scalar)"
   ]
  },
  {
   "cell_type": "code",
   "execution_count": null,
   "id": "5170ee39",
   "metadata": {},
   "outputs": [],
   "source": [
    "#Convert expession into matrix\n",
    "#2x+y=6 and 3x +2y=8 => [[2, 1][3,2]]* [x, y]= [6,8]"
   ]
  },
  {
   "cell_type": "code",
   "execution_count": 28,
   "id": "72d1396e",
   "metadata": {},
   "outputs": [],
   "source": [
    "# two matrix-> you can multiple matrix when rows of matrix1 equal to columns of matrix 2\n",
    "# rule => m1 row 1 element(n) =>0 to n-1 => sum((i, n) * (n,j))\n",
    "\n",
    "def matrixmul(m1,m2):\n",
    "    rows= len(m1)\n",
    "    columns= len(m2[0])\n",
    "    tmatrix = [ [ 0 for i in range(columns) ] for j in range(rows) ]\n",
    "    \n",
    "    for i in range(rows):\n",
    "        for j in range(columns):\n",
    "            val=0\n",
    "            for k in range(len(m1[0])):\n",
    "                val +=( m1[i][k] * m2[k][j])\n",
    "            print     \n",
    "            tmatrix[i][j]=val\n",
    "    return tmatrix       "
   ]
  },
  {
   "cell_type": "code",
   "execution_count": 33,
   "id": "8b1020fb",
   "metadata": {},
   "outputs": [
    {
     "data": {
      "text/plain": [
       "[[140, 146], [320, 335]]"
      ]
     },
     "execution_count": 33,
     "metadata": {},
     "output_type": "execute_result"
    }
   ],
   "source": [
    "#matrixmul([[1,2,3],[0,2,1],[1,2,5]], [[1,0],[0,1],[2,1]])\n",
    "#matrixmul([[1,0],[2,3]], [[1,1],[-1,2]])\n",
    "#matrixmul([[1,2,3],[3,4,2],[3,2,1]], [[1,1,1],[3,4,2],[3,2,1]])\n",
    "matrixmul([[1,2,3],[4,5,6]], [[10,11],[20,21],[30,31]])\n"
   ]
  },
  {
   "cell_type": "code",
   "execution_count": 39,
   "id": "b5fb7e6e",
   "metadata": {},
   "outputs": [
    {
     "data": {
      "text/plain": [
       "[[33, 39, 33], [72, 87, 78], [92, 115, 114]]"
      ]
     },
     "execution_count": 39,
     "metadata": {},
     "output_type": "execute_result"
    }
   ],
   "source": [
    "def matrixSq(m):\n",
    "    return matrixmul(m,m)\n",
    "matrixSq([[1,2,3],[4,5,6],[8,9,6]])"
   ]
  },
  {
   "cell_type": "code",
   "execution_count": 5,
   "id": "4a7360df",
   "metadata": {},
   "outputs": [],
   "source": [
    "# place sign [ [2,3,4],[6,8,7],[1,2,3]] =>[[+,-,+],[-,+,-],[+,-,+]]\n",
    "# minor =0,0= [[8,7],[2,3]] = 8*3 -7*2=10\n",
    "# cofactor= 24-14=10 *placesign\n",
    "# adjoint of matrix=transpose of(cofactor of each element)\n",
    "# inverse of matrix = ajoint of matrix/ determinant\n",
    "# determinant= Sum(row one value* cofactor with sign)\n"
   ]
  },
  {
   "cell_type": "code",
   "execution_count": 62,
   "id": "12a0b254",
   "metadata": {},
   "outputs": [],
   "source": [
    "#matrix determinant\n",
    "def mat_determination(m):\n",
    "    rows= len(m)\n",
    "    columns=len(m[0])\n",
    "    \n",
    "    det=0\n",
    "    ispositive=True\n",
    "    tmatrx_r=0\n",
    "    tmatrx_c=0\n",
    "    if rows==2:\n",
    "        det=m[0][0]* m[1][1]- m[0][1]* m[1][0]\n",
    "        \n",
    "    else :\n",
    "        \n",
    "        for k in range(columns): \n",
    "            tmatrix = [ [ 0 for i in range(columns-1) ] for j in range(rows-1) ]\n",
    "            for i in range(1, rows):\n",
    "                for j in range(columns):\n",
    "                    if j != k:\n",
    "                        tmatrix[tmatrx_r][tmatrx_c]= m[i][j]\n",
    "                        tmatrx_c +=1\n",
    "                tmatrx_c=0\n",
    "                tmatrx_r +=1\n",
    "            \n",
    "            tmatrx_c = 0\n",
    "            tmatrx_r = 0           \n",
    "            if ispositive:\n",
    "                det += m[0][k]* mat_determination(tmatrix) \n",
    "            else:\n",
    "                det -= m[0][k]* mat_determination(tmatrix) \n",
    "            #print (tmatrix)\n",
    "           \n",
    "            #print (ispositive)\n",
    "            ispositive = not ispositive    \n",
    "    \n",
    "    \n",
    "    return det\n",
    "    \n",
    "#matrix=[[4,2],[2,2]]  \n",
    "#matrix= [[6,3,1],[1,2,0],[2,4,2]]\n",
    "#matrix=[[4,4],[4,4]]  \n",
    "#matrix= [[5,2,1],[0,6,3],[8,4,7]]\n",
    "#mat_determination(matrix)\n",
    "#mat_determination(singular_matrix) #detrminant of singular matrix is 0"
   ]
  },
  {
   "cell_type": "code",
   "execution_count": null,
   "id": "59d7b2d2",
   "metadata": {},
   "outputs": [],
   "source": []
  },
  {
   "cell_type": "code",
   "execution_count": 55,
   "id": "67c654b4",
   "metadata": {},
   "outputs": [
    {
     "data": {
      "text/plain": [
       "[[150, 48, -48], [0, 162, -12], [0, -60, 210]]"
      ]
     },
     "execution_count": 55,
     "metadata": {},
     "output_type": "execute_result"
    }
   ],
   "source": [
    "# inverse of matrix \n",
    "# place sign [ [2,3,4],[6,8,7],[1,2,3]] =>[[+,-,+],[-,+,-],[+,-,+]]\n",
    "# minor =0,0= [[8,7],[2,3]] = 8*3 -7*2=10\n",
    "# cofactor= 24-14=10 *placesign\n",
    "# adjoint of matrix=transpose of(cofactor of each element)\n",
    "# inverse of matrix = ajoint of matrix/ determinant\n",
    "# determinant= Sum(row one value* cofactor with sign)\n",
    "\n",
    "\n",
    "def getPlaceSign(matrix, index_i,index_j):\n",
    "    isPositive=True\n",
    "    \n",
    "    rows= len(matrix)\n",
    "    columns= len(matrix[0])\n",
    "    \n",
    "    for i in range(rows):\n",
    "        for j in range(columns):\n",
    "            if i == index_i and j== index_j:\n",
    "                return isPositive\n",
    "            else:\n",
    "                isPositive = not isPositive\n",
    "    return isPositive\n",
    "    \n",
    "def get_minor(matrix, index_i,index_j):\n",
    "    rows= len(matrix)\n",
    "    columns= len(matrix[0])\n",
    "    tmatrx_r=0\n",
    "    tmatrx_c=0\n",
    "    tmatrix = [ [ 0 for i in range(columns-1) ] for j in range(rows-1) ]\n",
    "    for i in range(rows):\n",
    "        for j in range(columns):\n",
    "            if i == index_i or j== index_j:\n",
    "                continue\n",
    "            else:\n",
    "                #print(i,j)\n",
    "                #print(tmatrx_r,tmatrx_c)\n",
    "                tmatrix[tmatrx_r][tmatrx_c]= matrix[i][j]\n",
    "                tmatrx_c +=1    \n",
    "        tmatrx_c = 0\n",
    "        if i == index_i :\n",
    "            continue\n",
    "        else:\n",
    "            tmatrx_r += 1  \n",
    "    return  tmatrix[0][0]* tmatrix[1][1]- tmatrix[0][1]* tmatrix[1][0] \n",
    "\n",
    "def confactor_matrix(matrix):\n",
    "    rows= len(matrix)\n",
    "    columns= len(matrix[0])\n",
    "    cofactor= 0\n",
    "    tmatrix = [ [ 0 for i in range(columns) ] for j in range(rows) ]\n",
    "    for i in range(rows):\n",
    "        for j in range(columns):\n",
    "            sign=getPlaceSign(mat, i,j)\n",
    "            if sign:\n",
    "                tmatrix[i][j]= (1* matrix[i][j] * get_minor(mat, i,j))\n",
    "                #cofactor= matrix[i][j] * get_minor(mat, i,j)\n",
    "            else:\n",
    "                tmatrix[i][j]=  (-1* matrix[i][j] * get_minor(mat, i,j))\n",
    "    return tmatrix\n",
    "    \n",
    "mat= [[5,2,1],[0,6,3],[8,4,7]] \n",
    "\n",
    "#getPlaceSign(mat, 1,0)  \n",
    "#get_minor(mat, 2,2)  \n",
    "#confactor_matrix(mat)\n",
    "\n",
    " # to find inverse= transpose (confactor_matrix(mat))/ mat_determination(mat)\n",
    "\n",
    "\n"
   ]
  },
  {
   "cell_type": "code",
   "execution_count": 67,
   "id": "68568cb4",
   "metadata": {},
   "outputs": [],
   "source": [
    "# cramer's rule\n",
    "'''\n",
    "equation \n",
    "x+y+z= a\n",
    "x+y+z= a\n",
    "x+y+z= a\n",
    "\n",
    "x = determminant of(a,y,z)/(determinant(x,y,z)\n",
    "same way y and z by subsituting y and z\n",
    "'''\n",
    "equations=[[2,-1,5,27],[3,-2,1,-3],[4,3,2,24]]\n",
    "\n",
    "def solve_equation_carmers(equations):\n",
    "    rows=len(equations)\n",
    "    columns= len(equations[0])\n",
    "    matrix = [ [ 0 for i in range(columns-1) ] for j in range(rows) ]    \n",
    "    matrix_xyz=[]\n",
    "    for i in range(rows):\n",
    "        matrix_xyz.append( [ [ 0 for i in range(columns-1) ] for j in range(rows) ]   )\n",
    "    for k in range(len(matrix_xyz)):\n",
    "        for i in range(rows):\n",
    "            for j in range(columns-1):\n",
    "                matrix[i][j]=equations[i][j]\n",
    "                if k==j:\n",
    "                    matrix_xyz[k][i][j]=equations[i][columns-1]\n",
    "                else:\n",
    "                    matrix_xyz[k][i][j]=equations[i][j]\n",
    "                    \n",
    "            \n",
    "    value=[]\n",
    "    for mat in matrix_xyz:\n",
    "        #print (mat)\n",
    "        #print(mat_determination(mat))\n",
    "        #print(mat_determination(matrix))\n",
    "        value.append(mat_determination(mat)/mat_determination(matrix))\n",
    "    #print (value)\n",
    "    #print (matrix_xyz)\n",
    "    #print(matrix)\n",
    "    \n",
    "solve_equation_carmers(equations) \n",
    "                            \n",
    "                            "
   ]
  },
  {
   "cell_type": "markdown",
   "id": "5508d3b7",
   "metadata": {},
   "source": [
    "#### EigenValue and EigenVector"
   ]
  },
  {
   "cell_type": "code",
   "execution_count": null,
   "id": "d52f6b7f",
   "metadata": {},
   "outputs": [],
   "source": [
    "#Matrix * vector = C * vector => c=EigenValue abd vector = EigenVector\n",
    "'''\n",
    "Ax=cx\n",
    "Ax-cx=0\n",
    "(A-c)x=0\n",
    "(A-cI)x=0 => I is identity matrix and anynumber multiply by I remain same\n",
    "|A-cI|=0\n",
    "'''"
   ]
  },
  {
   "cell_type": "markdown",
   "id": "4b8b391b",
   "metadata": {},
   "source": [
    "#### Eucidean Distance and Manhattan Distance"
   ]
  },
  {
   "cell_type": "code",
   "execution_count": null,
   "id": "ed235d2a",
   "metadata": {},
   "outputs": [],
   "source": [
    "#Eucidean Ditance use pythgorus theorm  => sqrt(delta(x)**2 +delta(y)**2 )\n",
    "#Manhanttan use sum (absolute distance) where you cannot go streight from point 1 to point 2 => |delta x| +|delta y|"
   ]
  },
  {
   "cell_type": "code",
   "execution_count": 11,
   "id": "0ad077ff",
   "metadata": {},
   "outputs": [
    {
     "data": {
      "text/plain": [
       "2.23606797749979"
      ]
     },
     "execution_count": 11,
     "metadata": {},
     "output_type": "execute_result"
    }
   ],
   "source": [
    "import math\n",
    "def shortest_distance_eucidenn(point1,point2):\n",
    "    delta_x= (pow((point1[0]-point2[0]),2))\n",
    "    delta_y= (pow((point1[1]-point2[1]),2))\n",
    "    \n",
    "    return math.sqrt(delta_x + delta_y)\n",
    "    #math.sqrt(pow((point1[0]-point2[0]),2))\n",
    "    \n",
    "shortest_distance_eucidenn((1,2),(2,4))\n",
    "    "
   ]
  },
  {
   "cell_type": "code",
   "execution_count": 13,
   "id": "1150fda1",
   "metadata": {},
   "outputs": [
    {
     "data": {
      "text/plain": [
       "3"
      ]
     },
     "execution_count": 13,
     "metadata": {},
     "output_type": "execute_result"
    }
   ],
   "source": [
    "import math\n",
    "def shortest_distance_manhattan(point1,point2):\n",
    "    delta_x_abs= (abs(point1[0]-point2[0]))\n",
    "    delta_y_abs= (abs(point1[1]-point2[1]))\n",
    "    \n",
    "    return delta_x_abs + delta_y_abs\n",
    "    #math.sqrt(pow((point1[0]-point2[0]),2))\n",
    "    \n",
    "shortest_distance_manhattan((1,2),(2,4))"
   ]
  },
  {
   "cell_type": "code",
   "execution_count": null,
   "id": "1ed2a35c",
   "metadata": {},
   "outputs": [],
   "source": []
  },
  {
   "cell_type": "markdown",
   "id": "a3891ed3",
   "metadata": {},
   "source": [
    "## Indices and log"
   ]
  },
  {
   "cell_type": "code",
   "execution_count": 1,
   "id": "196af010",
   "metadata": {},
   "outputs": [],
   "source": [
    "# Indices law\n",
    "\n",
    "# x**2 * x**3= x**(2+3) \n",
    "# x**2 / x**3= x**(2-3) \n",
    "# x**0=1\n",
    "# x** -a= 1/x**a\n",
    "# (x**a)**b= x**ab\n",
    "# x**1/a= a root of x\n",
    "# x** b/a= (a root of x)** b"
   ]
  },
  {
   "cell_type": "code",
   "execution_count": 3,
   "id": "53c54d28",
   "metadata": {},
   "outputs": [],
   "source": [
    "#Log law\n",
    "\n",
    "# 8=2**3=> log2(8)=3\n",
    "\n",
    "#loga(xy)= loga(x)+ loga(y) => a is base\n",
    "#loga(x/y)= loga(x)- loga(y) => a is base\n",
    "#loga(x**n)= n Loga(x)\n",
    "#loga(1)=0\n",
    "#loga(a)=1\n",
    "#loga(a**n)=n\n",
    "# a** loga(x)=x \n",
    "# if log a b= c then log b a=1/c \n",
    "# log a b= 1/log b a \n",
    "\n",
    "\n",
    "#log x y= log z y/ log z x\n",
    "#log = log of base 10\n",
    "#ln= log of base e , e= 2.718..."
   ]
  },
  {
   "cell_type": "markdown",
   "id": "27fe6b08",
   "metadata": {},
   "source": [
    "# Calculas"
   ]
  },
  {
   "cell_type": "code",
   "execution_count": null,
   "id": "9d22911b",
   "metadata": {},
   "outputs": [],
   "source": [
    "#todo\n",
    "#Gradient of straing line => Change in y by change in x for point 1 and point2\n",
    "\n",
    "# Gradient of curve line\n",
    "\n",
    "# First principle\n",
    "#general formula y=x , y = 2x2\n",
    "#Second Derivative\n",
    "# chain rule dy/dx= dy/dz*dz/dx"
   ]
  },
  {
   "cell_type": "code",
   "execution_count": null,
   "id": "1709c693",
   "metadata": {},
   "outputs": [],
   "source": [
    "## Differentiation\n",
    "## change in y with change in x=> dy/dx =Lim~>0 "
   ]
  },
  {
   "cell_type": "code",
   "execution_count": 2,
   "id": "bfa85dd2",
   "metadata": {},
   "outputs": [
    {
     "data": {
      "text/plain": [
       "1.5"
      ]
     },
     "execution_count": 2,
     "metadata": {},
     "output_type": "execute_result"
    }
   ],
   "source": [
    "#Gradient of straing line\n",
    "\n",
    "\n",
    "def gradient_straightline(point1, point2):\n",
    "    change_in_y= point2[1]-point1[1]\n",
    "    change_in_x= point2[0]-point1[0]\n",
    "    \n",
    "    \n",
    "    gradient=change_in_y/change_in_x\n",
    "    return gradient\n",
    "\n",
    "gradient_straightline((4,6),(8,12))"
   ]
  },
  {
   "cell_type": "markdown",
   "id": "7189d690",
   "metadata": {},
   "source": [
    "## Differentiation\n",
    "## First Principle\n",
    "#### y=x =>dy/dx= 1\n",
    "#### General formula=> y=x**n=> dy/dx= nx**(n-1) \n",
    "## Second Derivative = d(dy/dx)/dx=> d**2 (y)/(dx)**2\n",
    "## special Derivative\n",
    "#### ln x or logex --> 1/x\n",
    "#### e**x          -->e**x same\n",
    "#### sin x= cos x\n",
    "#### cos x --> -sin x\n",
    "#### tan x--> sec**2 x\n",
    "#### cot x --> -cosex **2 x \n",
    "#### sec x --> sec x tan x\n",
    "#### cosec x --> -cosec x cot x\n",
    "## chain Rule = dy/dx= dy/dz * dz/dx\n",
    "\n",
    "### sin**2 x= (sin x) **2\n",
    "### Sin2A= 2 SinAcosA\n",
    "## Product Rule => y= uv => dy/dx=udv + vdu\n",
    "## Quotient Rule => y= u/v => dy/dx = (vdu - udv)/v**2\n",
    "# Integration => opposite of differentiation\n",
    "## i = x**n => x**(n+1)/(n+1)\n",
    "### Indefinate integral 1\n",
    "#### 1/x => ln x\n",
    "#### e**x => e**x\n",
    "#### cosx => sinx\n",
    "#### sinx => -cosx \n",
    "### Indefinate integral 2   -> subsitute is needed \n",
    "### Definate integral 1  ->  here we will get the value of k\n",
    "### Definate integral 2 Lower and upper limit is provided   X  (find value and the subsitute range )\n",
    "\n"
   ]
  },
  {
   "cell_type": "markdown",
   "id": "c579f56a",
   "metadata": {},
   "source": [
    "# Area under Curve(AUC)\n",
    "### Find First derivative to get turning point  as at turning point dy/dx=0\n",
    "### Find min max by second derivative  if -ve its max else its min and find x, y of that point\n",
    "### find intersection at x and y that x=> where y =0 and y=> where x is 0\n",
    "### draw curve and the find Definate integral with range at z"
   ]
  },
  {
   "cell_type": "code",
   "execution_count": null,
   "id": "9471e864",
   "metadata": {},
   "outputs": [],
   "source": []
  },
  {
   "cell_type": "markdown",
   "id": "a01c9552",
   "metadata": {},
   "source": [
    "# Permutation and combination"
   ]
  },
  {
   "cell_type": "code",
   "execution_count": 39,
   "id": "7877abc4",
   "metadata": {},
   "outputs": [],
   "source": [
    "#factorial n!"
   ]
  },
  {
   "cell_type": "code",
   "execution_count": 40,
   "id": "29b1db96",
   "metadata": {},
   "outputs": [],
   "source": [
    "def fact_n(n):\n",
    "    if n<=1:\n",
    "        return 1\n",
    "    else:\n",
    "        return n * fact_n(n-1)"
   ]
  },
  {
   "cell_type": "code",
   "execution_count": 41,
   "id": "e4d1110f",
   "metadata": {},
   "outputs": [
    {
     "data": {
      "text/plain": [
       "6"
      ]
     },
     "execution_count": 41,
     "metadata": {},
     "output_type": "execute_result"
    }
   ],
   "source": [
    "fact_n(3)"
   ]
  },
  {
   "cell_type": "code",
   "execution_count": 42,
   "id": "aad94dc2",
   "metadata": {},
   "outputs": [
    {
     "data": {
      "text/plain": [
       "362880"
      ]
     },
     "execution_count": 42,
     "metadata": {},
     "output_type": "execute_result"
    }
   ],
   "source": [
    "fact_n(9)"
   ]
  },
  {
   "cell_type": "markdown",
   "id": "2817eed5",
   "metadata": {},
   "source": [
    "### Permutation => nPr => n!/(n-r)!  arrangement  => AB not equal to BA ---Order matter\n",
    "###  ABC = AB AC BA CA BC CB\n",
    "\n",
    "### Combination => nCr => n!/(n-r)!* r!  selection =>AB=AB -- order does not matter  - Unique\n",
    "###  ABC = AB AC BC\n",
    "\n",
    "### Cyclic Permutaion = (n-1)!\n",
    "\n",
    "### How many x with repetition x*(np1) \n",
    "### How many x without repetition (np1)(n-1p1)....x times \n",
    "\n",
    "\n",
    "### MANGO => 5p1* 4p1*3p1....= 5*4*3*2*1= 5! if And O to be together that is 4! *2\n",
    "### CHEESE -> 5! /3! because EEE or EE is same\n"
   ]
  },
  {
   "cell_type": "code",
   "execution_count": null,
   "id": "b6312baf-dee5-49cb-976a-a6d05db009f4",
   "metadata": {},
   "outputs": [],
   "source": [
    "# In case of permutation\n",
    "#ABLE = 4!\n",
    "#SLEEP = 5!/2!\n",
    "#EVALUATE=8!/2!2!  Repetitionals are divided\n",
    "If there is a possible of AA then we consiter as 1 as AA should always be together AE or EA then consider as one but two combination so result *2"
   ]
  },
  {
   "cell_type": "code",
   "execution_count": 4,
   "id": "b5cc2ac3",
   "metadata": {},
   "outputs": [
    {
     "name": "stdout",
     "output_type": "stream",
     "text": [
      "120\n"
     ]
    }
   ],
   "source": [
    "#Python\n",
    "\n",
    "import math\n",
    "num=5\n",
    "result= math.factorial(num)\n",
    "print(result)"
   ]
  },
  {
   "cell_type": "code",
   "execution_count": 6,
   "id": "b1f90d9e",
   "metadata": {},
   "outputs": [
    {
     "name": "stdout",
     "output_type": "stream",
     "text": [
      "120.0\n"
     ]
    }
   ],
   "source": [
    "import scipy.special\n",
    "num=5\n",
    "result= scipy.special.factorial(num, exact= True) # exact will convert float to int\n",
    "print(result)"
   ]
  },
  {
   "cell_type": "code",
   "execution_count": 8,
   "id": "7a244378",
   "metadata": {},
   "outputs": [
    {
     "name": "stdout",
     "output_type": "stream",
     "text": [
      "10\n",
      "10.0\n"
     ]
    }
   ],
   "source": [
    "#1. Compute the number of combinations of n objects taken r at a time using Python's math library\n",
    "\n",
    "import math\n",
    "import scipy.special\n",
    "\n",
    "n = 5\n",
    "r = 2\n",
    "result = math.comb(n, r)\n",
    "print(result)\n",
    "\n",
    "result1 = scipy.special.comb(n, r)\n",
    "print(result1)\n"
   ]
  },
  {
   "cell_type": "code",
   "execution_count": 10,
   "id": "186958cd",
   "metadata": {},
   "outputs": [
    {
     "name": "stdout",
     "output_type": "stream",
     "text": [
      "20\n",
      "20.0\n"
     ]
    }
   ],
   "source": [
    "import math\n",
    "import scipy.special\n",
    "\n",
    "n = 5\n",
    "r = 2\n",
    "result = math.perm(n, r)\n",
    "print(result)\n",
    "\n",
    "result1 = scipy.special.perm(n, r)\n",
    "print(result1)"
   ]
  },
  {
   "cell_type": "code",
   "execution_count": null,
   "id": "e6f4b565",
   "metadata": {},
   "outputs": [],
   "source": []
  },
  {
   "cell_type": "markdown",
   "id": "0c4ad101",
   "metadata": {},
   "source": [
    "# Probability\n",
    "\n",
    "#### Probability is between 0 to 1 or 0% to 100% , if 0 its impossible\n",
    "#### coin = 1/2, dice= 1/6 or card= 1/52 and  1/4 if heart is needed\n",
    "#### Sample Space\n",
    "#### Experiment for output, Sample, Event\n",
    "#### 0 <= Probability <=1\n",
    "#### number of required outcome/ total possible outball -> {B,B,R,R,R} for B probability = 2/5\n",
    "#### Theoritical Probility \n",
    "#### Empirical or experimental probability"
   ]
  },
  {
   "cell_type": "code",
   "execution_count": 1,
   "id": "9c16d132",
   "metadata": {
    "tags": []
   },
   "outputs": [],
   "source": [
    "#General Probability\n",
    "#A bag contain 9 identical ball, 3 blue, 2 white and remaining red. if probability ob blue ball is 3/9 and not red is 5/9"
   ]
  },
  {
   "cell_type": "code",
   "execution_count": 21,
   "id": "95570b90-6aa7-45fc-a6fc-abad9018f49c",
   "metadata": {
    "tags": []
   },
   "outputs": [],
   "source": [
    "# Theoretical Probability (No experiment involved)\n",
    "#Three fair coins are tossed once . the probability of getting two tails is? \n",
    "#HHH, HHT, HTH,HTT, THH, THT,TTH,TTT => 4/8=>1/2"
   ]
  },
  {
   "cell_type": "code",
   "execution_count": 3,
   "id": "097f19b9-8984-4865-8ad2-aef8a6fee45b",
   "metadata": {
    "tags": []
   },
   "outputs": [],
   "source": [
    "#Empirical or experimental probability\n",
    "#A survey ask 120 people about fav season. what is that randomly selected person prefer spring {Spring:30, summer 40, Autumn:35, Winter 15} 30/120=>1/4"
   ]
  },
  {
   "cell_type": "code",
   "execution_count": 5,
   "id": "54b6f4b3-bf8a-404b-b158-606728c66301",
   "metadata": {
    "tags": []
   },
   "outputs": [],
   "source": [
    "# Additional rule (that is OR condition) +"
   ]
  },
  {
   "cell_type": "code",
   "execution_count": 22,
   "id": "64ad54aa-d981-4869-a9d5-d3c3c4f4d721",
   "metadata": {
    "tags": []
   },
   "outputs": [],
   "source": [
    "# Mutually exclusive : If two event do not share anything in comman\n",
    "# P(A or B) = P(A) + P(B)\n",
    "# A number is chossen from {15,16,17,...32} .\n",
    "# Probability of multiple of 7 =>2/18\n",
    "# a prime number =>5/18\n",
    "# a prime or multiple of 7 = 2/18+ 5/18=> 7/18"
   ]
  },
  {
   "cell_type": "code",
   "execution_count": 23,
   "id": "2fb8a2db-9eac-4d49-a304-c51350a55aa3",
   "metadata": {
    "tags": []
   },
   "outputs": [],
   "source": [
    "#Non mutually exclusive : if two event share something in common\n",
    "# P(A or B) = P(A) + P(B) - P(A and B)\n",
    "# A box contain 40 numbers from 1 to 40 . what is the probability the number is either prime or multiple of 5\n",
    "# prime=>12/40\n",
    "# multiple of 5=> 8/40\n",
    "# soP-  12/40+ 8/40 - 1/40=19/40\n"
   ]
  },
  {
   "cell_type": "code",
   "execution_count": 24,
   "id": "19d68256-3a79-4b57-b87b-e2f4545e7ee9",
   "metadata": {
    "tags": []
   },
   "outputs": [],
   "source": [
    "## Multiplication rule P = A and B (And condition)"
   ]
  },
  {
   "cell_type": "code",
   "execution_count": 10,
   "id": "de3d4c45-e973-42b9-acd4-18dbc603755c",
   "metadata": {
    "tags": []
   },
   "outputs": [],
   "source": [
    "# Independent Event \n",
    "# P(A And B) = P(A)*P(B)\n",
    "#Three ball are drwan from box of 8 red, 6 white and 4 black ball. Find the probability they are drawn in red, while and than black if replaced\n",
    "\n",
    "#P= (8/18)*(6/18)*(4/18)"
   ]
  },
  {
   "cell_type": "code",
   "execution_count": 11,
   "id": "2c969115-5a91-423b-acbc-78bc4023f751",
   "metadata": {
    "tags": []
   },
   "outputs": [],
   "source": [
    "# Dependent Event\n",
    "#P(A and B) = P (A) * P(B|A) b when A has occurred\n",
    "# 5 red ball 7 green ball . probability of one red and green\n",
    "\n",
    "#we dont know the order so \n",
    "#if red first 5/12* 7/11\n",
    "#if green first 7/12* 5/11\n",
    "#either combination will be there so or 5/12* 7/11 + 7/12* 5/11"
   ]
  },
  {
   "cell_type": "code",
   "execution_count": 12,
   "id": "3297bb17-e345-4c76-b56e-8b220e0e4a48",
   "metadata": {
    "tags": []
   },
   "outputs": [],
   "source": [
    "# Conditional probability  P(A|B) A when B has occurred => A(A and B)/ P (B)\n",
    "\n",
    "#In a class of 30 strudent, 18 basket ball , 12 soccer and 5 both . probability of selecting basketball one that play soccer also?\n",
    "# (5/30) /(18/30)"
   ]
  },
  {
   "cell_type": "code",
   "execution_count": 13,
   "id": "2eda0a0d-7d63-4094-8390-be75f4747a2a",
   "metadata": {
    "tags": []
   },
   "outputs": [],
   "source": [
    "# Theorem of total probability => Set= (A1,A2,A3... , An}\n",
    "# condition \n",
    "# A1 U A2... uAn = Set\n",
    "# No overlapping => A1n A2 n .. An={}\n",
    "# Against emptyness => ai!={}\n",
    "#so if B is over A1, A2, A3  , Sum of all probability\n",
    "#P(B/A1)* P(A1) + P(B/A2)* P(A2)\n",
    "\n",
    "#A car company 60 % EV, 40 Gas , GPS EV =90 and GPS Gas = 70 , probability of Gas \n",
    "# 90*60 + 70*40"
   ]
  },
  {
   "cell_type": "code",
   "execution_count": 14,
   "id": "8038c03b-708e-4735-883e-fcaf09526c56",
   "metadata": {
    "tags": []
   },
   "outputs": [],
   "source": [
    "#Decision Tree\n",
    "# Make a decsion tree and check for replacement or without replacement\n",
    "# Bag= 6 red, 4 blue. Probability of 1 red 1 blue\n",
    "# P= 6/20*4/9"
   ]
  },
  {
   "cell_type": "code",
   "execution_count": 15,
   "id": "86a64398-f102-4600-87fc-be4724c9fff0",
   "metadata": {
    "tags": []
   },
   "outputs": [],
   "source": [
    "#A software company has bug 60% code, 30% deisgn and 10 % other , fixable 90%code, 80% design 50 % other . Selection of fixable bug\n",
    "\n",
    "#(.6*.9) +(.3*.8) + (.1*.5)"
   ]
  },
  {
   "cell_type": "code",
   "execution_count": 16,
   "id": "66a6bd12-3d47-4c34-ae2a-cf665b4a1d68",
   "metadata": {
    "tags": []
   },
   "outputs": [],
   "source": [
    "#Bayes Theorem \n",
    "\n",
    "#Conditional probability is Probalility of A when B is done, now with bayes theorem you can valculate probability of B when A is doone\n",
    "\n",
    "#Probability of P(A/B) = (P(B/A)* P(A))/P(B)=> Probability of B is sum of all B scenario"
   ]
  },
  {
   "cell_type": "code",
   "execution_count": 17,
   "id": "7a09b9ac-dc0d-4ee1-b50a-94e72fb8fc5f",
   "metadata": {
    "tags": []
   },
   "outputs": [],
   "source": [
    "#True Positive \n",
    "#False Positive\n",
    "#True Negative\n",
    "#False Negative\n",
    "\n",
    "#TP +FN=1 = TN +FP"
   ]
  },
  {
   "cell_type": "code",
   "execution_count": 27,
   "id": "18bc678b-1a87-4bdb-b569-7fa5e1fec8f3",
   "metadata": {
    "tags": []
   },
   "outputs": [],
   "source": [
    "# Sensitivity & Specificity\n",
    "##  Sensitivity \n",
    "### Sen= True Positive/(True Positive + False Negative)\n",
    "## Specificity\n",
    "### Spe= True Negative/(True Negative + False Positive)\n",
    "\n",
    "# So it can be used to calculate strenght and weeknesses\n",
    "#TP=300, FP=25,TN=1625,FN=50\n",
    "#Sen= 300/(300+50)\n",
    "#Spe =1625/(1625+25)"
   ]
  },
  {
   "cell_type": "code",
   "execution_count": 19,
   "id": "9bd9d771-119e-4da4-add6-91a9b2cb1446",
   "metadata": {
    "tags": []
   },
   "outputs": [],
   "source": [
    "\n",
    "# Random variable => 0 for tail and 1 for head , Check variable section \n",
    "# discrete\n",
    "# for example in case of dice X={1,2,3,4,5,6}\n",
    "# continuous"
   ]
  },
  {
   "cell_type": "code",
   "execution_count": 25,
   "id": "c95c16f6-b51f-4b9d-8f5a-1e9126f4c552",
   "metadata": {
    "tags": []
   },
   "outputs": [],
   "source": [
    "# Binomial Probability Distribution\n",
    "# n= no of experiment (independent experiement)\n",
    "# success = K\n",
    "# Probability of success and failiure of indiviual = P and Q => P+Q=1\n",
    "\n",
    "# Property\n",
    "# fixed no. of trial (n)\n",
    "# each experiement has two outcome (p=success)\n",
    "# Trail are independent,\n",
    "# it work on discrete values\n",
    "# mean= n*p\n",
    "\n",
    "# Probability of desire output (x) = nCx * p**x  * q ** (n-x) => n = trail and x is number of success,p =probaility of indiviual success and q is probability of faliure\n",
    "\n"
   ]
  },
  {
   "cell_type": "code",
   "execution_count": 29,
   "id": "a3fd84d2-1550-4b7b-b161-b3c80276ef35",
   "metadata": {
    "tags": []
   },
   "outputs": [
    {
     "data": {
      "text/plain": [
       "'\\n\\nIf x denote the number of heads in a single toss of 5 fair coins , \\nfind probability of x=1\\np=1/2\\nq=1/2\\nn=5\\nP(r=1)= 5c1(1/2)**1(1/2)**5-1\\n\\nprobablity of x<3\\np(r=0) +p(r=1) + p(r=2)\\n\\n'"
      ]
     },
     "execution_count": 29,
     "metadata": {},
     "output_type": "execute_result"
    }
   ],
   "source": [
    "'''\n",
    "\n",
    "If x denote the number of heads in a single toss of 5 fair coins , \n",
    "find probability of x=1\n",
    "p=1/2\n",
    "q=1/2\n",
    "n=5\n",
    "P(r=1)= 5c1(1/2)**1(1/2)**5-1\n",
    "\n",
    "probablity of x<3\n",
    "p(r=0) +p(r=1) + p(r=2)\n",
    "\n",
    "'''"
   ]
  },
  {
   "cell_type": "code",
   "execution_count": 28,
   "id": "4a827239-20c6-4d02-9a66-204301e6b79f",
   "metadata": {
    "tags": []
   },
   "outputs": [
    {
     "data": {
      "text/plain": [
       "' \\nA discrete distribution with event happening in specific time\\nP=(e** -y) * (y**x)/x!\\nx=>0,1,2,3..n\\ny=np<=5 p<=.1\\n'"
      ]
     },
     "execution_count": 28,
     "metadata": {},
     "output_type": "execute_result"
    }
   ],
   "source": [
    "# Poisson Distribution\n",
    "''' \n",
    "A discrete distribution with event happening in specific time\n",
    "P=(e** -y) * (y**x)/x!\n",
    "x=>0,1,2,3..n\n",
    "y=np<=5 p<=.1\n",
    "'''"
   ]
  },
  {
   "cell_type": "code",
   "execution_count": 30,
   "id": "bc76d283-1365-4e1a-8a86-ed97c59e61b3",
   "metadata": {
    "tags": []
   },
   "outputs": [
    {
     "data": {
      "text/plain": [
       "'\\nNornal Distribution & gaussioan distribution\\nbell curve\\nDistribution is symentric\\nmiddle is mean\\nstandard deviation-1 to 1=68.268%\\n-2 to 2= 95.45\\n-3 to 3= 99.73\\nall =100%\\n\\nz score= ((x(observation)- mean)/standard deviation)\\n\\nSkrewness -> movement of tail \\nif tail on right =>positive\\nif tail on left => negative\\n\\nKurtosis --shriking of curve\\n>3  shrik and move up(max)\\n<3  think and move down(max)\\n\\nT distribution => extreme change more that normal distribution \\n\\n\\n'"
      ]
     },
     "execution_count": 30,
     "metadata": {},
     "output_type": "execute_result"
    }
   ],
   "source": [
    "'''\n",
    "Nornal Distribution & gaussioan distribution\n",
    "bell curve\n",
    "Distribution is symentric\n",
    "middle is mean\n",
    "standard deviation-1 to 1=68.268%\n",
    "-2 to 2= 95.45\n",
    "-3 to 3= 99.73\n",
    "all =100%\n",
    "\n",
    "z score= ((x(observation)- mean)/standard deviation)\n",
    "\n",
    "Skrewness -> movement of tail \n",
    "if tail on right =>positive\n",
    "if tail on left => negative\n",
    "\n",
    "Kurtosis --shriking of curve\n",
    ">3  shrik and move up(max)\n",
    "<3  think and move down(max)\n",
    "\n",
    "T distribution => extreme change more that normal distribution \n",
    "\n",
    "\n",
    "'''\n"
   ]
  },
  {
   "cell_type": "code",
   "execution_count": 31,
   "id": "942213fe-eeda-4bf0-a2eb-60acdd7f9c31",
   "metadata": {
    "tags": []
   },
   "outputs": [
    {
     "data": {
      "text/plain": [
       "'\\nP(first sucess) = ((1-P)** n-1 )*P\\nie n-1 unsucess probability * probability of success\\nmean= 1/p\\nstandard deviation=(1-P)/P**2\\n\\nYou are flipping coin. probability of getting head on 3rd flip\\nP= ((1-1/2)**(3-1)) * 1/2\\n1/2 probablity of getting head\\n'"
      ]
     },
     "execution_count": 31,
     "metadata": {},
     "output_type": "execute_result"
    }
   ],
   "source": [
    "#geometric Distribution\n",
    "#In how my bernoulli try you will get your fist success\n",
    "'''\n",
    "P(first sucess) = ((1-P)** n-1 )*P\n",
    "ie n-1 unsucess probability * probability of success\n",
    "mean= 1/p\n",
    "standard deviation=(1-P)/P**2\n",
    "\n",
    "You are flipping coin. probability of getting head on 3rd flip\n",
    "P= ((1-1/2)**(3-1)) * 1/2\n",
    "1/2 probablity of getting head\n",
    "'''\n",
    "\n"
   ]
  },
  {
   "cell_type": "code",
   "execution_count": null,
   "id": "070efdce-192f-4ea0-ba04-1e062fa244d4",
   "metadata": {},
   "outputs": [],
   "source": [
    "Hypergeometric distribution\n",
    "'''\n",
    "40 student =>20 boys & 20 girls\n",
    "sample =9 , chossing 2 girls\n",
    "N=40\n",
    "n=9\n",
    "K=20\n",
    "k=2\n",
    "\n",
    "P= (KCk * ((N-K)C(n-k)))/NCn\n",
    "Mean= nk/N\n",
    "varience =(nk(N-K)(N-n))/(N**2)(N-1)\n",
    "\n",
    "'''\n",
    "\n",
    "Binominal vs Hyper (hyper depends on sample)\n",
    "Geometry = no. of trial for success"
   ]
  }
 ],
 "metadata": {
  "kernelspec": {
   "display_name": "Python 3 (ipykernel)",
   "language": "python",
   "name": "python3"
  },
  "language_info": {
   "codemirror_mode": {
    "name": "ipython",
    "version": 3
   },
   "file_extension": ".py",
   "mimetype": "text/x-python",
   "name": "python",
   "nbconvert_exporter": "python",
   "pygments_lexer": "ipython3",
   "version": "3.11.3"
  }
 },
 "nbformat": 4,
 "nbformat_minor": 5
}
