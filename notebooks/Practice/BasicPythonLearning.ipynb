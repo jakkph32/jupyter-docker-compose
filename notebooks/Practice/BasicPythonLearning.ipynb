{
 "cells": [
  {
   "cell_type": "markdown",
   "id": "68ad4b38",
   "metadata": {},
   "source": [
    "................Randamisation"
   ]
  },
  {
   "cell_type": "code",
   "execution_count": 1,
   "id": "0441601e",
   "metadata": {},
   "outputs": [],
   "source": [
    "import random"
   ]
  },
  {
   "cell_type": "code",
   "execution_count": 2,
   "id": "14004feb",
   "metadata": {},
   "outputs": [],
   "source": [
    "i= random.randint(1,10)"
   ]
  },
  {
   "cell_type": "code",
   "execution_count": 3,
   "id": "a3375699",
   "metadata": {},
   "outputs": [
    {
     "data": {
      "text/plain": [
       "6"
      ]
     },
     "execution_count": 3,
     "metadata": {},
     "output_type": "execute_result"
    }
   ],
   "source": [
    "i"
   ]
  },
  {
   "cell_type": "code",
   "execution_count": 4,
   "id": "06dd60d9",
   "metadata": {},
   "outputs": [
    {
     "data": {
      "text/plain": [
       "int"
      ]
     },
     "execution_count": 4,
     "metadata": {},
     "output_type": "execute_result"
    }
   ],
   "source": [
    "type(i)"
   ]
  },
  {
   "cell_type": "code",
   "execution_count": 5,
   "id": "e3930c5a",
   "metadata": {},
   "outputs": [],
   "source": [
    "random_f= random.random()"
   ]
  },
  {
   "cell_type": "code",
   "execution_count": 6,
   "id": "7424b180",
   "metadata": {},
   "outputs": [
    {
     "data": {
      "text/plain": [
       "0.824926139488396"
      ]
     },
     "execution_count": 6,
     "metadata": {},
     "output_type": "execute_result"
    }
   ],
   "source": [
    "random_f"
   ]
  },
  {
   "cell_type": "code",
   "execution_count": 7,
   "id": "a83e5bcd",
   "metadata": {},
   "outputs": [
    {
     "data": {
      "text/plain": [
       "0.824926139488396"
      ]
     },
     "execution_count": 7,
     "metadata": {},
     "output_type": "execute_result"
    }
   ],
   "source": [
    "random_f"
   ]
  },
  {
   "cell_type": "code",
   "execution_count": 9,
   "id": "37b003ca",
   "metadata": {},
   "outputs": [],
   "source": [
    "random_f_five= random.random() *5"
   ]
  },
  {
   "cell_type": "code",
   "execution_count": 10,
   "id": "faba33a1",
   "metadata": {},
   "outputs": [
    {
     "data": {
      "text/plain": [
       "1.55698704385419"
      ]
     },
     "execution_count": 10,
     "metadata": {},
     "output_type": "execute_result"
    }
   ],
   "source": [
    "random_f_five"
   ]
  },
  {
   "cell_type": "code",
   "execution_count": 11,
   "id": "44d3bfb0",
   "metadata": {},
   "outputs": [],
   "source": [
    "myList= [1,2,3,4]"
   ]
  },
  {
   "cell_type": "code",
   "execution_count": 12,
   "id": "8e69280d",
   "metadata": {},
   "outputs": [],
   "source": [
    "myList.append(5)"
   ]
  },
  {
   "cell_type": "code",
   "execution_count": 14,
   "id": "9cd4e21a",
   "metadata": {},
   "outputs": [
    {
     "data": {
      "text/plain": [
       "[1, 2, 3, 4, 5]"
      ]
     },
     "execution_count": 14,
     "metadata": {},
     "output_type": "execute_result"
    }
   ],
   "source": [
    "myList"
   ]
  },
  {
   "cell_type": "code",
   "execution_count": 15,
   "id": "40cbb86d",
   "metadata": {},
   "outputs": [],
   "source": [
    "myList.extend([1,2,4])"
   ]
  },
  {
   "cell_type": "code",
   "execution_count": 16,
   "id": "bf0a74b8",
   "metadata": {},
   "outputs": [
    {
     "data": {
      "text/plain": [
       "[1, 2, 3, 4, 5, 1, 2, 4]"
      ]
     },
     "execution_count": 16,
     "metadata": {},
     "output_type": "execute_result"
    }
   ],
   "source": [
    "myList"
   ]
  },
  {
   "cell_type": "code",
   "execution_count": 17,
   "id": "4cbec734",
   "metadata": {},
   "outputs": [],
   "source": [
    "myList.insert(6,10)"
   ]
  },
  {
   "cell_type": "code",
   "execution_count": 18,
   "id": "96d849e8",
   "metadata": {},
   "outputs": [
    {
     "data": {
      "text/plain": [
       "[1, 2, 3, 4, 5, 1, 10, 2, 4]"
      ]
     },
     "execution_count": 18,
     "metadata": {},
     "output_type": "execute_result"
    }
   ],
   "source": [
    "myList"
   ]
  },
  {
   "cell_type": "code",
   "execution_count": 19,
   "id": "48fa6f37",
   "metadata": {},
   "outputs": [],
   "source": [
    "myList.remove(10)"
   ]
  },
  {
   "cell_type": "code",
   "execution_count": 20,
   "id": "7b6ae602",
   "metadata": {},
   "outputs": [
    {
     "data": {
      "text/plain": [
       "[1, 2, 3, 4, 5, 1, 2, 4]"
      ]
     },
     "execution_count": 20,
     "metadata": {},
     "output_type": "execute_result"
    }
   ],
   "source": [
    "myList"
   ]
  },
  {
   "cell_type": "code",
   "execution_count": 22,
   "id": "2048d976",
   "metadata": {},
   "outputs": [
    {
     "data": {
      "text/plain": [
       "4"
      ]
     },
     "execution_count": 22,
     "metadata": {},
     "output_type": "execute_result"
    }
   ],
   "source": [
    "myList[7]"
   ]
  },
  {
   "cell_type": "code",
   "execution_count": 23,
   "id": "8bdb107b",
   "metadata": {},
   "outputs": [],
   "source": [
    "fruits=[\"Apple\", \"Peach\",\"Pear\"]"
   ]
  },
  {
   "cell_type": "code",
   "execution_count": 24,
   "id": "435ca039",
   "metadata": {},
   "outputs": [
    {
     "name": "stdout",
     "output_type": "stream",
     "text": [
      "Apple\n",
      "Peach\n",
      "Pear\n"
     ]
    }
   ],
   "source": [
    "for fruit in fruits:\n",
    "    print (fruit)"
   ]
  },
  {
   "cell_type": "code",
   "execution_count": 25,
   "id": "5db696f8",
   "metadata": {},
   "outputs": [
    {
     "name": "stdout",
     "output_type": "stream",
     "text": [
      "1\n",
      "2\n",
      "3\n",
      "4\n",
      "5\n",
      "6\n",
      "7\n",
      "8\n",
      "9\n"
     ]
    }
   ],
   "source": [
    "for num in range(1,10):\n",
    "    print (num)"
   ]
  },
  {
   "cell_type": "code",
   "execution_count": 27,
   "id": "05ba463e",
   "metadata": {},
   "outputs": [
    {
     "name": "stdout",
     "output_type": "stream",
     "text": [
      "1\n",
      "3\n",
      "5\n",
      "7\n",
      "9\n"
     ]
    }
   ],
   "source": [
    "for num in range (1,10,2):\n",
    "    print (num)"
   ]
  },
  {
   "cell_type": "code",
   "execution_count": 32,
   "id": "ffd5e874",
   "metadata": {},
   "outputs": [
    {
     "name": "stdout",
     "output_type": "stream",
     "text": [
      "Welcome to the PyPassword Generator!\n",
      "How many letters would you like in your password?\n",
      "12\n",
      "How many symbols would you like?\n",
      "3\n",
      "How many numbers would you like?\n",
      "3\n",
      "['T', 'W', 'm', 'a', 'Z', 'z', 'k', 'c', 'Z', 'b', 'v', 'A', ')', '%', '&', '9', '4', '4']\n",
      "['4', '%', '4', 'b', 'k', 'Z', 'z', '&', ')', 'a', 'T', 'A', 'Z', 'm', '9', 'v', 'W', 'c']\n",
      "4%4bkZz&)aTAZm9vWc\n"
     ]
    }
   ],
   "source": [
    "import random\n",
    "letters = ['a', 'b', 'c', 'd', 'e', 'f', 'g', 'h', 'i', 'j', 'k', 'l', 'm', 'n', 'o', 'p', 'q', 'r', 's', 't', 'u', 'v', 'w', 'x', 'y', 'z', 'A', 'B', 'C', 'D', 'E', 'F', 'G', 'H', 'I', 'J', 'K', 'L', 'M', 'N', 'O', 'P', 'Q', 'R', 'S', 'T', 'U', 'V', 'W', 'X', 'Y', 'Z']\n",
    "numbers = ['0', '1', '2', '3', '4', '5', '6', '7', '8', '9']\n",
    "symbols = ['!', '#', '$', '%', '&', '(', ')', '*', '+']\n",
    "\n",
    "print(\"Welcome to the PyPassword Generator!\")\n",
    "nr_letters= int(input(\"How many letters would you like in your password?\\n\")) \n",
    "nr_symbols = int(input(f\"How many symbols would you like?\\n\"))\n",
    "nr_numbers = int(input(f\"How many numbers would you like?\\n\"))\n",
    "\n",
    "\n",
    "password_char=[]\n",
    "\n",
    "for n in range(0,nr_letters):\n",
    "  password_char.append(random.choice(letters)) \n",
    "for n in range(0,nr_symbols):\n",
    "  password_char.append(random.choice(symbols)) \n",
    "for n in range(0,nr_numbers):\n",
    "  password_char.append(random.choice(numbers)) \n",
    "\n",
    "\n",
    "print(password_char)\n",
    "\n",
    "random.shuffle(password_char)\n",
    "\n",
    "print(password_char)\n",
    "\n",
    "\n",
    "my_password=\"\"\n",
    "\n",
    "for char in password_char:\n",
    "    my_password += char\n",
    "    \n",
    "print(my_password)"
   ]
  },
  {
   "cell_type": "markdown",
   "id": "068202b1",
   "metadata": {},
   "source": [
    "####Functions"
   ]
  },
  {
   "cell_type": "markdown",
   "id": "9ae6a8ee",
   "metadata": {},
   "source": [
    "##### Functions"
   ]
  },
  {
   "cell_type": "code",
   "execution_count": 2,
   "id": "544d5b7e",
   "metadata": {},
   "outputs": [
    {
     "name": "stdout",
     "output_type": "stream",
     "text": [
      "Hello\n",
      "how do you do?\n"
     ]
    }
   ],
   "source": [
    "def greet():\n",
    "    print(\"Hello\")\n",
    "    print(\"how do you do?\")\n",
    "\n",
    "greet()"
   ]
  },
  {
   "cell_type": "code",
   "execution_count": 3,
   "id": "2977c04d",
   "metadata": {},
   "outputs": [
    {
     "name": "stdout",
     "output_type": "stream",
     "text": [
      "Check this number: 5\n",
      "It's a prime number.\n"
     ]
    }
   ],
   "source": [
    "#Write your code below this line 👇\n",
    "def prime_checker(number):\n",
    "    isPrimeNumber=True\n",
    "    for n in range(2,number):\n",
    "        if number % n==0:\n",
    "            isPrimeNumber =False\n",
    "    \n",
    "    if isPrimeNumber:\n",
    "        print(\"It's a prime number.\")\n",
    "    else:\n",
    "        print(\"It's not a prime number.\")\n",
    "\n",
    "\n",
    "\n",
    "#Write your code above this line 👆\n",
    "    \n",
    "#Do NOT change any of the code below👇\n",
    "n = int(input(\"Check this number: \"))\n",
    "prime_checker(number=n)"
   ]
  },
  {
   "cell_type": "code",
   "execution_count": 4,
   "id": "3c239ae0",
   "metadata": {},
   "outputs": [
    {
     "name": "stdout",
     "output_type": "stream",
     "text": [
      "Jhskjhkjshd Kjsjlsjlksd Kljskljsdljld Akjhahjlhalhla\n"
     ]
    }
   ],
   "source": [
    "non_title_value=\"jhskjhkjshd kjsjlsjlksd kljskljsdljld AKJHAHJLHALHLA\"\n",
    "print(non_title_value.title())"
   ]
  },
  {
   "cell_type": "markdown",
   "id": "c0f02d49",
   "metadata": {},
   "source": [
    "# Calculator"
   ]
  },
  {
   "cell_type": "code",
   "execution_count": 10,
   "id": "53078522",
   "metadata": {},
   "outputs": [
    {
     "name": "stdout",
     "output_type": "stream",
     "text": [
      "What's the first number?:1\n",
      "+\n",
      "-\n",
      "*\n",
      "/\n",
      "Pick an operation from the line above:+\n",
      "What's the second number?:4\n",
      "1 + 4 = 5\n",
      "Type 'y' to continue calculating with {}, or type 'n' to exit:y\n",
      "Pick an operation:+\n",
      "What's the next number?:6\n",
      "5 + 6 = 11\n",
      "Type 'y' to continue calculating with {}, or type 'n' to exit:y\n",
      "Pick an operation:-\n",
      "What's the next number?:2\n",
      "11 - 2 = 9\n",
      "Type 'y' to continue calculating with {}, or type 'n' to exit:n\n"
     ]
    }
   ],
   "source": [
    "\n",
    "\n",
    "#Calculator\n",
    "\n",
    "#Add\n",
    "def add(n1, n2):\n",
    "    return n1 + n2\n",
    "#Subtract\n",
    "def subtract(n1, n2):\n",
    "    return n1 - n2\n",
    "#Multiple\n",
    "def multiple(n1, n2):\n",
    "    return n1 * n2\n",
    "#Divide\n",
    "def divide(n1, n2):\n",
    "    return n1 / n2\n",
    "\n",
    "operations={ \n",
    "    \"+\":add,\n",
    "    \"-\":subtract,\n",
    "    \"*\":multiple,\n",
    "    \"/\":divide\n",
    "}\n",
    "\n",
    "num1= int(input(\"What's the first number?:\"))\n",
    "for symbol in operations:\n",
    "    print(symbol)\n",
    "    \n",
    "operation_symbol= input(\"Pick an operation from the line above:\")\n",
    "num2= int(input(\"What's the second number?:\"))\n",
    "\n",
    "answer=operations[operation_symbol](num1, num2)\n",
    "\n",
    "print(f\"{num1} {operation_symbol} {num2} = {answer}\")\n",
    "\n",
    "iscontinue =input(\"Type 'y' to continue calculating with {}, or type 'n' to exit:\")\n",
    "\n",
    "while iscontinue=='y':\n",
    "    operation_symbol= input(\"Pick an operation:\")   \n",
    "    nextNum= int(input(\"What's the next number?:\"))\n",
    "    num1New=answer\n",
    "    answer=operations[operation_symbol](num1New, nextNum)\n",
    "    print(f\"{num1New} {operation_symbol} {nextNum} = {answer}\")\n",
    "    iscontinue =input(\"Type 'y' to continue calculating with {}, or type 'n' to exit:\")\n",
    "\n",
    "\n"
   ]
  },
  {
   "cell_type": "markdown",
   "id": "f33fe0a9",
   "metadata": {},
   "source": [
    "## Scope"
   ]
  },
  {
   "cell_type": "code",
   "execution_count": null,
   "id": "ac7d5daf",
   "metadata": {},
   "outputs": [],
   "source": [
    "global_variable=1 #globalscope\n",
    "print(global_variable)\n",
    "\n",
    "def testvariable():\n",
    "    global_variable =2 \n",
    "    print(global_variable) #local scope\n",
    "\n",
    "testvariable()    \n",
    "\n",
    "print(global_variable)\n",
    "\n",
    "for _ in range(2):\n",
    "    global_variable = 3 #global scope\n",
    "\n",
    "print(global_variable)\n",
    "\n",
    "\n",
    "\n",
    "def testvariablewith():\n",
    "    global global_variable\n",
    "    global_variable =4 \n",
    "    print(global_variable) #global scope\n",
    "\n",
    "testvariablewith()\n",
    "print(global_variable)\n",
    "\n",
    "PI=3.14 # contants"
   ]
  },
  {
   "cell_type": "markdown",
   "id": "598ef5ee",
   "metadata": {},
   "source": [
    "## Number Guess game"
   ]
  },
  {
   "cell_type": "code",
   "execution_count": 3,
   "id": "f2549a99",
   "metadata": {},
   "outputs": [
    {
     "name": "stdout",
     "output_type": "stream",
     "text": [
      "Welcome to the Number Guessing Game!\n",
      "I'm thing of a number between 1 and 100.\n",
      "Choose a difficulty. Type 'easy' or 'hard':hard\n",
      "20\n",
      "You have 5 attempt remaining to guess the number.\n",
      "Make a guess:50\n",
      "Too high\n",
      "Guess again.\n",
      "You have 4 attempt remaining to guess the number.\n",
      "Make a guess:25\n",
      "Too high\n",
      "Guess again.\n",
      "You have 3 attempt remaining to guess the number.\n",
      "Make a guess:10\n",
      "Too low\n",
      "Guess again.\n",
      "You have 2 attempt remaining to guess the number.\n",
      "Make a guess:15\n",
      "Too low\n",
      "Guess again.\n",
      "You have 1 attempt remaining to guess the number.\n",
      "Make a guess:18\n",
      "Too low\n",
      "Guess again.\n",
      "You Lose.\n"
     ]
    }
   ],
   "source": [
    "import random\n",
    "print(\"Welcome to the Number Guessing Game!\")\n",
    "print(\"I'm thing of a number between 1 and 100.\")\n",
    "difficulty=input(\"Choose a difficulty. Type 'easy' or 'hard':\")\n",
    "\n",
    "attempts = 5\n",
    "if difficulty==\"easy\":\n",
    "    attempts =10\n",
    "actual_number=random.randint(1,101)\n",
    "print (actual_number)\n",
    "hasWin=False\n",
    "while attempts>0:\n",
    "    print(f\"You have {attempts} attempt remaining to guess the number.\")\n",
    "    guess_number=int(input(\"Make a guess:\"))\n",
    "    if actual_number == guess_number:\n",
    "        hasWin= True\n",
    "        break;\n",
    "    elif(actual_number < guess_number):\n",
    "        print(\"Too high\")\n",
    "    else:\n",
    "        print(\"Too low\")\n",
    "    print (\"Guess again.\")\n",
    "    attempts -= 1\n",
    "if hasWin:\n",
    "    print(\"You Win.\")\n",
    "else:\n",
    "    print(\"You Lose.\")\n",
    "    \n"
   ]
  },
  {
   "cell_type": "code",
   "execution_count": 1,
   "id": "94c30648",
   "metadata": {},
   "outputs": [
    {
     "name": "stdout",
     "output_type": "stream",
     "text": [
      "0.6469193223286404\n",
      "0.7625584504796027\n"
     ]
    }
   ],
   "source": [
    "import math\n",
    "print (math.cos(26))\n",
    "print (math.sin(26))"
   ]
  },
  {
   "cell_type": "markdown",
   "id": "1d765995",
   "metadata": {},
   "source": [
    "# HOC"
   ]
  },
  {
   "cell_type": "code",
   "execution_count": 6,
   "id": "2b67a4f3",
   "metadata": {},
   "outputs": [],
   "source": [
    "#Function return Function\n",
    "\n",
    "\n",
    "def to_the_power(power):\n",
    "    def raise_to_the_power(num):\n",
    "        return num ** power\n",
    "    return raise_to_the_power\n",
    "\n",
    "\n",
    "\n",
    "    "
   ]
  },
  {
   "cell_type": "code",
   "execution_count": 10,
   "id": "fedb8588",
   "metadata": {},
   "outputs": [
    {
     "name": "stdout",
     "output_type": "stream",
     "text": [
      "8\n"
     ]
    }
   ],
   "source": [
    "cube= to_the_power(3)\n",
    "value= cube(2)\n",
    "\n",
    "print(value)"
   ]
  },
  {
   "cell_type": "code",
   "execution_count": 11,
   "id": "6a93b20c",
   "metadata": {},
   "outputs": [
    {
     "name": "stdout",
     "output_type": "stream",
     "text": [
      "4\n"
     ]
    }
   ],
   "source": [
    "sq=to_the_power(2)\n",
    "value= sq(2)\n",
    "print(value)"
   ]
  },
  {
   "cell_type": "code",
   "execution_count": 12,
   "id": "dffd9f25",
   "metadata": {},
   "outputs": [],
   "source": [
    "#Function Accepting Functions\n",
    "\n",
    "def i_accept_function(arg, x,y):\n",
    "    return arg(x,y)\n",
    "    "
   ]
  },
  {
   "cell_type": "code",
   "execution_count": 13,
   "id": "44fe92e1",
   "metadata": {},
   "outputs": [
    {
     "name": "stdout",
     "output_type": "stream",
     "text": [
      "6\n"
     ]
    }
   ],
   "source": [
    "def sum_n(x,y):\n",
    "    return x+y\n",
    "\n",
    "print(i_accept_function(sum_n, 2,4))"
   ]
  },
  {
   "cell_type": "code",
   "execution_count": 14,
   "id": "d54915fd",
   "metadata": {},
   "outputs": [
    {
     "name": "stdout",
     "output_type": "stream",
     "text": [
      "8\n"
     ]
    }
   ],
   "source": [
    "def mul_n(x,y):\n",
    "    return x*y\n",
    "\n",
    "print(i_accept_function(mul_n, 2,4))"
   ]
  },
  {
   "cell_type": "markdown",
   "id": "376a2c79",
   "metadata": {},
   "source": [
    "## recursion"
   ]
  },
  {
   "cell_type": "code",
   "execution_count": 22,
   "id": "c3f83b7f",
   "metadata": {},
   "outputs": [],
   "source": [
    "# Tower of haroi\n",
    "\n",
    "\n",
    "def solve_tower(num, src, tar, aux):\n",
    "    if num>0:\n",
    "        solve_tower(num-1,src, aux, tar)\n",
    "        print(\"Moving \",num,\" from \",src,\" to \",tar)\n",
    "        solve_tower(num-1,aux, tar, src)"
   ]
  },
  {
   "cell_type": "code",
   "execution_count": 24,
   "id": "26ce53a7",
   "metadata": {},
   "outputs": [
    {
     "name": "stdout",
     "output_type": "stream",
     "text": [
      "Moving  1  from  source  to  extra\n",
      "Moving  2  from  source  to  target\n",
      "Moving  1  from  extra  to  target\n"
     ]
    }
   ],
   "source": [
    "solve_tower(2,'source','target','extra')"
   ]
  },
  {
   "cell_type": "code",
   "execution_count": 25,
   "id": "feb12e1f",
   "metadata": {},
   "outputs": [
    {
     "name": "stdout",
     "output_type": "stream",
     "text": [
      "Moving  1  from  source  to  target\n",
      "Moving  2  from  source  to  extra\n",
      "Moving  1  from  target  to  extra\n",
      "Moving  3  from  source  to  target\n",
      "Moving  1  from  extra  to  source\n",
      "Moving  2  from  extra  to  target\n",
      "Moving  1  from  source  to  target\n"
     ]
    }
   ],
   "source": [
    "solve_tower(3,'source','target','extra')"
   ]
  },
  {
   "cell_type": "code",
   "execution_count": 26,
   "id": "5b951193",
   "metadata": {},
   "outputs": [
    {
     "name": "stdout",
     "output_type": "stream",
     "text": [
      "Moving  1  from  source  to  extra\n",
      "Moving  2  from  source  to  target\n",
      "Moving  1  from  extra  to  target\n",
      "Moving  3  from  source  to  extra\n",
      "Moving  1  from  target  to  source\n",
      "Moving  2  from  target  to  extra\n",
      "Moving  1  from  source  to  extra\n",
      "Moving  4  from  source  to  target\n",
      "Moving  1  from  extra  to  target\n",
      "Moving  2  from  extra  to  source\n",
      "Moving  1  from  target  to  source\n",
      "Moving  3  from  extra  to  target\n",
      "Moving  1  from  source  to  extra\n",
      "Moving  2  from  source  to  target\n",
      "Moving  1  from  extra  to  target\n"
     ]
    }
   ],
   "source": [
    "solve_tower(4,'source','target','extra')"
   ]
  },
  {
   "cell_type": "code",
   "execution_count": 7,
   "id": "e7bd8108",
   "metadata": {
    "tags": []
   },
   "outputs": [],
   "source": [
    "def my_multiply(x,y):\n",
    "    if y > 0:\n",
    "        return x + my_multiply(x, y-1)\n",
    "    else:\n",
    "        return 0\n",
    "        "
   ]
  },
  {
   "cell_type": "code",
   "execution_count": 8,
   "id": "b925ec9f-f8f3-4f1b-8772-534201efcc85",
   "metadata": {
    "tags": []
   },
   "outputs": [
    {
     "data": {
      "text/plain": [
       "6"
      ]
     },
     "execution_count": 8,
     "metadata": {},
     "output_type": "execute_result"
    }
   ],
   "source": [
    "my_multiply(2,3)"
   ]
  },
  {
   "cell_type": "code",
   "execution_count": 3,
   "id": "3a0ed941-345a-492a-9cd2-b02230f49495",
   "metadata": {},
   "outputs": [
    {
     "name": "stdout",
     "output_type": "stream",
     "text": [
      "[2, 3, 4]\n"
     ]
    }
   ],
   "source": [
    "numbers=[1,2,3]\n",
    "#Add one to each number\n",
    "\n",
    "new_list=[]\n",
    "for n in numbers:\n",
    "    add_1=n+1\n",
    "    new_list.append(add_1)\n",
    "print (new_list)"
   ]
  },
  {
   "cell_type": "code",
   "execution_count": 5,
   "id": "69c940cc",
   "metadata": {},
   "outputs": [
    {
     "name": "stdout",
     "output_type": "stream",
     "text": [
      "[2, 3, 4]\n"
     ]
    }
   ],
   "source": [
    "numbers=[1,2,3]\n",
    "#List_comprehension\n",
    "\n",
    "new_list =[n+1 for n in numbers]\n",
    "print(new_list)"
   ]
  },
  {
   "cell_type": "markdown",
   "id": "822e3068",
   "metadata": {},
   "source": [
    "# Function with *args and **kargs"
   ]
  },
  {
   "cell_type": "code",
   "execution_count": 1,
   "id": "e66a467f",
   "metadata": {},
   "outputs": [],
   "source": [
    "def add(*args):\n",
    "    total=0\n",
    "    for num in args:\n",
    "        total +=num\n",
    "    return total"
   ]
  },
  {
   "cell_type": "code",
   "execution_count": 2,
   "id": "6aa36471",
   "metadata": {},
   "outputs": [
    {
     "data": {
      "text/plain": [
       "3"
      ]
     },
     "execution_count": 2,
     "metadata": {},
     "output_type": "execute_result"
    }
   ],
   "source": [
    "add(1,2)"
   ]
  },
  {
   "cell_type": "code",
   "execution_count": 4,
   "id": "a4d2217d",
   "metadata": {},
   "outputs": [
    {
     "data": {
      "text/plain": [
       "31"
      ]
     },
     "execution_count": 4,
     "metadata": {},
     "output_type": "execute_result"
    }
   ],
   "source": [
    "add(1,2,3,3,4,5,6,7)"
   ]
  },
  {
   "cell_type": "markdown",
   "id": "f318a42a",
   "metadata": {},
   "source": [
    "# Map & lambda"
   ]
  },
  {
   "cell_type": "code",
   "execution_count": 8,
   "id": "981d701c",
   "metadata": {},
   "outputs": [],
   "source": [
    "def Add(x):\n",
    "    return x + x"
   ]
  },
  {
   "cell_type": "code",
   "execution_count": 3,
   "id": "2912547b",
   "metadata": {},
   "outputs": [
    {
     "data": {
      "text/plain": [
       "<map at 0x249fd6bc970>"
      ]
     },
     "execution_count": 3,
     "metadata": {},
     "output_type": "execute_result"
    }
   ],
   "source": [
    "map(Expo, [2,3])"
   ]
  },
  {
   "cell_type": "code",
   "execution_count": 9,
   "id": "084db309",
   "metadata": {},
   "outputs": [
    {
     "name": "stdout",
     "output_type": "stream",
     "text": [
      "4\n",
      "6\n"
     ]
    }
   ],
   "source": [
    "for i in map(Add, [2,3]):\n",
    "    print (i)"
   ]
  },
  {
   "cell_type": "code",
   "execution_count": 10,
   "id": "f720eb36",
   "metadata": {},
   "outputs": [],
   "source": [
    "sum = lambda x, y: x+y"
   ]
  },
  {
   "cell_type": "code",
   "execution_count": 11,
   "id": "dc5a37ee",
   "metadata": {},
   "outputs": [
    {
     "data": {
      "text/plain": [
       "5"
      ]
     },
     "execution_count": 11,
     "metadata": {},
     "output_type": "execute_result"
    }
   ],
   "source": [
    "sum(2,3)"
   ]
  },
  {
   "cell_type": "code",
   "execution_count": 16,
   "id": "250a8495",
   "metadata": {},
   "outputs": [],
   "source": [
    "x=map(lambda x:x*2, [2,3])"
   ]
  },
  {
   "cell_type": "code",
   "execution_count": 18,
   "id": "fffa31db",
   "metadata": {},
   "outputs": [
    {
     "name": "stdout",
     "output_type": "stream",
     "text": [
      "4\n",
      "6\n"
     ]
    }
   ],
   "source": [
    "for i in x:\n",
    "    print (i)"
   ]
  },
  {
   "cell_type": "markdown",
   "id": "e0f8c5d8",
   "metadata": {},
   "source": [
    "for i in x:"
   ]
  },
  {
   "cell_type": "code",
   "execution_count": 19,
   "id": "8df9b3a1",
   "metadata": {},
   "outputs": [
    {
     "data": {
      "text/plain": [
       "'Ankur'"
      ]
     },
     "execution_count": 19,
     "metadata": {},
     "output_type": "execute_result"
    }
   ],
   "source": [
    "#remove whitespace from right\n",
    "\n",
    "'Ankur      \\n'.rstrip()"
   ]
  },
  {
   "cell_type": "markdown",
   "id": "007d0188",
   "metadata": {},
   "source": [
    "# regular expression"
   ]
  },
  {
   "cell_type": "code",
   "execution_count": 20,
   "id": "d8a3348b",
   "metadata": {},
   "outputs": [
    {
     "name": "stdout",
     "output_type": "stream",
     "text": [
      "['2', '19', '42', '234', '2333']\n"
     ]
    }
   ],
   "source": [
    "import re\n",
    "x= 'My 2 favorite number are 19 and 42. I will love to see 234 and 2333 in the queue.'\n",
    "y= re.findall('[0-9]+',x)\n",
    "print (y)"
   ]
  },
  {
   "cell_type": "code",
   "execution_count": 21,
   "id": "ce8c58f0",
   "metadata": {},
   "outputs": [
    {
     "name": "stdout",
     "output_type": "stream",
     "text": [
      "yes\n"
     ]
    }
   ],
   "source": [
    "import re \n",
    "if re.match(\"a\",\"aaaa\"):\n",
    "    print(\"yes\")\n",
    "else:\n",
    "    print(\"No\")\n"
   ]
  },
  {
   "cell_type": "code",
   "execution_count": 22,
   "id": "9a177a3a",
   "metadata": {},
   "outputs": [
    {
     "name": "stdout",
     "output_type": "stream",
     "text": [
      "No\n"
     ]
    }
   ],
   "source": [
    "import re \n",
    "if re.match(\"a\",\"bbbb\"):\n",
    "    print(\"yes\")\n",
    "else:\n",
    "    print(\"No\")"
   ]
  },
  {
   "cell_type": "code",
   "execution_count": 23,
   "id": "46a7341a",
   "metadata": {},
   "outputs": [],
   "source": [
    "'''\n",
    "to match any single char use . # for two char use ..   t.=>ti, to,; t...=>that, thss\n",
    "^ start with\n",
    "* match all  aa* =>a, aa,aaa\n",
    "+ mean one or more preceding char \n",
    "''' \n"
   ]
  },
  {
   "cell_type": "code",
   "execution_count": null,
   "id": "b6d3d68e-c974-4474-a490-17eb83ee6c3b",
   "metadata": {},
   "outputs": [],
   "source": []
  },
  {
   "cell_type": "code",
   "execution_count": null,
   "id": "7563ea83-6fc0-40f9-88a9-5530be4e5400",
   "metadata": {},
   "outputs": [],
   "source": [
    "#https://docs.python.org/3/library/re.html"
   ]
  },
  {
   "cell_type": "code",
   "execution_count": null,
   "id": "9b9b546b",
   "metadata": {},
   "outputs": [],
   "source": [
    "#* 0 or more "
   ]
  },
  {
   "cell_type": "code",
   "execution_count": 10,
   "id": "fb311743-0e80-4766-a782-c7cd3d455982",
   "metadata": {
    "tags": []
   },
   "outputs": [
    {
     "name": "stdout",
     "output_type": "stream",
     "text": [
      "class A, method1\n",
      "class B, method2\n",
      "class B, method3\n",
      "class A, method1\n",
      "class A, method3\n",
      "class C, method4\n",
      "class B, method2\n",
      "class B, method3\n",
      "class D, method5\n",
      "class A, method1\n",
      "class B, method2\n",
      "class E, method3\n",
      "class A, method6\n"
     ]
    }
   ],
   "source": [
    "## Class inheritence\n",
    "\n",
    "\n",
    "class A:\n",
    "    def method1():\n",
    "        print(\"class A, method1\")\n",
    "    def method3():\n",
    "        print(\"class A, method3\")\n",
    "    def method6():\n",
    "        print(\"class A, method6\")\n",
    "    \n",
    "class B:\n",
    "    def method2():\n",
    "        print(\"class B, method2\")   \n",
    "    def method3():\n",
    "        print(\"class B, method3\")\n",
    "    def method6():\n",
    "        print(\"class B, method6\")\n",
    "              \n",
    "class C(A):\n",
    "    def method4():\n",
    "        print(\"class C, method4\")\n",
    "\n",
    "class D(B):\n",
    "    def method5():\n",
    "        print(\"class D, method5\")\n",
    "    \n",
    "\n",
    "        \n",
    "class E(A,B):\n",
    "    def method3():\n",
    "        print(\"class E, method3\")\n",
    "\n",
    "\n",
    "objA=A()\n",
    "A.method1()\n",
    "\n",
    "objB=B()\n",
    "B.method2()\n",
    "B.method3()\n",
    "\n",
    "objC=C()\n",
    "C.method1()\n",
    "C.method3()\n",
    "C.method4()\n",
    "\n",
    "objD=D()\n",
    "D.method2()\n",
    "D.method3()\n",
    "D.method5()\n",
    "\n",
    "objE=E()\n",
    "E.method1()\n",
    "E.method2()\n",
    "E.method3() ## will call itself\n",
    "E.method6() ## will call A method as it was inherited first, if you want to inherited "
   ]
  },
  {
   "cell_type": "code",
   "execution_count": null,
   "id": "ae06f1a9-b737-46ee-afc9-a39ae2f00df9",
   "metadata": {},
   "outputs": [],
   "source": [
    "PAN \n",
    "\n",
    "PAN has a typical format of ABCTY1234D. The first three characters, i.e. ‘ABC’ in the above number is an alphabetic series ranging between AAA and ZZZ. The 4th character, i.e. ‘T’, represents the PAN holder’s status. The alphabet ‘T’ represents Trust, ‘F’ for Firm, ‘H’ for HUF, ‘P’ for Individual, ‘C’ for Company etc. The 5th character, i.e. ‘Y’, represents the first alphabet the PAN holder’s last name. The next four characters are sequential digits ranging between 0001 and 9999. The 10th character, i.e. ‘D’, is an alphabetic check digit that runs from A to Z.\n",
    "\n"
   ]
  },
  {
   "cell_type": "code",
   "execution_count": null,
   "id": "837bbe8d-f075-4683-91f3-038d3066fccd",
   "metadata": {},
   "outputs": [],
   "source": []
  }
 ],
 "metadata": {
  "kernelspec": {
   "display_name": "Python 3 (ipykernel)",
   "language": "python",
   "name": "python3"
  },
  "language_info": {
   "codemirror_mode": {
    "name": "ipython",
    "version": 3
   },
   "file_extension": ".py",
   "mimetype": "text/x-python",
   "name": "python",
   "nbconvert_exporter": "python",
   "pygments_lexer": "ipython3",
   "version": "3.11.3"
  }
 },
 "nbformat": 4,
 "nbformat_minor": 5
}
